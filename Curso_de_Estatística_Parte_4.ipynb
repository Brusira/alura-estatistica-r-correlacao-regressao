{
  "metadata": {
    "colab": {
      "provenance": []
    },
    "kernelspec": {
      "name": "ir",
      "display_name": "R",
      "language": "R"
    },
    "language_info": {
      "name": "R",
      "codemirror_mode": "r",
      "pygments_lexer": "r",
      "mimetype": "text/x-r-source",
      "file_extension": ".r",
      "version": "4.4.0"
    },
    "kaggle": {
      "accelerator": "none",
      "dataSources": [
        {
          "sourceId": 9068883,
          "sourceType": "datasetVersion",
          "datasetId": 5469981
        },
        {
          "sourceId": 9077517,
          "sourceType": "datasetVersion",
          "datasetId": 5476238
        }
      ],
      "dockerImageVersionId": 30749,
      "isInternetEnabled": false,
      "language": "r",
      "sourceType": "notebook",
      "isGpuEnabled": false
    }
  },
  "nbformat_minor": 0,
  "nbformat": 4,
  "cells": [
    {
      "cell_type": "markdown",
      "source": [
        "# <font color=green size=10>CURSO DE ESTATÍSTICA - PARTE 4</font>\n",
        "***"
      ],
      "metadata": {
        "id": "WvMflodMjQKe"
      }
    },
    {
      "cell_type": "markdown",
      "source": [
        "# <font color=green>1 CONHECENDO OS DADOS</font>\n",
        "***"
      ],
      "metadata": {
        "id": "cVgsZ_E3jQKg"
      }
    },
    {
      "cell_type": "markdown",
      "source": [
        "## <font color=green>1.1 Dataset do projeto</font>\n",
        "***"
      ],
      "metadata": {
        "id": "TDjqYYNojQKh"
      }
    },
    {
      "cell_type": "markdown",
      "source": [
        "### Pesquisa Nacional por Amostra de Domicílios - 2015\n",
        "\n",
        "A <b>Pesquisa Nacional por Amostra de Domicílios - PNAD</b> investiga anualmente, de forma permanente, características gerais da população, de educação, trabalho, rendimento e habitação e outras, com periodicidade variável, de acordo com as necessidades de informação para o país, como as características sobre migração, fecundidade, nupcialidade, saúde, segurança alimentar, entre outros temas. O levantamento dessas estatísticas constitui, ao longo dos 49 anos de realização da pesquisa, um importante instrumento para formulação, validação e avaliação de políticas orientadas para o desenvolvimento socioeconômico e a melhoria das condições de vida no Brasil."
      ],
      "metadata": {
        "id": "iN1gIbaKjQKh"
      }
    },
    {
      "cell_type": "markdown",
      "source": [
        "### Fonte dos Dados\n",
        "\n",
        "https://ww2.ibge.gov.br/home/estatistica/populacao/trabalhoerendimento/pnad2015/microdados.shtm"
      ],
      "metadata": {
        "id": "U6V7br1RjQKi"
      }
    },
    {
      "cell_type": "markdown",
      "source": [
        "### Variáveis utilizadas\n",
        "\n",
        "> ### Renda\n",
        "> ***\n",
        "\n",
        "Rendimento mensal do trabalho principal para pessoas de 10 anos ou mais de idade.\n",
        "\n",
        "> ### Idade\n",
        "> ***\n",
        "\n",
        "Idade do morador na data de referência em anos.\n",
        "\n",
        "> ### Altura (elaboração própria)\n",
        "> ***\n",
        "\n",
        "Altura do morador em metros.\n",
        "\n",
        "> ### UF\n",
        "> ***\n",
        "\n",
        "|Código|Descrição|\n",
        "|---|---|\n",
        "|11|Rondônia|\n",
        "|12|Acre|\n",
        "|13|Amazonas|\n",
        "|14|Roraima|\n",
        "|15|Pará|\n",
        "|16|Amapá|\n",
        "|17|Tocantins|\n",
        "|21|Maranhão|\n",
        "|22|Piauí|\n",
        "|23|Ceará|\n",
        "|24|Rio Grande do Norte|\n",
        "|25|Paraíba|\n",
        "|26|Pernambuco|\n",
        "|27|Alagoas|\n",
        "|28|Sergipe|\n",
        "|29|Bahia|\n",
        "|31|Minas Gerais|\n",
        "|32|Espírito Santo|\n",
        "|33|Rio de Janeiro|\n",
        "|35|São Paulo|\n",
        "|41|Paraná|\n",
        "|42|Santa Catarina|\n",
        "|43|Rio Grande do Sul|\n",
        "|50|Mato Grosso do Sul|\n",
        "|51|Mato Grosso|\n",
        "|52|Goiás|\n",
        "|53|Distrito Federal|\n",
        "\n",
        "> ### Sexo\n",
        "> ***\n",
        "\n",
        "|Código|Descrição|\n",
        "|---|---|\n",
        "|0|Masculino|\n",
        "|1|Feminino|\n",
        "\n",
        "> ### Anos de Estudo\n",
        "> ***\n",
        "\n",
        "|Código|Descrição|\n",
        "|---|---|\n",
        "|1|Sem instrução e menos de 1 ano|\n",
        "|2|1 ano|\n",
        "|3|2 anos|\n",
        "|4|3 anos|\n",
        "|5|4 anos|\n",
        "|6|5 anos|\n",
        "|7|6 anos|\n",
        "|8|7 anos|\n",
        "|9|8 anos|\n",
        "|10|9 anos|\n",
        "|11|10 anos|\n",
        "|12|11 anos|\n",
        "|13|12 anos|\n",
        "|14|13 anos|\n",
        "|15|14 anos|\n",
        "|16|15 anos ou mais|\n",
        "|17|Não determinados|\n",
        "||Não aplicável|\n",
        "\n",
        "> ### Cor\n",
        "> ***\n",
        "\n",
        "|Código|Descrição|\n",
        "|---|---|\n",
        "|0|Indígena|\n",
        "|2|Branca|\n",
        "|4|Preta|\n",
        "|6|Amarela|\n",
        "|8|Parda|\n",
        "|9|Sem declaração|"
      ],
      "metadata": {
        "id": "r0Fe_qnzjQKj"
      }
    },
    {
      "cell_type": "markdown",
      "source": [
        "#### <font color='red'>Observação</font>\n",
        "***\n",
        "> Os seguintes tratamentos foram realizados nos dados originais:\n",
        "> 1. Foram eliminados os registros onde a <b>Renda</b> era inválida (999 999 999 999);\n",
        "> 2. Foram eliminados os registros onde a <b>Renda</b> era missing;\n",
        "> 3. Foram considerados somente os registros das <b>Pessoas de Referência</b> de cada domicílio (responsável pelo domicílio)."
      ],
      "metadata": {
        "id": "OK1IQH5cX7Gb"
      }
    },
    {
      "cell_type": "markdown",
      "source": [
        "### Configurações"
      ],
      "metadata": {
        "id": "MAO1aY6GcajB"
      }
    },
    {
      "cell_type": "code",
      "source": [
        "library(ggplot2)\n",
        "library(dplyr)"
      ],
      "metadata": {
        "id": "8QgOpE-wjQKl",
        "execution": {
          "iopub.status.busy": "2024-07-31T22:30:43.510246Z",
          "iopub.execute_input": "2024-07-31T22:30:43.513722Z",
          "iopub.status.idle": "2024-07-31T22:30:44.009004Z"
        },
        "trusted": true,
        "outputId": "e5d28bd4-e3c2-4559-c39a-0c829f0badac"
      },
      "execution_count": null,
      "outputs": [
        {
          "name": "stderr",
          "text": "\nAttaching package: ‘dplyr’\n\n\nThe following objects are masked from ‘package:stats’:\n\n    filter, lag\n\n\nThe following objects are masked from ‘package:base’:\n\n    intersect, setdiff, setequal, union\n\n\n",
          "output_type": "stream"
        }
      ]
    },
    {
      "cell_type": "code",
      "source": [
        "options(repr.plot.width = 7, repr.plot.height = 4)"
      ],
      "metadata": {
        "execution": {
          "iopub.status.busy": "2024-07-31T22:30:44.016883Z",
          "iopub.execute_input": "2024-07-31T22:30:44.050562Z",
          "iopub.status.idle": "2024-07-31T22:30:44.064241Z"
        },
        "trusted": true,
        "id": "r2lIq0psBBGH"
      },
      "execution_count": null,
      "outputs": []
    },
    {
      "cell_type": "markdown",
      "source": [
        "### Lendo o dataset do projeto"
      ],
      "metadata": {
        "id": "8Rw70V6ojQKk"
      }
    },
    {
      "cell_type": "code",
      "source": [
        "dados <- read.csv('/kaggle/input/dados/dados.csv')"
      ],
      "metadata": {
        "id": "ufRZ7TLwjQKo",
        "execution": {
          "iopub.status.busy": "2024-07-31T22:30:44.071292Z",
          "iopub.execute_input": "2024-07-31T22:30:44.072829Z",
          "iopub.status.idle": "2024-07-31T22:30:44.327595Z"
        },
        "trusted": true
      },
      "execution_count": null,
      "outputs": []
    },
    {
      "cell_type": "code",
      "source": [
        "head(dados)"
      ],
      "metadata": {
        "colab": {
          "base_uri": "https://localhost:8080/",
          "height": 204
        },
        "id": "GsC_WhLFjQKq",
        "outputId": "864c083b-7233-49f5-a7bf-94c31169f30f",
        "scrolled": true,
        "execution": {
          "iopub.status.busy": "2024-07-31T22:30:44.331224Z",
          "iopub.execute_input": "2024-07-31T22:30:44.332865Z",
          "iopub.status.idle": "2024-07-31T22:30:44.380990Z"
        },
        "trusted": true
      },
      "execution_count": null,
      "outputs": [
        {
          "output_type": "display_data",
          "data": {
            "text/html": "<table class=\"dataframe\">\n<caption>A data.frame: 6 × 7</caption>\n<thead>\n\t<tr><th></th><th scope=col>UF</th><th scope=col>Sexo</th><th scope=col>Idade</th><th scope=col>Cor</th><th scope=col>Anos.de.Estudo</th><th scope=col>Renda</th><th scope=col>Altura</th></tr>\n\t<tr><th></th><th scope=col>&lt;int&gt;</th><th scope=col>&lt;int&gt;</th><th scope=col>&lt;int&gt;</th><th scope=col>&lt;int&gt;</th><th scope=col>&lt;int&gt;</th><th scope=col>&lt;int&gt;</th><th scope=col>&lt;dbl&gt;</th></tr>\n</thead>\n<tbody>\n\t<tr><th scope=row>1</th><td>11</td><td>0</td><td>23</td><td>8</td><td>12</td><td> 800</td><td>1.603808</td></tr>\n\t<tr><th scope=row>2</th><td>11</td><td>1</td><td>23</td><td>2</td><td>12</td><td>1150</td><td>1.739790</td></tr>\n\t<tr><th scope=row>3</th><td>11</td><td>1</td><td>35</td><td>8</td><td>15</td><td> 880</td><td>1.760444</td></tr>\n\t<tr><th scope=row>4</th><td>11</td><td>0</td><td>46</td><td>2</td><td> 6</td><td>3500</td><td>1.783158</td></tr>\n\t<tr><th scope=row>5</th><td>11</td><td>1</td><td>47</td><td>8</td><td> 9</td><td> 150</td><td>1.690631</td></tr>\n\t<tr><th scope=row>6</th><td>11</td><td>1</td><td>34</td><td>8</td><td>12</td><td> 790</td><td>1.637906</td></tr>\n</tbody>\n</table>\n",
            "text/markdown": "\nA data.frame: 6 × 7\n\n| <!--/--> | UF &lt;int&gt; | Sexo &lt;int&gt; | Idade &lt;int&gt; | Cor &lt;int&gt; | Anos.de.Estudo &lt;int&gt; | Renda &lt;int&gt; | Altura &lt;dbl&gt; |\n|---|---|---|---|---|---|---|---|\n| 1 | 11 | 0 | 23 | 8 | 12 |  800 | 1.603808 |\n| 2 | 11 | 1 | 23 | 2 | 12 | 1150 | 1.739790 |\n| 3 | 11 | 1 | 35 | 8 | 15 |  880 | 1.760444 |\n| 4 | 11 | 0 | 46 | 2 |  6 | 3500 | 1.783158 |\n| 5 | 11 | 1 | 47 | 8 |  9 |  150 | 1.690631 |\n| 6 | 11 | 1 | 34 | 8 | 12 |  790 | 1.637906 |\n\n",
            "text/latex": "A data.frame: 6 × 7\n\\begin{tabular}{r|lllllll}\n  & UF & Sexo & Idade & Cor & Anos.de.Estudo & Renda & Altura\\\\\n  & <int> & <int> & <int> & <int> & <int> & <int> & <dbl>\\\\\n\\hline\n\t1 & 11 & 0 & 23 & 8 & 12 &  800 & 1.603808\\\\\n\t2 & 11 & 1 & 23 & 2 & 12 & 1150 & 1.739790\\\\\n\t3 & 11 & 1 & 35 & 8 & 15 &  880 & 1.760444\\\\\n\t4 & 11 & 0 & 46 & 2 &  6 & 3500 & 1.783158\\\\\n\t5 & 11 & 1 & 47 & 8 &  9 &  150 & 1.690631\\\\\n\t6 & 11 & 1 & 34 & 8 & 12 &  790 & 1.637906\\\\\n\\end{tabular}\n",
            "text/plain": "  UF Sexo Idade Cor Anos.de.Estudo Renda Altura  \n1 11 0    23    8   12              800  1.603808\n2 11 1    23    2   12             1150  1.739790\n3 11 1    35    8   15              880  1.760444\n4 11 0    46    2    6             3500  1.783158\n5 11 1    47    8    9              150  1.690631\n6 11 1    34    8   12              790  1.637906"
          },
          "metadata": {}
        }
      ]
    },
    {
      "cell_type": "markdown",
      "source": [
        "---"
      ],
      "metadata": {
        "id": "I8SZvx_GcajO"
      }
    },
    {
      "cell_type": "markdown",
      "source": [
        "# <font color=green>2 RODANDO UMA REGRESSÃO LINEAR</font>\n",
        "***"
      ],
      "metadata": {
        "id": "dPTT675fcajP"
      }
    },
    {
      "cell_type": "markdown",
      "source": [
        "## Dataset de exemplo\n",
        "> ### $Y$ = Gasto das famílias\n",
        "> ### $X$ = Renda das Famílias"
      ],
      "metadata": {
        "id": "yRxm2BrFcajQ"
      }
    },
    {
      "cell_type": "code",
      "source": [
        "dataset = data.frame(\n",
        "    Y = c(3011, 1305, 1879, 2654, 2849, 1068, 2892, 2543, 3074, 849, 2184, 2943, 1357, 2755, 2163, 3099, 1600, 353, 1778, 740, 2129, 3302, 2412, 2683, 2515, 2395, 2292, 1000, 600, 1864, 3027, 1978, 2791, 1982, 900, 1964, 1247, 3067, 700, 1500, 3110, 2644, 1378, 2601, 501, 1292, 2125, 1431, 2260, 1770),\n",
        "    X = c(9714, 3728, 6062, 8845, 8378, 3338, 8507, 7947, 9915, 1632, 6825, 8918, 4100, 9184, 6180, 9997, 4500, 1069, 5925, 2466, 6083, 9712, 7780, 8383, 7185, 7483, 7640, 2100, 2000, 6012, 8902, 5345, 8210, 5662, 2700, 6546, 2900, 9894, 1500, 5000, 8885, 8813, 3446, 7881, 1164, 3401, 6641, 3329, 6648, 4800)\n",
        ")"
      ],
      "metadata": {
        "id": "TvENegfwcajQ",
        "execution": {
          "iopub.status.busy": "2024-07-31T22:30:44.383856Z",
          "iopub.execute_input": "2024-07-31T22:30:44.385627Z",
          "iopub.status.idle": "2024-07-31T22:30:44.399178Z"
        },
        "trusted": true
      },
      "execution_count": null,
      "outputs": []
    },
    {
      "cell_type": "code",
      "source": [
        "head(dataset)"
      ],
      "metadata": {
        "colab": {
          "base_uri": "https://localhost:8080/",
          "height": 204
        },
        "id": "HfeWvtFWcajT",
        "outputId": "74959df4-b6bb-488a-a98e-fe77f9393415",
        "execution": {
          "iopub.status.busy": "2024-07-31T22:30:44.401969Z",
          "iopub.execute_input": "2024-07-31T22:30:44.403517Z",
          "iopub.status.idle": "2024-07-31T22:30:44.482407Z"
        },
        "trusted": true
      },
      "execution_count": null,
      "outputs": [
        {
          "output_type": "display_data",
          "data": {
            "text/html": "<table class=\"dataframe\">\n<caption>A data.frame: 6 × 2</caption>\n<thead>\n\t<tr><th></th><th scope=col>Y</th><th scope=col>X</th></tr>\n\t<tr><th></th><th scope=col>&lt;dbl&gt;</th><th scope=col>&lt;dbl&gt;</th></tr>\n</thead>\n<tbody>\n\t<tr><th scope=row>1</th><td>3011</td><td>9714</td></tr>\n\t<tr><th scope=row>2</th><td>1305</td><td>3728</td></tr>\n\t<tr><th scope=row>3</th><td>1879</td><td>6062</td></tr>\n\t<tr><th scope=row>4</th><td>2654</td><td>8845</td></tr>\n\t<tr><th scope=row>5</th><td>2849</td><td>8378</td></tr>\n\t<tr><th scope=row>6</th><td>1068</td><td>3338</td></tr>\n</tbody>\n</table>\n",
            "text/markdown": "\nA data.frame: 6 × 2\n\n| <!--/--> | Y &lt;dbl&gt; | X &lt;dbl&gt; |\n|---|---|---|\n| 1 | 3011 | 9714 |\n| 2 | 1305 | 3728 |\n| 3 | 1879 | 6062 |\n| 4 | 2654 | 8845 |\n| 5 | 2849 | 8378 |\n| 6 | 1068 | 3338 |\n\n",
            "text/latex": "A data.frame: 6 × 2\n\\begin{tabular}{r|ll}\n  & Y & X\\\\\n  & <dbl> & <dbl>\\\\\n\\hline\n\t1 & 3011 & 9714\\\\\n\t2 & 1305 & 3728\\\\\n\t3 & 1879 & 6062\\\\\n\t4 & 2654 & 8845\\\\\n\t5 & 2849 & 8378\\\\\n\t6 & 1068 & 3338\\\\\n\\end{tabular}\n",
            "text/plain": "  Y    X   \n1 3011 9714\n2 1305 3728\n3 1879 6062\n4 2654 8845\n5 2849 8378\n6 1068 3338"
          },
          "metadata": {}
        }
      ]
    },
    {
      "cell_type": "code",
      "source": [
        "nrow(dataset)"
      ],
      "metadata": {
        "colab": {
          "base_uri": "https://localhost:8080/",
          "height": 35
        },
        "id": "NGPOPV1VcajX",
        "outputId": "801add58-89f8-4a20-8218-fa7108f5ac7a",
        "execution": {
          "iopub.status.busy": "2024-07-31T22:30:44.485267Z",
          "iopub.execute_input": "2024-07-31T22:30:44.486844Z",
          "iopub.status.idle": "2024-07-31T22:30:44.503860Z"
        },
        "trusted": true
      },
      "execution_count": null,
      "outputs": [
        {
          "output_type": "display_data",
          "data": {
            "text/html": "50",
            "text/markdown": "50",
            "text/latex": "50",
            "text/plain": "[1] 50"
          },
          "metadata": {}
        }
      ]
    },
    {
      "cell_type": "markdown",
      "source": [
        "### Estatísticas descritivas\n",
        "\n",
        "#### <font color=red>Documentações:\n",
        "\n",
        "- [**summary**](https://www.rdocumentation.org/packages/base/versions/3.6.1/topics/summary)\n",
        "- [**apply**](https://www.rdocumentation.org/packages/base/versions/3.6.1/topics/apply)"
      ],
      "metadata": {
        "id": "y0Lt1C-Ccaja"
      }
    },
    {
      "cell_type": "code",
      "source": [
        "summary(dataset)"
      ],
      "metadata": {
        "colab": {
          "base_uri": "https://localhost:8080/",
          "height": 297
        },
        "id": "POZusgEccajb",
        "outputId": "43d3c550-b52f-48bd-d4a5-32f0b634abed",
        "execution": {
          "iopub.status.busy": "2024-07-31T22:30:44.506732Z",
          "iopub.execute_input": "2024-07-31T22:30:44.508224Z",
          "iopub.status.idle": "2024-07-31T22:30:44.640690Z"
        },
        "trusted": true
      },
      "execution_count": null,
      "outputs": [
        {
          "output_type": "display_data",
          "data": {
            "text/plain": "       Y              X       \n Min.   : 353   Min.   :1069  \n 1st Qu.:1362   1st Qu.:3516  \n Median :2127   Median :6363  \n Mean   :2011   Mean   :6066  \n 3rd Qu.:2676   3rd Qu.:8382  \n Max.   :3302   Max.   :9997  "
          },
          "metadata": {}
        }
      ]
    },
    {
      "cell_type": "code",
      "source": [
        "apply(dataset, 2, sd)"
      ],
      "metadata": {
        "execution": {
          "iopub.status.busy": "2024-07-31T22:30:44.643417Z",
          "iopub.execute_input": "2024-07-31T22:30:44.644921Z",
          "iopub.status.idle": "2024-07-31T22:30:44.663474Z"
        },
        "trusted": true,
        "id": "8cm2ogk8BBGK",
        "outputId": "36231839-8c73-4fb4-f419-d4b3f2ddf156"
      },
      "execution_count": null,
      "outputs": [
        {
          "output_type": "display_data",
          "data": {
            "text/html": "<style>\n.dl-inline {width: auto; margin:0; padding: 0}\n.dl-inline>dt, .dl-inline>dd {float: none; width: auto; display: inline-block}\n.dl-inline>dt::after {content: \":\\0020\"; padding-right: .5ex}\n.dl-inline>dt:not(:first-of-type) {padding-left: .5ex}\n</style><dl class=dl-inline><dt>Y</dt><dd>817.214648195007</dd><dt>X</dt><dd>2707.18781153779</dd></dl>\n",
            "text/markdown": "Y\n:   817.214648195007X\n:   2707.18781153779\n\n",
            "text/latex": "\\begin{description*}\n\\item[Y] 817.214648195007\n\\item[X] 2707.18781153779\n\\end{description*}\n",
            "text/plain": "        Y         X \n 817.2146 2707.1878 "
          },
          "metadata": {}
        }
      ]
    },
    {
      "cell_type": "markdown",
      "source": [
        "### Análise gráfica\n",
        "\n",
        "#### <font color=red>Documentações:\n",
        "\n",
        "- [***package* ggplot2**](https://www.rdocumentation.org/packages/ggplot2)\n",
        "- [**stack**](https://www.rdocumentation.org/packages/utils/versions/3.6.1/topics/stack)"
      ],
      "metadata": {
        "id": "tVozByhrcajd"
      }
    },
    {
      "cell_type": "code",
      "source": [
        "stack(dataset)"
      ],
      "metadata": {
        "scrolled": true,
        "execution": {
          "iopub.status.busy": "2024-07-31T22:30:44.666253Z",
          "iopub.execute_input": "2024-07-31T22:30:44.667772Z",
          "iopub.status.idle": "2024-07-31T22:30:44.717309Z"
        },
        "trusted": true,
        "id": "-ySWIlk-BBGL",
        "outputId": "00ef1bd5-252e-4ec8-ad85-08e35f3e347a"
      },
      "execution_count": null,
      "outputs": [
        {
          "output_type": "display_data",
          "data": {
            "text/html": "<table class=\"dataframe\">\n<caption>A data.frame: 100 × 2</caption>\n<thead>\n\t<tr><th scope=col>values</th><th scope=col>ind</th></tr>\n\t<tr><th scope=col>&lt;dbl&gt;</th><th scope=col>&lt;fct&gt;</th></tr>\n</thead>\n<tbody>\n\t<tr><td>3011</td><td>Y</td></tr>\n\t<tr><td>1305</td><td>Y</td></tr>\n\t<tr><td>1879</td><td>Y</td></tr>\n\t<tr><td>2654</td><td>Y</td></tr>\n\t<tr><td>2849</td><td>Y</td></tr>\n\t<tr><td>1068</td><td>Y</td></tr>\n\t<tr><td>2892</td><td>Y</td></tr>\n\t<tr><td>2543</td><td>Y</td></tr>\n\t<tr><td>3074</td><td>Y</td></tr>\n\t<tr><td> 849</td><td>Y</td></tr>\n\t<tr><td>2184</td><td>Y</td></tr>\n\t<tr><td>2943</td><td>Y</td></tr>\n\t<tr><td>1357</td><td>Y</td></tr>\n\t<tr><td>2755</td><td>Y</td></tr>\n\t<tr><td>2163</td><td>Y</td></tr>\n\t<tr><td>3099</td><td>Y</td></tr>\n\t<tr><td>1600</td><td>Y</td></tr>\n\t<tr><td> 353</td><td>Y</td></tr>\n\t<tr><td>1778</td><td>Y</td></tr>\n\t<tr><td> 740</td><td>Y</td></tr>\n\t<tr><td>2129</td><td>Y</td></tr>\n\t<tr><td>3302</td><td>Y</td></tr>\n\t<tr><td>2412</td><td>Y</td></tr>\n\t<tr><td>2683</td><td>Y</td></tr>\n\t<tr><td>2515</td><td>Y</td></tr>\n\t<tr><td>2395</td><td>Y</td></tr>\n\t<tr><td>2292</td><td>Y</td></tr>\n\t<tr><td>1000</td><td>Y</td></tr>\n\t<tr><td> 600</td><td>Y</td></tr>\n\t<tr><td>1864</td><td>Y</td></tr>\n\t<tr><td>⋮</td><td>⋮</td></tr>\n\t<tr><td>6083</td><td>X</td></tr>\n\t<tr><td>9712</td><td>X</td></tr>\n\t<tr><td>7780</td><td>X</td></tr>\n\t<tr><td>8383</td><td>X</td></tr>\n\t<tr><td>7185</td><td>X</td></tr>\n\t<tr><td>7483</td><td>X</td></tr>\n\t<tr><td>7640</td><td>X</td></tr>\n\t<tr><td>2100</td><td>X</td></tr>\n\t<tr><td>2000</td><td>X</td></tr>\n\t<tr><td>6012</td><td>X</td></tr>\n\t<tr><td>8902</td><td>X</td></tr>\n\t<tr><td>5345</td><td>X</td></tr>\n\t<tr><td>8210</td><td>X</td></tr>\n\t<tr><td>5662</td><td>X</td></tr>\n\t<tr><td>2700</td><td>X</td></tr>\n\t<tr><td>6546</td><td>X</td></tr>\n\t<tr><td>2900</td><td>X</td></tr>\n\t<tr><td>9894</td><td>X</td></tr>\n\t<tr><td>1500</td><td>X</td></tr>\n\t<tr><td>5000</td><td>X</td></tr>\n\t<tr><td>8885</td><td>X</td></tr>\n\t<tr><td>8813</td><td>X</td></tr>\n\t<tr><td>3446</td><td>X</td></tr>\n\t<tr><td>7881</td><td>X</td></tr>\n\t<tr><td>1164</td><td>X</td></tr>\n\t<tr><td>3401</td><td>X</td></tr>\n\t<tr><td>6641</td><td>X</td></tr>\n\t<tr><td>3329</td><td>X</td></tr>\n\t<tr><td>6648</td><td>X</td></tr>\n\t<tr><td>4800</td><td>X</td></tr>\n</tbody>\n</table>\n",
            "text/markdown": "\nA data.frame: 100 × 2\n\n| values &lt;dbl&gt; | ind &lt;fct&gt; |\n|---|---|\n| 3011 | Y |\n| 1305 | Y |\n| 1879 | Y |\n| 2654 | Y |\n| 2849 | Y |\n| 1068 | Y |\n| 2892 | Y |\n| 2543 | Y |\n| 3074 | Y |\n|  849 | Y |\n| 2184 | Y |\n| 2943 | Y |\n| 1357 | Y |\n| 2755 | Y |\n| 2163 | Y |\n| 3099 | Y |\n| 1600 | Y |\n|  353 | Y |\n| 1778 | Y |\n|  740 | Y |\n| 2129 | Y |\n| 3302 | Y |\n| 2412 | Y |\n| 2683 | Y |\n| 2515 | Y |\n| 2395 | Y |\n| 2292 | Y |\n| 1000 | Y |\n|  600 | Y |\n| 1864 | Y |\n| ⋮ | ⋮ |\n| 6083 | X |\n| 9712 | X |\n| 7780 | X |\n| 8383 | X |\n| 7185 | X |\n| 7483 | X |\n| 7640 | X |\n| 2100 | X |\n| 2000 | X |\n| 6012 | X |\n| 8902 | X |\n| 5345 | X |\n| 8210 | X |\n| 5662 | X |\n| 2700 | X |\n| 6546 | X |\n| 2900 | X |\n| 9894 | X |\n| 1500 | X |\n| 5000 | X |\n| 8885 | X |\n| 8813 | X |\n| 3446 | X |\n| 7881 | X |\n| 1164 | X |\n| 3401 | X |\n| 6641 | X |\n| 3329 | X |\n| 6648 | X |\n| 4800 | X |\n\n",
            "text/latex": "A data.frame: 100 × 2\n\\begin{tabular}{ll}\n values & ind\\\\\n <dbl> & <fct>\\\\\n\\hline\n\t 3011 & Y\\\\\n\t 1305 & Y\\\\\n\t 1879 & Y\\\\\n\t 2654 & Y\\\\\n\t 2849 & Y\\\\\n\t 1068 & Y\\\\\n\t 2892 & Y\\\\\n\t 2543 & Y\\\\\n\t 3074 & Y\\\\\n\t  849 & Y\\\\\n\t 2184 & Y\\\\\n\t 2943 & Y\\\\\n\t 1357 & Y\\\\\n\t 2755 & Y\\\\\n\t 2163 & Y\\\\\n\t 3099 & Y\\\\\n\t 1600 & Y\\\\\n\t  353 & Y\\\\\n\t 1778 & Y\\\\\n\t  740 & Y\\\\\n\t 2129 & Y\\\\\n\t 3302 & Y\\\\\n\t 2412 & Y\\\\\n\t 2683 & Y\\\\\n\t 2515 & Y\\\\\n\t 2395 & Y\\\\\n\t 2292 & Y\\\\\n\t 1000 & Y\\\\\n\t  600 & Y\\\\\n\t 1864 & Y\\\\\n\t ⋮ & ⋮\\\\\n\t 6083 & X\\\\\n\t 9712 & X\\\\\n\t 7780 & X\\\\\n\t 8383 & X\\\\\n\t 7185 & X\\\\\n\t 7483 & X\\\\\n\t 7640 & X\\\\\n\t 2100 & X\\\\\n\t 2000 & X\\\\\n\t 6012 & X\\\\\n\t 8902 & X\\\\\n\t 5345 & X\\\\\n\t 8210 & X\\\\\n\t 5662 & X\\\\\n\t 2700 & X\\\\\n\t 6546 & X\\\\\n\t 2900 & X\\\\\n\t 9894 & X\\\\\n\t 1500 & X\\\\\n\t 5000 & X\\\\\n\t 8885 & X\\\\\n\t 8813 & X\\\\\n\t 3446 & X\\\\\n\t 7881 & X\\\\\n\t 1164 & X\\\\\n\t 3401 & X\\\\\n\t 6641 & X\\\\\n\t 3329 & X\\\\\n\t 6648 & X\\\\\n\t 4800 & X\\\\\n\\end{tabular}\n",
            "text/plain": "    values ind\n1   3011   Y  \n2   1305   Y  \n3   1879   Y  \n4   2654   Y  \n5   2849   Y  \n6   1068   Y  \n7   2892   Y  \n8   2543   Y  \n9   3074   Y  \n10   849   Y  \n11  2184   Y  \n12  2943   Y  \n13  1357   Y  \n14  2755   Y  \n15  2163   Y  \n16  3099   Y  \n17  1600   Y  \n18   353   Y  \n19  1778   Y  \n20   740   Y  \n21  2129   Y  \n22  3302   Y  \n23  2412   Y  \n24  2683   Y  \n25  2515   Y  \n26  2395   Y  \n27  2292   Y  \n28  1000   Y  \n29   600   Y  \n30  1864   Y  \n⋮   ⋮      ⋮  \n71  6083   X  \n72  9712   X  \n73  7780   X  \n74  8383   X  \n75  7185   X  \n76  7483   X  \n77  7640   X  \n78  2100   X  \n79  2000   X  \n80  6012   X  \n81  8902   X  \n82  5345   X  \n83  8210   X  \n84  5662   X  \n85  2700   X  \n86  6546   X  \n87  2900   X  \n88  9894   X  \n89  1500   X  \n90  5000   X  \n91  8885   X  \n92  8813   X  \n93  3446   X  \n94  7881   X  \n95  1164   X  \n96  3401   X  \n97  6641   X  \n98  3329   X  \n99  6648   X  \n100 4800   X  "
          },
          "metadata": {}
        }
      ]
    },
    {
      "cell_type": "code",
      "source": [
        "ggplot(stack(dataset), aes(x = ind, y = values)) +\n",
        "    stat_boxplot(geom ='errorbar', width = 0.4) +\n",
        "    geom_boxplot(fill = c('#3274A1', \"orange\")) +\n",
        "    coord_flip() +\n",
        "    xlab(\"Variáveis\") +\n",
        "    ylab(\"Reais (R$)\") +\n",
        "    ggtitle('Box-plot') +\n",
        "    theme(\n",
        "        plot.title=element_text(size = 14, hjust = 0.5),\n",
        "        axis.title.y=element_text(size = 12, vjust = +0.2),\n",
        "        axis.title.x=element_text(size = 12, vjust = -0.2),\n",
        "        axis.text.y=element_text(size = 10),\n",
        "        axis.text.x=element_text(size = 10),\n",
        "    )"
      ],
      "metadata": {
        "colab": {
          "base_uri": "https://localhost:8080/",
          "height": 432
        },
        "id": "xPtAowUacajf",
        "outputId": "999d7778-2e6f-4889-c6ae-230c3f3118ea",
        "execution": {
          "iopub.status.busy": "2024-07-31T22:30:44.720232Z",
          "iopub.execute_input": "2024-07-31T22:30:44.721822Z",
          "iopub.status.idle": "2024-07-31T22:30:45.411020Z"
        },
        "trusted": true
      },
      "execution_count": null,
      "outputs": [
        {
          "output_type": "display_data",
          "data": {
            "image/png": "[encoded data removed]"
          },
          "metadata": {
            "image/png": {
              "width": 420,
              "height": 240
            }
          }
        }
      ]
    },
    {
      "cell_type": "code",
      "source": [
        "ggplot(data = dataset, aes(x = X, y = Y)) +\n",
        "    geom_point(size = 1.5, stroke = 0) +\n",
        "    geom_smooth(method = lm) +\n",
        "    xlab(\"Renda das Famílias\") +\n",
        "    ylab(\"Gasto das Famílias\") +\n",
        "    ggtitle('Reta de Regressão - Gasto X Renda') +\n",
        "    theme(\n",
        "        plot.title=element_text(size = 12, hjust = 0.5),\n",
        "        axis.title.y=element_text(size = 10, vjust = +0.2),\n",
        "        axis.title.x=element_text(size = 10, vjust = -0.2),\n",
        "        axis.text.y=element_text(size = 10),\n",
        "        axis.text.x=element_text(size = 10),\n",
        "    )"
      ],
      "metadata": {
        "execution": {
          "iopub.status.busy": "2024-07-31T22:30:45.414451Z",
          "iopub.execute_input": "2024-07-31T22:30:45.416123Z",
          "iopub.status.idle": "2024-07-31T22:30:47.087993Z"
        },
        "trusted": true,
        "id": "0ju7Ho2QBBGL",
        "outputId": "1364a3f2-abe1-46e5-b23b-0aebcf1cd5c1"
      },
      "execution_count": null,
      "outputs": [
        {
          "name": "stderr",
          "text": "\u001b[1m\u001b[22m`geom_smooth()` using formula = 'y ~ x'\n",
          "output_type": "stream"
        },
        {
          "output_type": "display_data",
          "data": {
            "image/png": "[encoded data removed]"
          },
          "metadata": {
            "image/png": {
              "width": 420,
              "height": 240
            }
          }
        }
      ]
    },
    {
      "cell_type": "markdown",
      "source": [
        "### Análise da correlação\n",
        "\n",
        "#### <font color=red>Documentações:\n",
        "\n",
        "- [**cor**](https://www.rdocumentation.org/packages/stats/versions/3.6.1/topics/cor)"
      ],
      "metadata": {
        "id": "c2OpdF85cajl"
      }
    },
    {
      "cell_type": "code",
      "source": [
        "cor(dataset)"
      ],
      "metadata": {
        "colab": {
          "base_uri": "https://localhost:8080/",
          "height": 111
        },
        "id": "eQEiUOdccajm",
        "outputId": "020089c6-ebe5-4afc-d887-2fb96d1dd90e",
        "scrolled": true,
        "execution": {
          "iopub.status.busy": "2024-07-31T22:30:47.090790Z",
          "iopub.execute_input": "2024-07-31T22:30:47.092281Z",
          "iopub.status.idle": "2024-07-31T22:30:47.113833Z"
        },
        "trusted": true
      },
      "execution_count": null,
      "outputs": [
        {
          "output_type": "display_data",
          "data": {
            "text/html": "<table class=\"dataframe\">\n<caption>A matrix: 2 × 2 of type dbl</caption>\n<thead>\n\t<tr><th></th><th scope=col>Y</th><th scope=col>X</th></tr>\n</thead>\n<tbody>\n\t<tr><th scope=row>Y</th><td>1.0000000</td><td>0.9848352</td></tr>\n\t<tr><th scope=row>X</th><td>0.9848352</td><td>1.0000000</td></tr>\n</tbody>\n</table>\n",
            "text/markdown": "\nA matrix: 2 × 2 of type dbl\n\n| <!--/--> | Y | X |\n|---|---|---|\n| Y | 1.0000000 | 0.9848352 |\n| X | 0.9848352 | 1.0000000 |\n\n",
            "text/latex": "A matrix: 2 × 2 of type dbl\n\\begin{tabular}{r|ll}\n  & Y & X\\\\\n\\hline\n\tY & 1.0000000 & 0.9848352\\\\\n\tX & 0.9848352 & 1.0000000\\\\\n\\end{tabular}\n",
            "text/plain": "  Y         X        \nY 1.0000000 0.9848352\nX 0.9848352 1.0000000"
          },
          "metadata": {}
        }
      ]
    },
    {
      "cell_type": "markdown",
      "source": [
        "### Modelo de regressão linear simples\n",
        "\n",
        "#### <font color=red>Documentações:\n",
        "\n",
        "- [**lm**](https://www.rdocumentation.org/packages/stats/versions/3.6.1/topics/lm)\n",
        "- [**summary.lm**](https://www.rdocumentation.org/packages/stats/versions/3.6.1/topics/summary.lm)"
      ],
      "metadata": {
        "id": "cPOlHTg2cajo"
      }
    },
    {
      "cell_type": "markdown",
      "source": [
        "### Estimando o modelo"
      ],
      "metadata": {
        "id": "Dkg9S5tWcajy"
      }
    },
    {
      "cell_type": "code",
      "source": [
        "resultado_regressao <- lm(formula = Y ~ X, data = dataset)\n",
        "resultado_regressao"
      ],
      "metadata": {
        "id": "9O0dhVTfcajz",
        "execution": {
          "iopub.status.busy": "2024-07-31T22:30:47.116666Z",
          "iopub.execute_input": "2024-07-31T22:30:47.118654Z",
          "iopub.status.idle": "2024-07-31T22:30:47.139133Z"
        },
        "trusted": true,
        "outputId": "1c10caf7-30cc-4541-be7e-d779629e88c7"
      },
      "execution_count": null,
      "outputs": [
        {
          "output_type": "display_data",
          "data": {
            "text/plain": "\nCall:\nlm(formula = Y ~ X, data = dataset)\n\nCoefficients:\n(Intercept)            X  \n   207.9033       0.2973  \n"
          },
          "metadata": {}
        }
      ]
    },
    {
      "cell_type": "code",
      "source": [
        "summary(resultado_regressao)"
      ],
      "metadata": {
        "colab": {
          "base_uri": "https://localhost:8080/",
          "height": 503
        },
        "id": "8W1oGgNecaj0",
        "outputId": "aa4b6d35-1512-4cc2-e502-368cc81a21b2",
        "execution": {
          "iopub.status.busy": "2024-07-31T22:30:47.142049Z",
          "iopub.execute_input": "2024-07-31T22:30:47.143613Z",
          "iopub.status.idle": "2024-07-31T22:30:47.170310Z"
        },
        "trusted": true
      },
      "execution_count": null,
      "outputs": [
        {
          "output_type": "display_data",
          "data": {
            "text/plain": "\nCall:\nlm(formula = Y ~ X, data = dataset)\n\nResiduals:\n    Min      1Q  Median      3Q     Max \n-202.49 -125.96  -22.28  140.53  260.67 \n\nCoefficients:\n             Estimate Std. Error t value Pr(>|t|)    \n(Intercept) 2.079e+02  5.013e+01   4.148 0.000136 ***\nX           2.973e-01  7.559e-03  39.328  < 2e-16 ***\n---\nSignif. codes:  0 ‘***’ 0.001 ‘**’ 0.01 ‘*’ 0.05 ‘.’ 0.1 ‘ ’ 1\n\nResidual standard error: 143.2 on 48 degrees of freedom\nMultiple R-squared:  0.9699,\tAdjusted R-squared:  0.9693 \nF-statistic:  1547 on 1 and 48 DF,  p-value: < 2.2e-16\n"
          },
          "metadata": {}
        }
      ]
    },
    {
      "cell_type": "markdown",
      "source": [
        "### Obtendo as previsões dentro da amostra"
      ],
      "metadata": {
        "id": "eP2wm9fBcaj2"
      }
    },
    {
      "cell_type": "code",
      "source": [
        "dataset['Y_previsto'] <- resultado_regressao$fitted.values\n",
        "dataset"
      ],
      "metadata": {
        "scrolled": true,
        "execution": {
          "iopub.status.busy": "2024-07-31T22:30:47.173120Z",
          "iopub.execute_input": "2024-07-31T22:30:47.174654Z",
          "iopub.status.idle": "2024-07-31T22:30:47.223857Z"
        },
        "trusted": true,
        "id": "e7pvcTavBBGO",
        "outputId": "8f949597-2981-444e-cc1d-04eaa197ea6a"
      },
      "execution_count": null,
      "outputs": [
        {
          "output_type": "display_data",
          "data": {
            "text/html": "<table class=\"dataframe\">\n<caption>A data.frame: 50 × 3</caption>\n<thead>\n\t<tr><th scope=col>Y</th><th scope=col>X</th><th scope=col>Y_previsto</th></tr>\n\t<tr><th scope=col>&lt;dbl&gt;</th><th scope=col>&lt;dbl&gt;</th><th scope=col>&lt;dbl&gt;</th></tr>\n</thead>\n<tbody>\n\t<tr><td>3011</td><td>9714</td><td>3095.7851</td></tr>\n\t<tr><td>1305</td><td>3728</td><td>1316.2030</td></tr>\n\t<tr><td>1879</td><td>6062</td><td>2010.0795</td></tr>\n\t<tr><td>2654</td><td>8845</td><td>2837.4395</td></tr>\n\t<tr><td>2849</td><td>8378</td><td>2698.6047</td></tr>\n\t<tr><td>1068</td><td>3338</td><td>1200.2596</td></tr>\n\t<tr><td>2892</td><td>8507</td><td>2736.9552</td></tr>\n\t<tr><td>2543</td><td>7947</td><td>2570.4724</td></tr>\n\t<tr><td>3074</td><td>9915</td><td>3155.5405</td></tr>\n\t<tr><td> 849</td><td>1632</td><td> 693.0817</td></tr>\n\t<tr><td>2184</td><td>6825</td><td>2236.9123</td></tr>\n\t<tr><td>2943</td><td>8918</td><td>2859.1417</td></tr>\n\t<tr><td>1357</td><td>4100</td><td>1426.7951</td></tr>\n\t<tr><td>2755</td><td>9184</td><td>2938.2210</td></tr>\n\t<tr><td>2163</td><td>6180</td><td>2045.1598</td></tr>\n\t<tr><td>3099</td><td>9997</td><td>3179.9184</td></tr>\n\t<tr><td>1600</td><td>4500</td><td>1545.7114</td></tr>\n\t<tr><td> 353</td><td>1069</td><td> 525.7071</td></tr>\n\t<tr><td>1778</td><td>5925</td><td>1969.3507</td></tr>\n\t<tr><td> 740</td><td>2466</td><td> 941.0222</td></tr>\n\t<tr><td>2129</td><td>6083</td><td>2016.3226</td></tr>\n\t<tr><td>3302</td><td>9712</td><td>3095.1905</td></tr>\n\t<tr><td>2412</td><td>7780</td><td>2520.8249</td></tr>\n\t<tr><td>2683</td><td>8383</td><td>2700.0912</td></tr>\n\t<tr><td>2515</td><td>7185</td><td>2343.9369</td></tr>\n\t<tr><td>2395</td><td>7483</td><td>2432.5296</td></tr>\n\t<tr><td>2292</td><td>7640</td><td>2479.2042</td></tr>\n\t<tr><td>1000</td><td>2100</td><td> 832.2138</td></tr>\n\t<tr><td> 600</td><td>2000</td><td> 802.4847</td></tr>\n\t<tr><td>1864</td><td>6012</td><td>1995.2149</td></tr>\n\t<tr><td>3027</td><td>8902</td><td>2854.3850</td></tr>\n\t<tr><td>1978</td><td>5345</td><td>1796.9221</td></tr>\n\t<tr><td>2791</td><td>8210</td><td>2648.6599</td></tr>\n\t<tr><td>1982</td><td>5662</td><td>1891.1632</td></tr>\n\t<tr><td> 900</td><td>2700</td><td>1010.5882</td></tr>\n\t<tr><td>1964</td><td>6546</td><td>2153.9682</td></tr>\n\t<tr><td>1247</td><td>2900</td><td>1070.0463</td></tr>\n\t<tr><td>3067</td><td>9894</td><td>3149.2974</td></tr>\n\t<tr><td> 700</td><td>1500</td><td> 653.8394</td></tr>\n\t<tr><td>1500</td><td>5000</td><td>1694.3568</td></tr>\n\t<tr><td>3110</td><td>8885</td><td>2849.3311</td></tr>\n\t<tr><td>2644</td><td>8813</td><td>2827.9262</td></tr>\n\t<tr><td>1378</td><td>3446</td><td>1232.3670</td></tr>\n\t<tr><td>2601</td><td>7881</td><td>2550.8512</td></tr>\n\t<tr><td> 501</td><td>1164</td><td> 553.9497</td></tr>\n\t<tr><td>1292</td><td>3401</td><td>1218.9890</td></tr>\n\t<tr><td>2125</td><td>6641</td><td>2182.2108</td></tr>\n\t<tr><td>1431</td><td>3329</td><td>1197.5840</td></tr>\n\t<tr><td>2260</td><td>6648</td><td>2184.2918</td></tr>\n\t<tr><td>1770</td><td>4800</td><td>1634.8986</td></tr>\n</tbody>\n</table>\n",
            "text/markdown": "\nA data.frame: 50 × 3\n\n| Y &lt;dbl&gt; | X &lt;dbl&gt; | Y_previsto &lt;dbl&gt; |\n|---|---|---|\n| 3011 | 9714 | 3095.7851 |\n| 1305 | 3728 | 1316.2030 |\n| 1879 | 6062 | 2010.0795 |\n| 2654 | 8845 | 2837.4395 |\n| 2849 | 8378 | 2698.6047 |\n| 1068 | 3338 | 1200.2596 |\n| 2892 | 8507 | 2736.9552 |\n| 2543 | 7947 | 2570.4724 |\n| 3074 | 9915 | 3155.5405 |\n|  849 | 1632 |  693.0817 |\n| 2184 | 6825 | 2236.9123 |\n| 2943 | 8918 | 2859.1417 |\n| 1357 | 4100 | 1426.7951 |\n| 2755 | 9184 | 2938.2210 |\n| 2163 | 6180 | 2045.1598 |\n| 3099 | 9997 | 3179.9184 |\n| 1600 | 4500 | 1545.7114 |\n|  353 | 1069 |  525.7071 |\n| 1778 | 5925 | 1969.3507 |\n|  740 | 2466 |  941.0222 |\n| 2129 | 6083 | 2016.3226 |\n| 3302 | 9712 | 3095.1905 |\n| 2412 | 7780 | 2520.8249 |\n| 2683 | 8383 | 2700.0912 |\n| 2515 | 7185 | 2343.9369 |\n| 2395 | 7483 | 2432.5296 |\n| 2292 | 7640 | 2479.2042 |\n| 1000 | 2100 |  832.2138 |\n|  600 | 2000 |  802.4847 |\n| 1864 | 6012 | 1995.2149 |\n| 3027 | 8902 | 2854.3850 |\n| 1978 | 5345 | 1796.9221 |\n| 2791 | 8210 | 2648.6599 |\n| 1982 | 5662 | 1891.1632 |\n|  900 | 2700 | 1010.5882 |\n| 1964 | 6546 | 2153.9682 |\n| 1247 | 2900 | 1070.0463 |\n| 3067 | 9894 | 3149.2974 |\n|  700 | 1500 |  653.8394 |\n| 1500 | 5000 | 1694.3568 |\n| 3110 | 8885 | 2849.3311 |\n| 2644 | 8813 | 2827.9262 |\n| 1378 | 3446 | 1232.3670 |\n| 2601 | 7881 | 2550.8512 |\n|  501 | 1164 |  553.9497 |\n| 1292 | 3401 | 1218.9890 |\n| 2125 | 6641 | 2182.2108 |\n| 1431 | 3329 | 1197.5840 |\n| 2260 | 6648 | 2184.2918 |\n| 1770 | 4800 | 1634.8986 |\n\n",
            "text/latex": "A data.frame: 50 × 3\n\\begin{tabular}{lll}\n Y & X & Y\\_previsto\\\\\n <dbl> & <dbl> & <dbl>\\\\\n\\hline\n\t 3011 & 9714 & 3095.7851\\\\\n\t 1305 & 3728 & 1316.2030\\\\\n\t 1879 & 6062 & 2010.0795\\\\\n\t 2654 & 8845 & 2837.4395\\\\\n\t 2849 & 8378 & 2698.6047\\\\\n\t 1068 & 3338 & 1200.2596\\\\\n\t 2892 & 8507 & 2736.9552\\\\\n\t 2543 & 7947 & 2570.4724\\\\\n\t 3074 & 9915 & 3155.5405\\\\\n\t  849 & 1632 &  693.0817\\\\\n\t 2184 & 6825 & 2236.9123\\\\\n\t 2943 & 8918 & 2859.1417\\\\\n\t 1357 & 4100 & 1426.7951\\\\\n\t 2755 & 9184 & 2938.2210\\\\\n\t 2163 & 6180 & 2045.1598\\\\\n\t 3099 & 9997 & 3179.9184\\\\\n\t 1600 & 4500 & 1545.7114\\\\\n\t  353 & 1069 &  525.7071\\\\\n\t 1778 & 5925 & 1969.3507\\\\\n\t  740 & 2466 &  941.0222\\\\\n\t 2129 & 6083 & 2016.3226\\\\\n\t 3302 & 9712 & 3095.1905\\\\\n\t 2412 & 7780 & 2520.8249\\\\\n\t 2683 & 8383 & 2700.0912\\\\\n\t 2515 & 7185 & 2343.9369\\\\\n\t 2395 & 7483 & 2432.5296\\\\\n\t 2292 & 7640 & 2479.2042\\\\\n\t 1000 & 2100 &  832.2138\\\\\n\t  600 & 2000 &  802.4847\\\\\n\t 1864 & 6012 & 1995.2149\\\\\n\t 3027 & 8902 & 2854.3850\\\\\n\t 1978 & 5345 & 1796.9221\\\\\n\t 2791 & 8210 & 2648.6599\\\\\n\t 1982 & 5662 & 1891.1632\\\\\n\t  900 & 2700 & 1010.5882\\\\\n\t 1964 & 6546 & 2153.9682\\\\\n\t 1247 & 2900 & 1070.0463\\\\\n\t 3067 & 9894 & 3149.2974\\\\\n\t  700 & 1500 &  653.8394\\\\\n\t 1500 & 5000 & 1694.3568\\\\\n\t 3110 & 8885 & 2849.3311\\\\\n\t 2644 & 8813 & 2827.9262\\\\\n\t 1378 & 3446 & 1232.3670\\\\\n\t 2601 & 7881 & 2550.8512\\\\\n\t  501 & 1164 &  553.9497\\\\\n\t 1292 & 3401 & 1218.9890\\\\\n\t 2125 & 6641 & 2182.2108\\\\\n\t 1431 & 3329 & 1197.5840\\\\\n\t 2260 & 6648 & 2184.2918\\\\\n\t 1770 & 4800 & 1634.8986\\\\\n\\end{tabular}\n",
            "text/plain": "   Y    X    Y_previsto\n1  3011 9714 3095.7851 \n2  1305 3728 1316.2030 \n3  1879 6062 2010.0795 \n4  2654 8845 2837.4395 \n5  2849 8378 2698.6047 \n6  1068 3338 1200.2596 \n7  2892 8507 2736.9552 \n8  2543 7947 2570.4724 \n9  3074 9915 3155.5405 \n10  849 1632  693.0817 \n11 2184 6825 2236.9123 \n12 2943 8918 2859.1417 \n13 1357 4100 1426.7951 \n14 2755 9184 2938.2210 \n15 2163 6180 2045.1598 \n16 3099 9997 3179.9184 \n17 1600 4500 1545.7114 \n18  353 1069  525.7071 \n19 1778 5925 1969.3507 \n20  740 2466  941.0222 \n21 2129 6083 2016.3226 \n22 3302 9712 3095.1905 \n23 2412 7780 2520.8249 \n24 2683 8383 2700.0912 \n25 2515 7185 2343.9369 \n26 2395 7483 2432.5296 \n27 2292 7640 2479.2042 \n28 1000 2100  832.2138 \n29  600 2000  802.4847 \n30 1864 6012 1995.2149 \n31 3027 8902 2854.3850 \n32 1978 5345 1796.9221 \n33 2791 8210 2648.6599 \n34 1982 5662 1891.1632 \n35  900 2700 1010.5882 \n36 1964 6546 2153.9682 \n37 1247 2900 1070.0463 \n38 3067 9894 3149.2974 \n39  700 1500  653.8394 \n40 1500 5000 1694.3568 \n41 3110 8885 2849.3311 \n42 2644 8813 2827.9262 \n43 1378 3446 1232.3670 \n44 2601 7881 2550.8512 \n45  501 1164  553.9497 \n46 1292 3401 1218.9890 \n47 2125 6641 2182.2108 \n48 1431 3329 1197.5840 \n49 2260 6648 2184.2918 \n50 1770 4800 1634.8986 "
          },
          "metadata": {}
        }
      ]
    },
    {
      "cell_type": "markdown",
      "source": [
        "---"
      ],
      "metadata": {
        "id": "QTCRxEClcaj-"
      }
    },
    {
      "cell_type": "markdown",
      "source": [
        "# <font color=green>3 CORRELAÇÃO</font>\n",
        "***"
      ],
      "metadata": {
        "id": "DU3ADw3fdeS1"
      }
    },
    {
      "cell_type": "markdown",
      "source": [
        "## <font color=green>3.1 Covariância</font>\n",
        "***"
      ],
      "metadata": {
        "id": "_8zdNQvrcakA"
      }
    },
    {
      "cell_type": "markdown",
      "source": [
        "A covariância, ou variância conjunta, é a medida do grau de interdependência (ou inter-relação) numérica entre duas variáveis. É definida da seguinte maneira:"
      ],
      "metadata": {
        "id": "E5xyRLiYcakB"
      }
    },
    {
      "cell_type": "markdown",
      "source": [
        "### Covariância populacional\n",
        "\n",
        "# $$\\sigma_{xy} = \\frac 1n\\sum_{i=1}^{n}(X_i-\\mu_x)(Y_i-\\mu_y)$$"
      ],
      "metadata": {
        "id": "z66qdhEPcakB"
      }
    },
    {
      "cell_type": "markdown",
      "source": [
        "### Covariância amostral\n",
        "\n",
        "# $$S_{xy} = \\frac 1{n-1}\\sum_{i=1}^{n}(X_i-\\bar{X})(Y_i-\\bar{Y})$$"
      ],
      "metadata": {
        "id": "Q5Z7pL4ncakB"
      }
    },
    {
      "cell_type": "markdown",
      "source": [
        "#### <font color=red>Documentações:\n",
        "\n",
        "- [**cov**](https://www.rdocumentation.org/packages/stats/versions/3.6.1/topics/cor)"
      ],
      "metadata": {
        "id": "ZBs2AVS3BBGP"
      }
    },
    {
      "cell_type": "markdown",
      "source": [
        "### Gerando uma amostra aleatória para facilitar o entendimento"
      ],
      "metadata": {
        "id": "jL1SrReTcakC"
      }
    },
    {
      "cell_type": "code",
      "source": [
        "amostra <- data.frame(\n",
        "    Idade = c(39, 29, 21, 49, 29, 34, 32, 32, 24, 53, 28, 28, 46, 58, 41, 43, 31, 55, 52, 54),\n",
        "    Renda = c(1500, 1000, 3500, 1570, 600, 1200, 2000, 500, 1300, 600, 1500, 3000, 0, 550, 1500, 1600, 746, 1000, 0, 1400),\n",
        "    Anos.de.Estudo = c(6, 7, 12, 13, 9, 12, 12, 6, 7, 5, 7, 16, 12, 3, 12, 9, 1, 6, 1, 6),\n",
        "    Altura = c(1.6162, 1.7525, 1.6940, 1.8041, 1.7854, 1.7468, 1.6633, 1.6937, 1.6569, 1.6671, 1.6786, 1.6730, 1.7853, 1.6090, 1.7833, 1.6709, 1.6392, 1.6861, 1.7107, 1.7288)\n",
        ")"
      ],
      "metadata": {
        "execution": {
          "iopub.status.busy": "2024-07-31T22:30:47.226684Z",
          "iopub.execute_input": "2024-07-31T22:30:47.228211Z",
          "iopub.status.idle": "2024-07-31T22:30:47.241513Z"
        },
        "trusted": true,
        "id": "emxbWWFqBBGP"
      },
      "execution_count": null,
      "outputs": []
    },
    {
      "cell_type": "markdown",
      "source": [
        "### Obtendo a matriz de covariância"
      ],
      "metadata": {
        "id": "ZssTPkXGcakD"
      }
    },
    {
      "cell_type": "code",
      "source": [
        "matriz_cov <- cov(amostra)\n",
        "matriz_cov"
      ],
      "metadata": {
        "execution": {
          "iopub.status.busy": "2024-07-31T22:30:47.244210Z",
          "iopub.execute_input": "2024-07-31T22:30:47.245712Z",
          "iopub.status.idle": "2024-07-31T22:30:47.268830Z"
        },
        "trusted": true,
        "id": "o_BddcdIBBGP",
        "outputId": "db5542f3-35f7-43cd-90f6-4493aee69d5c"
      },
      "execution_count": null,
      "outputs": [
        {
          "output_type": "display_data",
          "data": {
            "text/html": "<table class=\"dataframe\">\n<caption>A matrix: 4 × 4 of type dbl</caption>\n<thead>\n\t<tr><th></th><th scope=col>Idade</th><th scope=col>Renda</th><th scope=col>Anos.de.Estudo</th><th scope=col>Altura</th></tr>\n</thead>\n<tbody>\n\t<tr><th scope=row>Idade</th><td> 1.344105e+02</td><td> -4947.96842</td><td> -16.4105263</td><td> 0.016483684</td></tr>\n\t<tr><th scope=row>Renda</th><td>-4.947968e+03</td><td>764668.32632</td><td>2209.0210526</td><td>-7.139630000</td></tr>\n\t<tr><th scope=row>Anos.de.Estudo</th><td>-1.641053e+01</td><td>  2209.02105</td><td>  16.9368421</td><td> 0.111258421</td></tr>\n\t<tr><th scope=row>Altura</th><td> 1.648368e-02</td><td>    -7.13963</td><td>   0.1112584</td><td> 0.003353907</td></tr>\n</tbody>\n</table>\n",
            "text/markdown": "\nA matrix: 4 × 4 of type dbl\n\n| <!--/--> | Idade | Renda | Anos.de.Estudo | Altura |\n|---|---|---|---|---|\n| Idade |  1.344105e+02 |  -4947.96842 |  -16.4105263 |  0.016483684 |\n| Renda | -4.947968e+03 | 764668.32632 | 2209.0210526 | -7.139630000 |\n| Anos.de.Estudo | -1.641053e+01 |   2209.02105 |   16.9368421 |  0.111258421 |\n| Altura |  1.648368e-02 |     -7.13963 |    0.1112584 |  0.003353907 |\n\n",
            "text/latex": "A matrix: 4 × 4 of type dbl\n\\begin{tabular}{r|llll}\n  & Idade & Renda & Anos.de.Estudo & Altura\\\\\n\\hline\n\tIdade &  1.344105e+02 &  -4947.96842 &  -16.4105263 &  0.016483684\\\\\n\tRenda & -4.947968e+03 & 764668.32632 & 2209.0210526 & -7.139630000\\\\\n\tAnos.de.Estudo & -1.641053e+01 &   2209.02105 &   16.9368421 &  0.111258421\\\\\n\tAltura &  1.648368e-02 &     -7.13963 &    0.1112584 &  0.003353907\\\\\n\\end{tabular}\n",
            "text/plain": "               Idade         Renda        Anos.de.Estudo Altura      \nIdade           1.344105e+02  -4947.96842  -16.4105263    0.016483684\nRenda          -4.947968e+03 764668.32632 2209.0210526   -7.139630000\nAnos.de.Estudo -1.641053e+01   2209.02105   16.9368421    0.111258421\nAltura          1.648368e-02     -7.13963    0.1112584    0.003353907"
          },
          "metadata": {}
        }
      ]
    },
    {
      "cell_type": "markdown",
      "source": [
        "### Identificando as variâncias na diagonal principal da matriz"
      ],
      "metadata": {
        "id": "dodkzGyBcakG"
      }
    },
    {
      "cell_type": "code",
      "source": [
        "var(amostra$Idade)"
      ],
      "metadata": {
        "colab": {
          "base_uri": "https://localhost:8080/",
          "height": 35
        },
        "id": "iG3mpmBfcakH",
        "outputId": "cf9885ba-996a-4254-85b3-e190a31556f3",
        "execution": {
          "iopub.status.busy": "2024-07-31T22:30:47.271663Z",
          "iopub.execute_input": "2024-07-31T22:30:47.273171Z",
          "iopub.status.idle": "2024-07-31T22:30:47.288184Z"
        },
        "trusted": true
      },
      "execution_count": null,
      "outputs": [
        {
          "output_type": "display_data",
          "data": {
            "text/html": "134.410526315789",
            "text/markdown": "134.410526315789",
            "text/latex": "134.410526315789",
            "text/plain": "[1] 134.4105"
          },
          "metadata": {}
        }
      ]
    },
    {
      "cell_type": "markdown",
      "source": [
        "## <font color=green>3.2 Interpretação da Covariância</font>\n",
        "***"
      ],
      "metadata": {
        "id": "9I8MVJAscakK"
      }
    },
    {
      "cell_type": "markdown",
      "source": [
        "Valor de $S_{xy}$ positivo indica uma associação linear positiva entre x e y, ou seja, à medida que o valor de x aumenta, o valor de y também aumenta. Neste caso, podemos ver na figura abaixo que os pontos que têm a maior influência sobre $S_{xy}$ devem estar nos quadrantes I e III.\n",
        "\n",
        "Se o valor de $S_{xy}$ for negativo temos um indicativo de associação linear negativa entre x e y, ou seja, à medida que x aumenta, o valor de y diminui. Neste caso, podemos ver na figura abaixo que os pontos que têm a maior influência sobre $S_{xy}$ devem estar nos quadrantes II e IV.\n",
        "\n",
        "Finalmente, se os pontos estiverem uniformemente distribuídos pelos quadrantes, o valor de $S_{xy}$ se aproximará de zero, indicando que não existe nenhuma associação linear entre x e y.\n",
        "\n",
        "<img src=\"https://caelum-online-public.s3.amazonaws.com/1273-estatistica-parte4/01/img026.png\" width=50%>"
      ],
      "metadata": {
        "id": "_H2Y3PVZcakK"
      }
    },
    {
      "cell_type": "markdown",
      "source": [
        "### Verificando a existência de uma associação linear negativa"
      ],
      "metadata": {
        "id": "frhw7Uc8cakL"
      }
    },
    {
      "cell_type": "code",
      "source": [
        "grafico <- amostra[, c('Renda', 'Idade')]\n",
        "\n",
        "ggplot(data = grafico, aes(x = Renda, y = Idade)) +\n",
        "    geom_point(size = 1.5, stroke = 0) +\n",
        "    geom_hline(yintercept = mean(amostra$Idade), color = 'black') +\n",
        "    geom_vline(xintercept = mean(amostra$Renda), color = 'black')"
      ],
      "metadata": {
        "execution": {
          "iopub.status.busy": "2024-07-31T22:30:47.290861Z",
          "iopub.execute_input": "2024-07-31T22:30:47.292323Z",
          "iopub.status.idle": "2024-07-31T22:30:47.523759Z"
        },
        "trusted": true,
        "id": "QzvKbdOUBBGS",
        "outputId": "e3eba484-1c6c-4e4e-8e00-c184a3972ec1"
      },
      "execution_count": null,
      "outputs": [
        {
          "output_type": "display_data",
          "data": {
            "image/png": "[encoded data removed]"
          },
          "metadata": {
            "image/png": {
              "width": 420,
              "height": 240
            }
          }
        }
      ]
    },
    {
      "cell_type": "markdown",
      "source": [
        "### Verificando a existência de uma associação linear positiva"
      ],
      "metadata": {
        "id": "es2CobcCcakQ"
      }
    },
    {
      "cell_type": "code",
      "source": [
        "grafico <- amostra[, c('Renda', 'Anos.de.Estudo')]\n",
        "\n",
        "ggplot(data = grafico, aes(x = Renda, y = Anos.de.Estudo)) +\n",
        "    geom_point(size = 1.5, stroke = 0) +\n",
        "    geom_hline(yintercept = mean(amostra$'Anos.de.Estudo'), color = 'black') +\n",
        "    geom_vline(xintercept = mean(amostra$Renda), color = 'black')"
      ],
      "metadata": {
        "colab": {
          "base_uri": "https://localhost:8080/",
          "height": 410
        },
        "id": "eLc5JmYCcakQ",
        "outputId": "0b7b1dd4-82aa-4a50-9635-ad16f88371c6",
        "execution": {
          "iopub.status.busy": "2024-07-31T22:30:47.526605Z",
          "iopub.execute_input": "2024-07-31T22:30:47.528112Z",
          "iopub.status.idle": "2024-07-31T22:30:47.740514Z"
        },
        "trusted": true
      },
      "execution_count": null,
      "outputs": [
        {
          "output_type": "display_data",
          "data": {
            "image/png": "[encoded data removed]"
          },
          "metadata": {
            "image/png": {
              "width": 420,
              "height": 240
            }
          }
        }
      ]
    },
    {
      "cell_type": "markdown",
      "source": [
        "### Verificando a inexistência de uma associação linear entre as variáveis"
      ],
      "metadata": {
        "id": "mYYlKQeHcakS"
      }
    },
    {
      "cell_type": "code",
      "source": [
        "grafico <- amostra[, c('Idade', 'Altura')]\n",
        "\n",
        "ggplot(data = grafico, aes(x = Idade, y = Altura)) +\n",
        "    geom_point(size = 1.5, stroke = 0) +\n",
        "    geom_hline(yintercept = mean(amostra$Altura), color = 'black') +\n",
        "    geom_vline(xintercept = mean(amostra$Idade), color = 'black')"
      ],
      "metadata": {
        "colab": {
          "base_uri": "https://localhost:8080/",
          "height": 410
        },
        "id": "R0S1AiBlcakS",
        "outputId": "c6897cb3-a3d5-44a3-8a5c-ec58dd257aad",
        "execution": {
          "iopub.status.busy": "2024-07-31T22:30:47.743321Z",
          "iopub.execute_input": "2024-07-31T22:30:47.744859Z",
          "iopub.status.idle": "2024-07-31T22:30:47.963914Z"
        },
        "trusted": true
      },
      "execution_count": null,
      "outputs": [
        {
          "output_type": "display_data",
          "data": {
            "image/png": "[encoded data removed]"
          },
          "metadata": {
            "image/png": {
              "width": 420,
              "height": 240
            }
          }
        }
      ]
    },
    {
      "cell_type": "markdown",
      "source": [
        "### <font color='red'>Observação Importante:</font>\n",
        "> Pelo que foi apresentado pode parecer que valores elevados, tanto positivos quanto negativos, para a covariância indicam relações lineares fortes entre as variáveis envolvidas. No entanto, um problema quando se usa a covariância como uma medida da intensidade da relação linear é que o valor da covariância depende das unidades de medida para x e y.\n",
        ">\n",
        "> Uma medida da relação entre duas variáveis que não é afetada pelas unidades de medida para x e y é o coeficiente de correlação que veremos no próximo tópico."
      ],
      "metadata": {
        "id": "zgSmQYrHcakb"
      }
    },
    {
      "cell_type": "markdown",
      "source": [
        "## <font color=green>3.3 Coeficiente de correlação de Pearson</font>\n",
        "***"
      ],
      "metadata": {
        "id": "oPAxUkyQcakb"
      }
    },
    {
      "cell_type": "markdown",
      "source": [
        "É obtido dividindo-se a covariância da população ou amostra pelo produto do desvio padrão populacional ou amostral de x pelo desvio padrão populacional ou amostral de y.\n",
        "\n",
        "O coeficiente de correlação varia de -1 a +1. Valores que se aproximam de -1 ou +1 indicam uma relação linear forte. Quanto mais próxima a correlação estiver de zero, mais fraca será a relação.\n",
        "\n",
        "Um ponto importante é que o coeficiente de correlação é uma medida de associação linear e não necessariamente de causação. Uma correlação alta entre duas variáveis não significa, necessariamente, que variações em uma delas provocará alterações na outra."
      ],
      "metadata": {
        "id": "6TYCLh0Hcakf"
      }
    },
    {
      "cell_type": "markdown",
      "source": [
        "### Coeficiente de correlação de Pearson - dados populacionais\n",
        "\n",
        "# $$\\rho_{xy} = \\frac{\\sigma_{xy}}{\\sigma_{x}\\sigma_{y}}$$\n",
        "\n",
        "### Coeficiente de correlação de Pearson - dados amostrais\n",
        "\n",
        "# $$r_{xy} = \\frac{s_{xy}}{s_{x}s_{y}}$$\n",
        "\n",
        "Onde\n",
        "\n",
        "$\\sigma_{xy}$ = covariância populacional entre x e y\n",
        "\n",
        "$s_{xy}$ = covariância amostral entre x e y\n",
        "\n",
        "$\\sigma_{x}$ e $\\sigma_{y}$ = desvios padrão populacionais de x e y, respectivamente\n",
        "\n",
        "$s_{x}$ e $s_{y}$ = desvios padrão amostrais de x e y, respectivamente"
      ],
      "metadata": {
        "id": "OgecrWGdcakf"
      }
    },
    {
      "cell_type": "markdown",
      "source": [
        "### Obtendo $s_{xy}$"
      ],
      "metadata": {
        "id": "jPk2i26acakg"
      }
    },
    {
      "cell_type": "code",
      "source": [
        "s_xy <- cov(amostra[c('Altura', 'Renda')])\n",
        "s_xy"
      ],
      "metadata": {
        "colab": {
          "base_uri": "https://localhost:8080/",
          "height": 111
        },
        "id": "lc6MNkgQcakg",
        "outputId": "02da9ed9-ebf3-4e90-b546-c300d7503b65",
        "execution": {
          "iopub.status.busy": "2024-07-31T22:30:47.966738Z",
          "iopub.execute_input": "2024-07-31T22:30:47.968214Z",
          "iopub.status.idle": "2024-07-31T22:30:47.990789Z"
        },
        "trusted": true
      },
      "execution_count": null,
      "outputs": [
        {
          "output_type": "display_data",
          "data": {
            "text/html": "<table class=\"dataframe\">\n<caption>A matrix: 2 × 2 of type dbl</caption>\n<thead>\n\t<tr><th></th><th scope=col>Altura</th><th scope=col>Renda</th></tr>\n</thead>\n<tbody>\n\t<tr><th scope=row>Altura</th><td> 0.003353907</td><td>    -7.13963</td></tr>\n\t<tr><th scope=row>Renda</th><td>-7.139630000</td><td>764668.32632</td></tr>\n</tbody>\n</table>\n",
            "text/markdown": "\nA matrix: 2 × 2 of type dbl\n\n| <!--/--> | Altura | Renda |\n|---|---|---|\n| Altura |  0.003353907 |     -7.13963 |\n| Renda | -7.139630000 | 764668.32632 |\n\n",
            "text/latex": "A matrix: 2 × 2 of type dbl\n\\begin{tabular}{r|ll}\n  & Altura & Renda\\\\\n\\hline\n\tAltura &  0.003353907 &     -7.13963\\\\\n\tRenda & -7.139630000 & 764668.32632\\\\\n\\end{tabular}\n",
            "text/plain": "       Altura       Renda       \nAltura  0.003353907     -7.13963\nRenda  -7.139630000 764668.32632"
          },
          "metadata": {}
        }
      ]
    },
    {
      "cell_type": "code",
      "source": [
        "s_xy <- s_xy['Altura', 'Renda']\n",
        "s_xy"
      ],
      "metadata": {
        "colab": {
          "base_uri": "https://localhost:8080/",
          "height": 35
        },
        "id": "_8KNoxdhcakj",
        "outputId": "57108a7a-db55-49a3-e554-2b51c94f58b7",
        "execution": {
          "iopub.status.busy": "2024-07-31T22:30:47.993622Z",
          "iopub.execute_input": "2024-07-31T22:30:47.995083Z",
          "iopub.status.idle": "2024-07-31T22:30:48.013217Z"
        },
        "trusted": true
      },
      "execution_count": null,
      "outputs": [
        {
          "output_type": "display_data",
          "data": {
            "text/html": "-7.13963000000001",
            "text/markdown": "-7.13963000000001",
            "text/latex": "-7.13963000000001",
            "text/plain": "[1] -7.13963"
          },
          "metadata": {}
        }
      ]
    },
    {
      "cell_type": "markdown",
      "source": [
        "### Obtendo $s_x$ e $s_y$"
      ],
      "metadata": {
        "id": "sDybJtCMcakl"
      }
    },
    {
      "cell_type": "code",
      "source": [
        "s_x <- sd(amostra$Altura)\n",
        "s_y <- sd(amostra$Renda)"
      ],
      "metadata": {
        "id": "LTEEbMIzcakl",
        "execution": {
          "iopub.status.busy": "2024-07-31T22:30:48.016090Z",
          "iopub.execute_input": "2024-07-31T22:30:48.017674Z",
          "iopub.status.idle": "2024-07-31T22:30:48.033263Z"
        },
        "trusted": true
      },
      "execution_count": null,
      "outputs": []
    },
    {
      "cell_type": "markdown",
      "source": [
        "### Obtendo o coeficiente de correlação $r_{xy}$"
      ],
      "metadata": {
        "id": "VVpQ5QcCcakm"
      }
    },
    {
      "cell_type": "code",
      "source": [
        "r_xy <- s_xy / (s_x * s_y)\n",
        "r_xy"
      ],
      "metadata": {
        "colab": {
          "base_uri": "https://localhost:8080/",
          "height": 35
        },
        "id": "TuPWxVgccakq",
        "outputId": "76d8e637-5a9c-4362-f069-fd7ce8a5fe03",
        "execution": {
          "iopub.status.busy": "2024-07-31T22:30:48.036122Z",
          "iopub.execute_input": "2024-07-31T22:30:48.037634Z",
          "iopub.status.idle": "2024-07-31T22:30:48.055238Z"
        },
        "trusted": true
      },
      "execution_count": null,
      "outputs": [
        {
          "output_type": "display_data",
          "data": {
            "text/html": "-0.140981997305062",
            "text/markdown": "-0.140981997305062",
            "text/latex": "-0.140981997305062",
            "text/plain": "[1] -0.140982"
          },
          "metadata": {}
        }
      ]
    },
    {
      "cell_type": "markdown",
      "source": [
        "### Obtendo uma matriz de correlação"
      ],
      "metadata": {
        "id": "miyTUNqpcakr"
      }
    },
    {
      "cell_type": "code",
      "source": [
        "cor(amostra[c('Altura', 'Renda')])"
      ],
      "metadata": {
        "colab": {
          "base_uri": "https://localhost:8080/",
          "height": 111
        },
        "id": "SjQUE6wVcakt",
        "outputId": "4ccd6e52-c99a-4d79-d582-17ce1dc07b53",
        "execution": {
          "iopub.status.busy": "2024-07-31T22:30:48.058049Z",
          "iopub.execute_input": "2024-07-31T22:30:48.059672Z",
          "iopub.status.idle": "2024-07-31T22:30:48.083729Z"
        },
        "trusted": true
      },
      "execution_count": null,
      "outputs": [
        {
          "output_type": "display_data",
          "data": {
            "text/html": "<table class=\"dataframe\">\n<caption>A matrix: 2 × 2 of type dbl</caption>\n<thead>\n\t<tr><th></th><th scope=col>Altura</th><th scope=col>Renda</th></tr>\n</thead>\n<tbody>\n\t<tr><th scope=row>Altura</th><td> 1.000000</td><td>-0.140982</td></tr>\n\t<tr><th scope=row>Renda</th><td>-0.140982</td><td> 1.000000</td></tr>\n</tbody>\n</table>\n",
            "text/markdown": "\nA matrix: 2 × 2 of type dbl\n\n| <!--/--> | Altura | Renda |\n|---|---|---|\n| Altura |  1.000000 | -0.140982 |\n| Renda | -0.140982 |  1.000000 |\n\n",
            "text/latex": "A matrix: 2 × 2 of type dbl\n\\begin{tabular}{r|ll}\n  & Altura & Renda\\\\\n\\hline\n\tAltura &  1.000000 & -0.140982\\\\\n\tRenda & -0.140982 &  1.000000\\\\\n\\end{tabular}\n",
            "text/plain": "       Altura    Renda    \nAltura  1.000000 -0.140982\nRenda  -0.140982  1.000000"
          },
          "metadata": {}
        }
      ]
    },
    {
      "cell_type": "code",
      "source": [
        "cor(dataset[c('Y', 'X')])"
      ],
      "metadata": {
        "colab": {
          "base_uri": "https://localhost:8080/",
          "height": 111
        },
        "id": "r-Iasce4cakv",
        "outputId": "83ae245a-9895-4fec-f37c-627c77250369",
        "execution": {
          "iopub.status.busy": "2024-07-31T22:30:48.086597Z",
          "iopub.execute_input": "2024-07-31T22:30:48.088060Z",
          "iopub.status.idle": "2024-07-31T22:30:48.108082Z"
        },
        "trusted": true
      },
      "execution_count": null,
      "outputs": [
        {
          "output_type": "display_data",
          "data": {
            "text/html": "<table class=\"dataframe\">\n<caption>A matrix: 2 × 2 of type dbl</caption>\n<thead>\n\t<tr><th></th><th scope=col>Y</th><th scope=col>X</th></tr>\n</thead>\n<tbody>\n\t<tr><th scope=row>Y</th><td>1.0000000</td><td>0.9848352</td></tr>\n\t<tr><th scope=row>X</th><td>0.9848352</td><td>1.0000000</td></tr>\n</tbody>\n</table>\n",
            "text/markdown": "\nA matrix: 2 × 2 of type dbl\n\n| <!--/--> | Y | X |\n|---|---|---|\n| Y | 1.0000000 | 0.9848352 |\n| X | 0.9848352 | 1.0000000 |\n\n",
            "text/latex": "A matrix: 2 × 2 of type dbl\n\\begin{tabular}{r|ll}\n  & Y & X\\\\\n\\hline\n\tY & 1.0000000 & 0.9848352\\\\\n\tX & 0.9848352 & 1.0000000\\\\\n\\end{tabular}\n",
            "text/plain": "  Y         X        \nY 1.0000000 0.9848352\nX 0.9848352 1.0000000"
          },
          "metadata": {}
        }
      ]
    },
    {
      "cell_type": "code",
      "source": [
        "grafico <- amostra[, c('Renda', 'Altura')]\n",
        "\n",
        "ggplot(data = grafico, aes(x = Renda, y = Altura)) +\n",
        "    geom_point(size = 1.5, stroke = 0) +\n",
        "    geom_hline(yintercept = mean(amostra$Altura), color = 'black') +\n",
        "    geom_vline(xintercept = mean(amostra$Renda), color = 'black')"
      ],
      "metadata": {
        "execution": {
          "iopub.status.busy": "2024-07-31T22:30:48.111014Z",
          "iopub.execute_input": "2024-07-31T22:30:48.112588Z",
          "iopub.status.idle": "2024-07-31T22:30:48.362382Z"
        },
        "trusted": true,
        "id": "MEHa2HD8BBGX",
        "outputId": "07765d37-01a6-4f4a-e604-597f14bd2f50"
      },
      "execution_count": null,
      "outputs": [
        {
          "output_type": "display_data",
          "data": {
            "image/png": "[encoded data removed]"
          },
          "metadata": {
            "image/png": {
              "width": 420,
              "height": 240
            }
          }
        }
      ]
    },
    {
      "cell_type": "code",
      "source": [
        "ggplot(data = dataset, aes(x = X, y = Y)) +\n",
        "    geom_point(size = 1.5, stroke = 0) +\n",
        "    geom_hline(yintercept = mean(dataset$Y), color = 'black') +\n",
        "    geom_vline(xintercept = mean(dataset$X), color = 'black')"
      ],
      "metadata": {
        "execution": {
          "iopub.status.busy": "2024-07-31T22:30:48.365295Z",
          "iopub.execute_input": "2024-07-31T22:30:48.366894Z",
          "iopub.status.idle": "2024-07-31T22:30:48.590534Z"
        },
        "trusted": true,
        "id": "-sCVSbPoBBGX",
        "outputId": "1c74fb76-0383-4a75-fc1c-c78223f62f72"
      },
      "execution_count": null,
      "outputs": [
        {
          "output_type": "display_data",
          "data": {
            "image/png": "[encoded data removed]"
          },
          "metadata": {
            "image/png": {
              "width": 420,
              "height": 240
            }
          }
        }
      ]
    },
    {
      "cell_type": "markdown",
      "source": [
        "---"
      ],
      "metadata": {
        "id": "HSF3lXxzcak3"
      }
    },
    {
      "cell_type": "markdown",
      "source": [
        "# <font color=green>4 REGRESSÃO LINEAR</font>\n",
        "***"
      ],
      "metadata": {
        "id": "glWc43l2hLnL"
      }
    },
    {
      "cell_type": "markdown",
      "source": [
        "A análise de regressão diz respeito ao estudo da dependência de uma variável (a variável dependente) em relação a uma ou mais variáveis, as variáveis explicativas ou independentes, visando estimar e/ou prever o valor médio da primeira em termos dos valores conhecidos ou fixados das segundas.\n",
        "\n",
        "#### Terminologia\n",
        "\n",
        "> A variável que é prevista é conhecida como variável dependente (*Y*).\n",
        "\n",
        "> A variável utilizada para prever o valor da variável dependente é conhecida como variável independente (*X*).\n",
        "\n",
        "Em nosso treinamento vamos abordar o tipo mais simples de análise de regressão que considera uma variável dependente e apenas uma variável independente onde a relação entre as variáveis se aproxima de uma linha reta."
      ],
      "metadata": {
        "id": "T0nLJKtLcak8"
      }
    },
    {
      "cell_type": "markdown",
      "source": [
        "## <font color=green>4.1 Regressão linear simples</font>\n",
        "***"
      ],
      "metadata": {
        "id": "jIXc6LA7cak9"
      }
    },
    {
      "cell_type": "markdown",
      "source": [
        "### Função consumo\n",
        "\n",
        "Um economista famoso do passado concluiu em um de seus estudos que os indivíduos tendem a aumentar o seu consumo conforme sua renda aumenta. Logicamente esta teoria ganhou um pouco mais de complexidade, mas vamos utilizar sua forma mais simples para entender o procedimento de análise de regressão com a seguninte formulação:\n",
        "\n",
        "# $$Y_i = \\beta_1 + \\beta_2X_i$$\n",
        "\n",
        "Onde\n",
        "\n",
        "- $Y_i$ é o gasto das famílias ou consumo das famílias\n",
        "\n",
        "- $X_i$ é a renda disponível\n",
        "\n",
        "- $\\beta_1$ é conhecido como intercepto (no modelo teórico acima é conhecido como consumo autônomo, ou seja, o consumo quando o rendimento é zero)\n",
        "\n",
        "- $\\beta_2$ é o coefiente angular (no modelo teórico é a propensão marginal a consumir)\n",
        "\n",
        "Em uma análise de regressão linear simples, o interesse está em estimar a função de regressão populacional como a apresentada acima, ou seja, estimar os valores dos parâmetros $\\beta_1$ e $\\beta_2$ com base nas observações de $Y$ e $X$."
      ],
      "metadata": {
        "id": "bIhWKDuK75k2"
      }
    },
    {
      "cell_type": "markdown",
      "source": [
        "### Carregando o dataset"
      ],
      "metadata": {
        "id": "1kkZ2NxPcak-"
      }
    },
    {
      "cell_type": "code",
      "source": [
        "dataset <- data.frame(\n",
        "    Y = c(3011, 1305, 1879, 2654, 2849, 1068, 2892, 2543, 3074, 849, 2184, 2943, 1357, 2755, 2163, 3099, 1600, 353, 1778, 740, 2129, 3302, 2412, 2683, 2515, 2395, 2292, 1000, 600, 1864, 3027, 1978, 2791, 1982, 900, 1964, 1247, 3067, 700, 1500, 3110, 2644, 1378, 2601, 501, 1292, 2125, 1431, 2260, 1770),\n",
        "    X = c(9714, 3728, 6062, 8845, 8378, 3338, 8507, 7947, 9915, 1632, 6825, 8918, 4100, 9184, 6180, 9997, 4500, 1069, 5925, 2466, 6083, 9712, 7780, 8383, 7185, 7483, 7640, 2100, 2000, 6012, 8902, 5345, 8210, 5662, 2700, 6546, 2900, 9894, 1500, 5000, 8885, 8813, 3446, 7881, 1164, 3401, 6641, 3329, 6648, 4800)\n",
        ")"
      ],
      "metadata": {
        "id": "-um71iXqcak-",
        "execution": {
          "iopub.status.busy": "2024-07-31T22:30:48.593537Z",
          "iopub.execute_input": "2024-07-31T22:30:48.595089Z",
          "iopub.status.idle": "2024-07-31T22:30:48.608489Z"
        },
        "trusted": true
      },
      "execution_count": null,
      "outputs": []
    },
    {
      "cell_type": "code",
      "source": [
        "head(dataset)"
      ],
      "metadata": {
        "colab": {
          "base_uri": "https://localhost:8080/",
          "height": 204
        },
        "id": "eVisdrGdcak_",
        "outputId": "4987998b-7679-42f3-dc9b-28b3b1fa7e24",
        "scrolled": true,
        "execution": {
          "iopub.status.busy": "2024-07-31T22:30:48.611270Z",
          "iopub.execute_input": "2024-07-31T22:30:48.612906Z",
          "iopub.status.idle": "2024-07-31T22:30:48.635707Z"
        },
        "trusted": true
      },
      "execution_count": null,
      "outputs": [
        {
          "output_type": "display_data",
          "data": {
            "text/html": "<table class=\"dataframe\">\n<caption>A data.frame: 6 × 2</caption>\n<thead>\n\t<tr><th></th><th scope=col>Y</th><th scope=col>X</th></tr>\n\t<tr><th></th><th scope=col>&lt;dbl&gt;</th><th scope=col>&lt;dbl&gt;</th></tr>\n</thead>\n<tbody>\n\t<tr><th scope=row>1</th><td>3011</td><td>9714</td></tr>\n\t<tr><th scope=row>2</th><td>1305</td><td>3728</td></tr>\n\t<tr><th scope=row>3</th><td>1879</td><td>6062</td></tr>\n\t<tr><th scope=row>4</th><td>2654</td><td>8845</td></tr>\n\t<tr><th scope=row>5</th><td>2849</td><td>8378</td></tr>\n\t<tr><th scope=row>6</th><td>1068</td><td>3338</td></tr>\n</tbody>\n</table>\n",
            "text/markdown": "\nA data.frame: 6 × 2\n\n| <!--/--> | Y &lt;dbl&gt; | X &lt;dbl&gt; |\n|---|---|---|\n| 1 | 3011 | 9714 |\n| 2 | 1305 | 3728 |\n| 3 | 1879 | 6062 |\n| 4 | 2654 | 8845 |\n| 5 | 2849 | 8378 |\n| 6 | 1068 | 3338 |\n\n",
            "text/latex": "A data.frame: 6 × 2\n\\begin{tabular}{r|ll}\n  & Y & X\\\\\n  & <dbl> & <dbl>\\\\\n\\hline\n\t1 & 3011 & 9714\\\\\n\t2 & 1305 & 3728\\\\\n\t3 & 1879 & 6062\\\\\n\t4 & 2654 & 8845\\\\\n\t5 & 2849 & 8378\\\\\n\t6 & 1068 & 3338\\\\\n\\end{tabular}\n",
            "text/plain": "  Y    X   \n1 3011 9714\n2 1305 3728\n3 1879 6062\n4 2654 8845\n5 2849 8378\n6 1068 3338"
          },
          "metadata": {}
        }
      ]
    },
    {
      "cell_type": "markdown",
      "source": [
        "### Identificando a relação entre as variáveis\n",
        "\n",
        "Plota a reta de regressão entre duas variáveis juntamente com a dispersão entre elas."
      ],
      "metadata": {
        "id": "FnwGB3f1calB"
      }
    },
    {
      "cell_type": "code",
      "source": [
        "ggplot(data = dataset, aes(x = X, y = Y)) +\n",
        "    geom_point(size = 1.5, stroke = 0) +\n",
        "    geom_smooth(method = lm) +\n",
        "    xlab(\"Renda das Famílias\") +\n",
        "    ylab(\"Gasto das Famílias\") +\n",
        "    ggtitle('Reta de Regressão - Gasto X Renda') +\n",
        "    theme(\n",
        "        plot.title=element_text(size = 12, hjust = 0.5),\n",
        "        axis.title.y=element_text(size = 10, vjust = +0.2),\n",
        "        axis.title.x=element_text(size = 10, vjust = -0.2),\n",
        "        axis.text.y=element_text(size = 10),\n",
        "        axis.text.x=element_text(size = 10),\n",
        "    )"
      ],
      "metadata": {
        "colab": {
          "base_uri": "https://localhost:8080/",
          "height": 474
        },
        "id": "DI16LyC7calB",
        "outputId": "5576d35b-6e22-4c05-d754-6285edeb9436",
        "execution": {
          "iopub.status.busy": "2024-07-31T22:30:48.638510Z",
          "iopub.execute_input": "2024-07-31T22:30:48.639972Z",
          "iopub.status.idle": "2024-07-31T22:30:48.972794Z"
        },
        "trusted": true
      },
      "execution_count": null,
      "outputs": [
        {
          "name": "stderr",
          "text": "\u001b[1m\u001b[22m`geom_smooth()` using formula = 'y ~ x'\n",
          "output_type": "stream"
        },
        {
          "output_type": "display_data",
          "data": {
            "image/png": "[encoded data removed]"
          },
          "metadata": {
            "image/png": {
              "width": 420,
              "height": 240
            }
          }
        }
      ]
    },
    {
      "cell_type": "markdown",
      "source": [
        "### Matriz de correlação"
      ],
      "metadata": {
        "id": "5_PIOCAv75k9"
      }
    },
    {
      "cell_type": "code",
      "source": [
        "cor(dataset)"
      ],
      "metadata": {
        "colab": {
          "base_uri": "https://localhost:8080/",
          "height": 111
        },
        "id": "R7Zr6nuy75k-",
        "outputId": "4fa8db39-0b93-42c4-8c61-315102699102",
        "execution": {
          "iopub.status.busy": "2024-07-31T22:30:48.976175Z",
          "iopub.execute_input": "2024-07-31T22:30:48.977755Z",
          "iopub.status.idle": "2024-07-31T22:30:48.997389Z"
        },
        "trusted": true
      },
      "execution_count": null,
      "outputs": [
        {
          "output_type": "display_data",
          "data": {
            "text/html": "<table class=\"dataframe\">\n<caption>A matrix: 2 × 2 of type dbl</caption>\n<thead>\n\t<tr><th></th><th scope=col>Y</th><th scope=col>X</th></tr>\n</thead>\n<tbody>\n\t<tr><th scope=row>Y</th><td>1.0000000</td><td>0.9848352</td></tr>\n\t<tr><th scope=row>X</th><td>0.9848352</td><td>1.0000000</td></tr>\n</tbody>\n</table>\n",
            "text/markdown": "\nA matrix: 2 × 2 of type dbl\n\n| <!--/--> | Y | X |\n|---|---|---|\n| Y | 1.0000000 | 0.9848352 |\n| X | 0.9848352 | 1.0000000 |\n\n",
            "text/latex": "A matrix: 2 × 2 of type dbl\n\\begin{tabular}{r|ll}\n  & Y & X\\\\\n\\hline\n\tY & 1.0000000 & 0.9848352\\\\\n\tX & 0.9848352 & 1.0000000\\\\\n\\end{tabular}\n",
            "text/plain": "  Y         X        \nY 1.0000000 0.9848352\nX 0.9848352 1.0000000"
          },
          "metadata": {}
        }
      ]
    },
    {
      "cell_type": "markdown",
      "source": [
        "### Função de regressão populacional\n",
        "\n",
        "A equação formulada acima é conhecida como **função de regressão populacional (FRP)** e em alguns livros é também representada da seguinte forma:\n",
        "\n",
        "# $$E(Y|X_i) = \\beta_1 + \\beta_2X_i$$\n",
        "\n",
        "Ela afirma que o valor esperado da distribuição de $Y$, dado $X_i$, tem uma relação funcional com $X_i$, isto é, a resposta média de $Y$ varia com $X$. Os coeficientes $\\beta_1$ e $\\beta_2$ são conhecidos como coeficientes de regressão e também como intercepto e coeficiente angular, respectivamente.\n",
        "\n",
        "<img src=\"https://caelum-online-public.s3.amazonaws.com/1273-estatistica-parte4/01/img027.png\" width=50%>\n",
        "\n",
        "O gráfico de dispersão mais abaixo deixa claro que com o aumento da renda familiar, em média, as despesas de consumo das famílias aumentam, mas não no mesmo nível. O que podemos dizer é que para um nível de renda $X_i$ as despesas médias de consumo de uma\n",
        "família agrupam-se em torno do consumo médio de todas as famílias deste nível $X_i$, isto é, em torno de sua esperança condicional $E(Y|X_i)$. Portanto, podemos expressar o desvio individual de $Y_i$ em torno de seu valor esperado da seguinte forma:\n",
        "\n",
        "# $$u_i = Y_i - E(Y|X_i)$$\n",
        "\n",
        "ou\n",
        "\n",
        "# $$Y_i = E(Y|X_i) + u_i$$\n",
        "\n",
        "onde o desvio $u_i$ é uma variável aleatória não-observável que assume valores positivos ou negativos. Esta variável é também conhecida como termo de erro estocástico.\n",
        "\n",
        "Observe que a partir da elaboração acima podemos representar a FRP em sua forma estocástica da seguinte maneira:\n",
        "\n",
        "# $$Y_i = \\beta_1 + \\beta_2X_i + u_i$$"
      ],
      "metadata": {
        "id": "lzD2VpXccak9"
      }
    },
    {
      "cell_type": "markdown",
      "source": [
        "## <font color=green>4.2 O método de mínimos quadrados</font>\n",
        "***"
      ],
      "metadata": {
        "id": "yOR8pKHkcak9"
      }
    },
    {
      "cell_type": "markdown",
      "source": [
        "Considere a seguinte **função de regressão da população (FRP)** para duas variáveis:\n",
        "\n",
        "# $$Y_i = \\beta_1 + \\beta_2X_i + u_i$$\n",
        "\n",
        "Como a **FRP** não pode ser obtida de forma direta, precisamos estimá-la através da **função de regressão amostral (FRA)**.\n",
        "\n",
        "# $$Y_i = \\hat{\\beta}_1 + \\hat{\\beta}_2X_i + \\hat{u}_i$$\n",
        "# $$Y_i = \\hat{Y}_i + \\hat{u}_i$$\n",
        "\n",
        "onde $\\hat{Y}_i$ é o valor estimado de $Y_i$.\n",
        "\n",
        "A partir da equação acima podemos expressar o erro da seguinte maneira:\n",
        "\n",
        "# $$\\hat{u}_i = Y_i - \\hat{Y}_i$$\n",
        "# $$\\hat{u}_i = Y_i - \\hat{\\beta}_1 - \\hat{\\beta}_2X_i$$\n",
        "\n",
        "A ideia é determinar **FRA** de forma que fique o mais próximo possível do valor observado de $Y$. Intuitivamente uma forma interessante de fazer isso seria determinar **FRA** de maneira que a soma dos resíduos seja a menor possível.\n",
        "\n",
        "# $$\\sum\\hat{u}_i = \\sum{(Y_i - \\hat{Y}_i)}$$\n",
        "\n",
        "Avaliando a figura abaixo se pode verificar que talvez o critério de minimizar a soma dos resíduos não seja a melhor abordagem para solucionar o problema.\n",
        "\n",
        "<img src=\"https://caelum-online-public.s3.amazonaws.com/1273-estatistica-parte4/01/img015.png\" width=50%>\n",
        "\n",
        "O critério de minimização da soma dos resíduos assume que todos os resíduos têm o mesmo peso no somatório, o que nem sempre se comprova. Em nosso exemplo os resíduos $\\hat{u}_1$ e $\\hat{u}_4$ encontram-se bem mais afastados da **FRA** que $\\hat{u}_2$ e $\\hat{u}_3$. Isso acarreta na possibilidade de que a soma dos $\\hat{u}_i$'s seja bastante pequena e até mesmo nula, mesmo que os resíduos estejam muito dispersos em relação a reta de regressão.\n",
        "\n",
        "Para evitar tal problema adotou-se o critério de minimização da soma dos quadrados dos resíduos que é conhecido como **Método de Mínimos Quadrados**.\n",
        "\n",
        "# $$\\sum\\hat{u}_i^2 = \\sum{(Y_i - \\hat{Y}_i)^2}$$\n",
        "# $$\\sum\\hat{u}_i^2 = \\sum{(Y_i - \\hat{\\beta}_1 - \\hat{\\beta}_2X_i)^2}$$\n",
        "\n",
        "Após um procedimento de diferenciação, algumas simplificações e manipulações algébricas obtemos os **estimadores de mínimos quadrados**.\n",
        "\n",
        "# $$\n",
        "\\begin{equation}\n",
        "\\boxed{\\hat{\\beta}_2 = \\frac{n\\sum{X_iY_i} - \\sum{X_i}\\sum{Y_i}}{n\\sum{X_i^2} - (\\sum{X_i})^2}}\n",
        "\\end{equation}\n",
        "$$\n",
        "\n",
        "# $$\n",
        "\\begin{equation}\n",
        "\\boxed{\n",
        "\\begin{eqnarray}\n",
        "\\hat{\\beta}_1 &=& \\frac{\\sum{X_i^2}\\sum{Y_i} - \\sum{X_i}\\sum{X_iY_i}}{n\\sum{X_i^2} - (\\sum{X_i})^2}\\\\\n",
        "&=& \\bar{Y} - \\hat{\\beta}_2\\bar{X}\n",
        "\\end{eqnarray}\n",
        "}\n",
        "\\end{equation}\n",
        "$$"
      ],
      "metadata": {
        "id": "M-iKUvPlcak-"
      }
    },
    {
      "cell_type": "markdown",
      "source": [
        "## <font color=green>4.3 Estimadores de mínimos quadrados ordinários</font>\n",
        "***"
      ],
      "metadata": {
        "id": "bIsppET0cak-"
      }
    },
    {
      "cell_type": "markdown",
      "source": [
        "### Obter $n$"
      ],
      "metadata": {
        "id": "HTFJyCNCcalE"
      }
    },
    {
      "cell_type": "code",
      "source": [
        "n <- nrow(dataset)\n",
        "n"
      ],
      "metadata": {
        "colab": {
          "base_uri": "https://localhost:8080/",
          "height": 35
        },
        "id": "ZcHOhSNRcalE",
        "outputId": "8a21ac4b-34d6-4139-cef4-6a3a79dd240f",
        "execution": {
          "iopub.status.busy": "2024-07-31T22:30:49.000167Z",
          "iopub.execute_input": "2024-07-31T22:30:49.001712Z",
          "iopub.status.idle": "2024-07-31T22:30:49.018788Z"
        },
        "trusted": true
      },
      "execution_count": null,
      "outputs": [
        {
          "output_type": "display_data",
          "data": {
            "text/html": "50",
            "text/markdown": "50",
            "text/latex": "50",
            "text/plain": "[1] 50"
          },
          "metadata": {}
        }
      ]
    },
    {
      "cell_type": "markdown",
      "source": [
        "### Obter $\\sum{Y}$"
      ],
      "metadata": {
        "id": "2R8QzULvcalF"
      }
    },
    {
      "cell_type": "code",
      "source": [
        "SOMA_Y <- sum(dataset$Y)\n",
        "SOMA_Y"
      ],
      "metadata": {
        "colab": {
          "base_uri": "https://localhost:8080/",
          "height": 35
        },
        "id": "wfY4FHLgcalG",
        "outputId": "7034961e-e69c-424b-8a81-ef3443856811",
        "execution": {
          "iopub.status.busy": "2024-07-31T22:30:49.021526Z",
          "iopub.execute_input": "2024-07-31T22:30:49.023008Z",
          "iopub.status.idle": "2024-07-31T22:30:49.041255Z"
        },
        "trusted": true
      },
      "execution_count": null,
      "outputs": [
        {
          "output_type": "display_data",
          "data": {
            "text/html": "100556",
            "text/markdown": "100556",
            "text/latex": "100556",
            "text/plain": "[1] 100556"
          },
          "metadata": {}
        }
      ]
    },
    {
      "cell_type": "markdown",
      "source": [
        "### Obter $\\sum{X}$"
      ],
      "metadata": {
        "id": "dpWo8F-fcalI"
      }
    },
    {
      "cell_type": "code",
      "source": [
        "SOMA_X <- sum(dataset$X)\n",
        "SOMA_X"
      ],
      "metadata": {
        "colab": {
          "base_uri": "https://localhost:8080/",
          "height": 35
        },
        "id": "vgRIhNl9calI",
        "outputId": "58ef8ded-cbde-440a-a2ed-4f6c1e1b49a3",
        "execution": {
          "iopub.status.busy": "2024-07-31T22:30:49.044188Z",
          "iopub.execute_input": "2024-07-31T22:30:49.045759Z",
          "iopub.status.idle": "2024-07-31T22:30:49.064822Z"
        },
        "trusted": true
      },
      "execution_count": null,
      "outputs": [
        {
          "output_type": "display_data",
          "data": {
            "text/html": "303275",
            "text/markdown": "303275",
            "text/latex": "303275",
            "text/plain": "[1] 303275"
          },
          "metadata": {}
        }
      ]
    },
    {
      "cell_type": "markdown",
      "source": [
        "### Obter $\\sum{X^2}$"
      ],
      "metadata": {
        "id": "ZOrXXyygcalJ"
      }
    },
    {
      "cell_type": "code",
      "source": [
        "dataset$X2 <- dataset$X ** 2"
      ],
      "metadata": {
        "id": "boXBQUIJcalK",
        "scrolled": true,
        "execution": {
          "iopub.status.busy": "2024-07-31T22:30:49.068013Z",
          "iopub.execute_input": "2024-07-31T22:30:49.069707Z",
          "iopub.status.idle": "2024-07-31T22:30:49.082638Z"
        },
        "trusted": true
      },
      "execution_count": null,
      "outputs": []
    },
    {
      "cell_type": "code",
      "source": [
        "SOMA_X2 <- sum(dataset$X2)\n",
        "SOMA_X2"
      ],
      "metadata": {
        "colab": {
          "base_uri": "https://localhost:8080/",
          "height": 35
        },
        "id": "ce-I43picalL",
        "outputId": "da5633b5-6ec6-4b44-e4cf-c7dabe6f351d",
        "execution": {
          "iopub.status.busy": "2024-07-31T22:30:49.086114Z",
          "iopub.execute_input": "2024-07-31T22:30:49.087942Z",
          "iopub.status.idle": "2024-07-31T22:30:49.108285Z"
        },
        "trusted": true
      },
      "execution_count": null,
      "outputs": [
        {
          "output_type": "display_data",
          "data": {
            "text/html": "2198628939",
            "text/markdown": "2198628939",
            "text/latex": "2198628939",
            "text/plain": "[1] 2198628939"
          },
          "metadata": {}
        }
      ]
    },
    {
      "cell_type": "code",
      "source": [
        "SOMA_X2 <- sum(apply(dataset, 1, function(x) x['X'] ** 2))\n",
        "SOMA_X2"
      ],
      "metadata": {
        "execution": {
          "iopub.status.busy": "2024-07-31T22:30:49.112320Z",
          "iopub.execute_input": "2024-07-31T22:30:49.114044Z",
          "iopub.status.idle": "2024-07-31T22:30:49.135194Z"
        },
        "trusted": true,
        "id": "h2jK3thVBBGc",
        "outputId": "b1fc9e3f-b6f4-4964-d2d7-3359ccc0f72d"
      },
      "execution_count": null,
      "outputs": [
        {
          "output_type": "display_data",
          "data": {
            "text/html": "2198628939",
            "text/markdown": "2198628939",
            "text/latex": "2198628939",
            "text/plain": "[1] 2198628939"
          },
          "metadata": {}
        }
      ]
    },
    {
      "cell_type": "code",
      "source": [
        "dataset$X2 <- NULL\n",
        "dataset"
      ],
      "metadata": {
        "scrolled": true,
        "execution": {
          "iopub.status.busy": "2024-07-31T22:30:49.138037Z",
          "iopub.execute_input": "2024-07-31T22:30:49.139604Z",
          "iopub.status.idle": "2024-07-31T22:30:49.192942Z"
        },
        "trusted": true,
        "id": "lDLLvzF0BBGd",
        "outputId": "9105316b-219d-45b4-a117-73660d57e686"
      },
      "execution_count": null,
      "outputs": [
        {
          "output_type": "display_data",
          "data": {
            "text/html": "<table class=\"dataframe\">\n<caption>A data.frame: 50 × 2</caption>\n<thead>\n\t<tr><th scope=col>Y</th><th scope=col>X</th></tr>\n\t<tr><th scope=col>&lt;dbl&gt;</th><th scope=col>&lt;dbl&gt;</th></tr>\n</thead>\n<tbody>\n\t<tr><td>3011</td><td>9714</td></tr>\n\t<tr><td>1305</td><td>3728</td></tr>\n\t<tr><td>1879</td><td>6062</td></tr>\n\t<tr><td>2654</td><td>8845</td></tr>\n\t<tr><td>2849</td><td>8378</td></tr>\n\t<tr><td>1068</td><td>3338</td></tr>\n\t<tr><td>2892</td><td>8507</td></tr>\n\t<tr><td>2543</td><td>7947</td></tr>\n\t<tr><td>3074</td><td>9915</td></tr>\n\t<tr><td> 849</td><td>1632</td></tr>\n\t<tr><td>2184</td><td>6825</td></tr>\n\t<tr><td>2943</td><td>8918</td></tr>\n\t<tr><td>1357</td><td>4100</td></tr>\n\t<tr><td>2755</td><td>9184</td></tr>\n\t<tr><td>2163</td><td>6180</td></tr>\n\t<tr><td>3099</td><td>9997</td></tr>\n\t<tr><td>1600</td><td>4500</td></tr>\n\t<tr><td> 353</td><td>1069</td></tr>\n\t<tr><td>1778</td><td>5925</td></tr>\n\t<tr><td> 740</td><td>2466</td></tr>\n\t<tr><td>2129</td><td>6083</td></tr>\n\t<tr><td>3302</td><td>9712</td></tr>\n\t<tr><td>2412</td><td>7780</td></tr>\n\t<tr><td>2683</td><td>8383</td></tr>\n\t<tr><td>2515</td><td>7185</td></tr>\n\t<tr><td>2395</td><td>7483</td></tr>\n\t<tr><td>2292</td><td>7640</td></tr>\n\t<tr><td>1000</td><td>2100</td></tr>\n\t<tr><td> 600</td><td>2000</td></tr>\n\t<tr><td>1864</td><td>6012</td></tr>\n\t<tr><td>3027</td><td>8902</td></tr>\n\t<tr><td>1978</td><td>5345</td></tr>\n\t<tr><td>2791</td><td>8210</td></tr>\n\t<tr><td>1982</td><td>5662</td></tr>\n\t<tr><td> 900</td><td>2700</td></tr>\n\t<tr><td>1964</td><td>6546</td></tr>\n\t<tr><td>1247</td><td>2900</td></tr>\n\t<tr><td>3067</td><td>9894</td></tr>\n\t<tr><td> 700</td><td>1500</td></tr>\n\t<tr><td>1500</td><td>5000</td></tr>\n\t<tr><td>3110</td><td>8885</td></tr>\n\t<tr><td>2644</td><td>8813</td></tr>\n\t<tr><td>1378</td><td>3446</td></tr>\n\t<tr><td>2601</td><td>7881</td></tr>\n\t<tr><td> 501</td><td>1164</td></tr>\n\t<tr><td>1292</td><td>3401</td></tr>\n\t<tr><td>2125</td><td>6641</td></tr>\n\t<tr><td>1431</td><td>3329</td></tr>\n\t<tr><td>2260</td><td>6648</td></tr>\n\t<tr><td>1770</td><td>4800</td></tr>\n</tbody>\n</table>\n",
            "text/markdown": "\nA data.frame: 50 × 2\n\n| Y &lt;dbl&gt; | X &lt;dbl&gt; |\n|---|---|\n| 3011 | 9714 |\n| 1305 | 3728 |\n| 1879 | 6062 |\n| 2654 | 8845 |\n| 2849 | 8378 |\n| 1068 | 3338 |\n| 2892 | 8507 |\n| 2543 | 7947 |\n| 3074 | 9915 |\n|  849 | 1632 |\n| 2184 | 6825 |\n| 2943 | 8918 |\n| 1357 | 4100 |\n| 2755 | 9184 |\n| 2163 | 6180 |\n| 3099 | 9997 |\n| 1600 | 4500 |\n|  353 | 1069 |\n| 1778 | 5925 |\n|  740 | 2466 |\n| 2129 | 6083 |\n| 3302 | 9712 |\n| 2412 | 7780 |\n| 2683 | 8383 |\n| 2515 | 7185 |\n| 2395 | 7483 |\n| 2292 | 7640 |\n| 1000 | 2100 |\n|  600 | 2000 |\n| 1864 | 6012 |\n| 3027 | 8902 |\n| 1978 | 5345 |\n| 2791 | 8210 |\n| 1982 | 5662 |\n|  900 | 2700 |\n| 1964 | 6546 |\n| 1247 | 2900 |\n| 3067 | 9894 |\n|  700 | 1500 |\n| 1500 | 5000 |\n| 3110 | 8885 |\n| 2644 | 8813 |\n| 1378 | 3446 |\n| 2601 | 7881 |\n|  501 | 1164 |\n| 1292 | 3401 |\n| 2125 | 6641 |\n| 1431 | 3329 |\n| 2260 | 6648 |\n| 1770 | 4800 |\n\n",
            "text/latex": "A data.frame: 50 × 2\n\\begin{tabular}{ll}\n Y & X\\\\\n <dbl> & <dbl>\\\\\n\\hline\n\t 3011 & 9714\\\\\n\t 1305 & 3728\\\\\n\t 1879 & 6062\\\\\n\t 2654 & 8845\\\\\n\t 2849 & 8378\\\\\n\t 1068 & 3338\\\\\n\t 2892 & 8507\\\\\n\t 2543 & 7947\\\\\n\t 3074 & 9915\\\\\n\t  849 & 1632\\\\\n\t 2184 & 6825\\\\\n\t 2943 & 8918\\\\\n\t 1357 & 4100\\\\\n\t 2755 & 9184\\\\\n\t 2163 & 6180\\\\\n\t 3099 & 9997\\\\\n\t 1600 & 4500\\\\\n\t  353 & 1069\\\\\n\t 1778 & 5925\\\\\n\t  740 & 2466\\\\\n\t 2129 & 6083\\\\\n\t 3302 & 9712\\\\\n\t 2412 & 7780\\\\\n\t 2683 & 8383\\\\\n\t 2515 & 7185\\\\\n\t 2395 & 7483\\\\\n\t 2292 & 7640\\\\\n\t 1000 & 2100\\\\\n\t  600 & 2000\\\\\n\t 1864 & 6012\\\\\n\t 3027 & 8902\\\\\n\t 1978 & 5345\\\\\n\t 2791 & 8210\\\\\n\t 1982 & 5662\\\\\n\t  900 & 2700\\\\\n\t 1964 & 6546\\\\\n\t 1247 & 2900\\\\\n\t 3067 & 9894\\\\\n\t  700 & 1500\\\\\n\t 1500 & 5000\\\\\n\t 3110 & 8885\\\\\n\t 2644 & 8813\\\\\n\t 1378 & 3446\\\\\n\t 2601 & 7881\\\\\n\t  501 & 1164\\\\\n\t 1292 & 3401\\\\\n\t 2125 & 6641\\\\\n\t 1431 & 3329\\\\\n\t 2260 & 6648\\\\\n\t 1770 & 4800\\\\\n\\end{tabular}\n",
            "text/plain": "   Y    X   \n1  3011 9714\n2  1305 3728\n3  1879 6062\n4  2654 8845\n5  2849 8378\n6  1068 3338\n7  2892 8507\n8  2543 7947\n9  3074 9915\n10  849 1632\n11 2184 6825\n12 2943 8918\n13 1357 4100\n14 2755 9184\n15 2163 6180\n16 3099 9997\n17 1600 4500\n18  353 1069\n19 1778 5925\n20  740 2466\n21 2129 6083\n22 3302 9712\n23 2412 7780\n24 2683 8383\n25 2515 7185\n26 2395 7483\n27 2292 7640\n28 1000 2100\n29  600 2000\n30 1864 6012\n31 3027 8902\n32 1978 5345\n33 2791 8210\n34 1982 5662\n35  900 2700\n36 1964 6546\n37 1247 2900\n38 3067 9894\n39  700 1500\n40 1500 5000\n41 3110 8885\n42 2644 8813\n43 1378 3446\n44 2601 7881\n45  501 1164\n46 1292 3401\n47 2125 6641\n48 1431 3329\n49 2260 6648\n50 1770 4800"
          },
          "metadata": {}
        }
      ]
    },
    {
      "cell_type": "markdown",
      "source": [
        "### Obter $\\sum{Y^2}$"
      ],
      "metadata": {
        "id": "ls1COzpxcalN"
      }
    },
    {
      "cell_type": "code",
      "source": [
        "SOMA_Y2 <- sum(apply(dataset, 1, function(x) x['Y'] ** 2))\n",
        "SOMA_Y2"
      ],
      "metadata": {
        "colab": {
          "base_uri": "https://localhost:8080/",
          "height": 35
        },
        "id": "gYc_poUmcalN",
        "outputId": "b8a0cc3e-6c2f-41cf-aaba-6e3ca3246c74",
        "execution": {
          "iopub.status.busy": "2024-07-31T22:30:49.196366Z",
          "iopub.execute_input": "2024-07-31T22:30:49.198025Z",
          "iopub.status.idle": "2024-07-31T22:30:49.218543Z"
        },
        "trusted": true
      },
      "execution_count": null,
      "outputs": [
        {
          "output_type": "display_data",
          "data": {
            "text/html": "234954332",
            "text/markdown": "234954332",
            "text/latex": "234954332",
            "text/plain": "[1] 234954332"
          },
          "metadata": {}
        }
      ]
    },
    {
      "cell_type": "markdown",
      "source": [
        "### Obter $\\sum{XY}$"
      ],
      "metadata": {
        "id": "UsCtTk3pcalP"
      }
    },
    {
      "cell_type": "code",
      "source": [
        "SOMA_XY <- sum(apply(dataset, 1, function(x) x['Y'] * x['X']))\n",
        "SOMA_XY"
      ],
      "metadata": {
        "colab": {
          "base_uri": "https://localhost:8080/",
          "height": 35
        },
        "id": "s1NNuoM4calQ",
        "outputId": "cc080b68-6635-47c4-bc48-157801759ea6",
        "execution": {
          "iopub.status.busy": "2024-07-31T22:30:49.221413Z",
          "iopub.execute_input": "2024-07-31T22:30:49.222986Z",
          "iopub.status.idle": "2024-07-31T22:30:49.244742Z"
        },
        "trusted": true
      },
      "execution_count": null,
      "outputs": [
        {
          "output_type": "display_data",
          "data": {
            "text/html": "716683794",
            "text/markdown": "716683794",
            "text/latex": "716683794",
            "text/plain": "[1] 716683794"
          },
          "metadata": {}
        }
      ]
    },
    {
      "cell_type": "markdown",
      "source": [
        "### Obter $\\hat{\\beta}_2$\n",
        "\n",
        "# $$\\hat{\\beta}_2 = \\frac{n\\sum{X_iY_i} - \\sum{X_i}\\sum{Y_i}}{n\\sum{X_i^2} - (\\sum{X_i})^2}$$"
      ],
      "metadata": {
        "id": "EX-oAn2rcalU"
      }
    },
    {
      "cell_type": "code",
      "source": [
        "numerador <- n * SOMA_XY - SOMA_X * SOMA_Y\n",
        "denominador <- n * SOMA_X2 - (SOMA_X) ** 2\n",
        "\n",
        "beta_2 <- numerador / denominador\n",
        "beta_2"
      ],
      "metadata": {
        "colab": {
          "base_uri": "https://localhost:8080/",
          "height": 35
        },
        "id": "UY-nWn7LcalU",
        "outputId": "de545732-ffe4-4095-f42d-0c3bf6680fbb",
        "execution": {
          "iopub.status.busy": "2024-07-31T22:30:49.247574Z",
          "iopub.execute_input": "2024-07-31T22:30:49.249161Z",
          "iopub.status.idle": "2024-07-31T22:30:49.271902Z"
        },
        "trusted": true
      },
      "execution_count": null,
      "outputs": [
        {
          "output_type": "display_data",
          "data": {
            "text/html": "0.297290690993724",
            "text/markdown": "0.297290690993724",
            "text/latex": "0.297290690993724",
            "text/plain": "[1] 0.2972907"
          },
          "metadata": {}
        }
      ]
    },
    {
      "cell_type": "markdown",
      "source": [
        "### Obter $\\hat{\\beta}_1$\n",
        "\n",
        "# $$\n",
        "\\begin{eqnarray}\n",
        "\\hat{\\beta}_1 &=& \\frac{\\sum{X_i^2}\\sum{Y_i} - \\sum{X_i}\\sum{X_iY_i}}{n\\sum{X_i^2} - (\\sum{X_i})^2}\\\\\n",
        "&=& \\bar{Y} - \\hat{\\beta}_2\\bar{X}\n",
        "\\end{eqnarray}\n",
        "$$"
      ],
      "metadata": {
        "id": "v4QCFagscalW"
      }
    },
    {
      "cell_type": "code",
      "source": [
        "beta_1 <- mean(dataset$Y) - beta_2 * mean(dataset$X)\n",
        "beta_1"
      ],
      "metadata": {
        "colab": {
          "base_uri": "https://localhost:8080/",
          "height": 35
        },
        "id": "-Gjc1ra5calW",
        "outputId": "a469f5b7-eb58-4891-e618-6959ad1a6d39",
        "execution": {
          "iopub.status.busy": "2024-07-31T22:30:49.274702Z",
          "iopub.execute_input": "2024-07-31T22:30:49.276199Z",
          "iopub.status.idle": "2024-07-31T22:30:49.294367Z"
        },
        "trusted": true
      },
      "execution_count": null,
      "outputs": [
        {
          "output_type": "display_data",
          "data": {
            "text/html": "207.903313777565",
            "text/markdown": "207.903313777565",
            "text/latex": "207.903313777565",
            "text/plain": "[1] 207.9033"
          },
          "metadata": {}
        }
      ]
    },
    {
      "cell_type": "markdown",
      "source": [
        "### Obtendo a estimativa dos parâmetros\n",
        "\n",
        "#### <font color=red>Documentações:\n",
        "\n",
        "- [**lm**](https://www.rdocumentation.org/packages/stats/versions/3.6.1/topics/lm)"
      ],
      "metadata": {
        "id": "SjcncMd1calY"
      }
    },
    {
      "cell_type": "code",
      "source": [
        "resultado_regressao <- lm(formula = Y ~ X, data = dataset)\n",
        "resultado_regressao"
      ],
      "metadata": {
        "id": "CGGritStcalh",
        "execution": {
          "iopub.status.busy": "2024-07-31T22:30:49.297106Z",
          "iopub.execute_input": "2024-07-31T22:30:49.298620Z",
          "iopub.status.idle": "2024-07-31T22:30:49.316857Z"
        },
        "trusted": true,
        "outputId": "2e891c33-76c1-4132-a554-87148d6f19a1"
      },
      "execution_count": null,
      "outputs": [
        {
          "output_type": "display_data",
          "data": {
            "text/plain": "\nCall:\nlm(formula = Y ~ X, data = dataset)\n\nCoefficients:\n(Intercept)            X  \n   207.9033       0.2973  \n"
          },
          "metadata": {}
        }
      ]
    },
    {
      "cell_type": "markdown",
      "source": [
        "### Visualizando os parâmetros estimados\n",
        "\n",
        "#### <font color=red>Documentações:\n",
        "\n",
        "- [**coef**](https://www.rdocumentation.org/packages/stats/versions/3.6.1/topics/coef)"
      ],
      "metadata": {
        "id": "pyVnbv7vcali"
      }
    },
    {
      "cell_type": "code",
      "source": [
        "beta_1"
      ],
      "metadata": {
        "colab": {
          "base_uri": "https://localhost:8080/",
          "height": 35
        },
        "id": "Ye2sF_ygcalj",
        "outputId": "d0e2d875-011a-4b71-8ff8-de0ace39e866",
        "execution": {
          "iopub.status.busy": "2024-07-31T22:30:49.319582Z",
          "iopub.execute_input": "2024-07-31T22:30:49.321013Z",
          "iopub.status.idle": "2024-07-31T22:30:49.337721Z"
        },
        "trusted": true
      },
      "execution_count": null,
      "outputs": [
        {
          "output_type": "display_data",
          "data": {
            "text/html": "207.903313777565",
            "text/markdown": "207.903313777565",
            "text/latex": "207.903313777565",
            "text/plain": "[1] 207.9033"
          },
          "metadata": {}
        }
      ]
    },
    {
      "cell_type": "code",
      "source": [
        "beta_2"
      ],
      "metadata": {
        "colab": {
          "base_uri": "https://localhost:8080/",
          "height": 35
        },
        "id": "5RGcqao9call",
        "outputId": "f39c311b-499b-4317-d0ed-5cb7c488739a",
        "execution": {
          "iopub.status.busy": "2024-07-31T22:30:49.340565Z",
          "iopub.execute_input": "2024-07-31T22:30:49.342070Z",
          "iopub.status.idle": "2024-07-31T22:30:49.358275Z"
        },
        "trusted": true
      },
      "execution_count": null,
      "outputs": [
        {
          "output_type": "display_data",
          "data": {
            "text/html": "0.297290690993724",
            "text/markdown": "0.297290690993724",
            "text/latex": "0.297290690993724",
            "text/plain": "[1] 0.2972907"
          },
          "metadata": {}
        }
      ]
    },
    {
      "cell_type": "code",
      "source": [
        "coefficients(resultado_regressao)"
      ],
      "metadata": {
        "execution": {
          "iopub.status.busy": "2024-07-31T22:30:49.361142Z",
          "iopub.execute_input": "2024-07-31T22:30:49.362705Z",
          "iopub.status.idle": "2024-07-31T22:30:49.380131Z"
        },
        "trusted": true,
        "id": "gDuExPDzBBGg",
        "outputId": "c99dab55-95f8-4a49-ffee-2e4359b700d8"
      },
      "execution_count": null,
      "outputs": [
        {
          "output_type": "display_data",
          "data": {
            "text/html": "<style>\n.dl-inline {width: auto; margin:0; padding: 0}\n.dl-inline>dt, .dl-inline>dd {float: none; width: auto; display: inline-block}\n.dl-inline>dt::after {content: \":\\0020\"; padding-right: .5ex}\n.dl-inline>dt:not(:first-of-type) {padding-left: .5ex}\n</style><dl class=dl-inline><dt>(Intercept)</dt><dd>207.903313777565</dd><dt>X</dt><dd>0.297290690993724</dd></dl>\n",
            "text/markdown": "(Intercept)\n:   207.903313777565X\n:   0.297290690993724\n\n",
            "text/latex": "\\begin{description*}\n\\item[(Intercept)] 207.903313777565\n\\item[X] 0.297290690993724\n\\end{description*}\n",
            "text/plain": "(Intercept)           X \n207.9033138   0.2972907 "
          },
          "metadata": {}
        }
      ]
    },
    {
      "cell_type": "code",
      "source": [
        "resumo <- summary(resultado_regressao)\n",
        "resumo"
      ],
      "metadata": {
        "execution": {
          "iopub.status.busy": "2024-07-31T22:30:49.382981Z",
          "iopub.execute_input": "2024-07-31T22:30:49.384526Z",
          "iopub.status.idle": "2024-07-31T22:30:49.405208Z"
        },
        "trusted": true,
        "id": "SHnJp_6zBBGg",
        "outputId": "b5b2f43c-b730-4fdd-c354-5901b9edc885"
      },
      "execution_count": null,
      "outputs": [
        {
          "output_type": "display_data",
          "data": {
            "text/plain": "\nCall:\nlm(formula = Y ~ X, data = dataset)\n\nResiduals:\n    Min      1Q  Median      3Q     Max \n-202.49 -125.96  -22.28  140.53  260.67 \n\nCoefficients:\n             Estimate Std. Error t value Pr(>|t|)    \n(Intercept) 2.079e+02  5.013e+01   4.148 0.000136 ***\nX           2.973e-01  7.559e-03  39.328  < 2e-16 ***\n---\nSignif. codes:  0 ‘***’ 0.001 ‘**’ 0.01 ‘*’ 0.05 ‘.’ 0.1 ‘ ’ 1\n\nResidual standard error: 143.2 on 48 degrees of freedom\nMultiple R-squared:  0.9699,\tAdjusted R-squared:  0.9693 \nF-statistic:  1547 on 1 and 48 DF,  p-value: < 2.2e-16\n"
          },
          "metadata": {}
        }
      ]
    },
    {
      "cell_type": "code",
      "source": [
        "resumo$coefficients"
      ],
      "metadata": {
        "execution": {
          "iopub.status.busy": "2024-07-31T22:30:49.408397Z",
          "iopub.execute_input": "2024-07-31T22:30:49.410026Z",
          "iopub.status.idle": "2024-07-31T22:30:49.432955Z"
        },
        "trusted": true,
        "id": "Ofjm8TY7BBGh",
        "outputId": "a0a647c4-34b2-4b09-8203-f23ee6dce8c8"
      },
      "execution_count": null,
      "outputs": [
        {
          "output_type": "display_data",
          "data": {
            "text/html": "<table class=\"dataframe\">\n<caption>A matrix: 2 × 4 of type dbl</caption>\n<thead>\n\t<tr><th></th><th scope=col>Estimate</th><th scope=col>Std. Error</th><th scope=col>t value</th><th scope=col>Pr(&gt;|t|)</th></tr>\n</thead>\n<tbody>\n\t<tr><th scope=row>(Intercept)</th><td>207.9033138</td><td>50.126682183</td><td> 4.147558</td><td>1.362270e-04</td></tr>\n\t<tr><th scope=row>X</th><td>  0.2972907</td><td> 0.007559238</td><td>39.328132</td><td>3.555543e-38</td></tr>\n</tbody>\n</table>\n",
            "text/markdown": "\nA matrix: 2 × 4 of type dbl\n\n| <!--/--> | Estimate | Std. Error | t value | Pr(&gt;|t|) |\n|---|---|---|---|---|\n| (Intercept) | 207.9033138 | 50.126682183 |  4.147558 | 1.362270e-04 |\n| X |   0.2972907 |  0.007559238 | 39.328132 | 3.555543e-38 |\n\n",
            "text/latex": "A matrix: 2 × 4 of type dbl\n\\begin{tabular}{r|llll}\n  & Estimate & Std. Error & t value & Pr(>\\textbar{}t\\textbar{})\\\\\n\\hline\n\t(Intercept) & 207.9033138 & 50.126682183 &  4.147558 & 1.362270e-04\\\\\n\tX &   0.2972907 &  0.007559238 & 39.328132 & 3.555543e-38\\\\\n\\end{tabular}\n",
            "text/plain": "            Estimate    Std. Error   t value   Pr(>|t|)    \n(Intercept) 207.9033138 50.126682183  4.147558 1.362270e-04\nX             0.2972907  0.007559238 39.328132 3.555543e-38"
          },
          "metadata": {}
        }
      ]
    },
    {
      "cell_type": "markdown",
      "source": [
        "## <font color=green>4.4 Obtendo previsões</font>\n",
        "***"
      ],
      "metadata": {
        "id": "Je8U449lcalq"
      }
    },
    {
      "cell_type": "markdown",
      "source": [
        "# $$\\hat{Y}_i = 207,9033 + 0,2973X_i$$"
      ],
      "metadata": {
        "id": "PNPQFFsrcalq"
      }
    },
    {
      "cell_type": "markdown",
      "source": [
        "### Previsões dentro da amostra"
      ],
      "metadata": {
        "id": "qNpJclcrcalr"
      }
    },
    {
      "cell_type": "code",
      "source": [
        "dataset['Y_previsto'] <- beta_1 + beta_2 * dataset$X\n",
        "head(dataset, 10)"
      ],
      "metadata": {
        "colab": {
          "base_uri": "https://localhost:8080/",
          "height": 359
        },
        "id": "fqOX7ssAcalr",
        "outputId": "aa8eafbb-24ad-44e5-c85a-47f9c31e41b3",
        "scrolled": true,
        "execution": {
          "iopub.status.busy": "2024-07-31T22:30:49.435778Z",
          "iopub.execute_input": "2024-07-31T22:30:49.437250Z",
          "iopub.status.idle": "2024-07-31T22:30:49.465601Z"
        },
        "trusted": true
      },
      "execution_count": null,
      "outputs": [
        {
          "output_type": "display_data",
          "data": {
            "text/html": "<table class=\"dataframe\">\n<caption>A data.frame: 10 × 3</caption>\n<thead>\n\t<tr><th></th><th scope=col>Y</th><th scope=col>X</th><th scope=col>Y_previsto</th></tr>\n\t<tr><th></th><th scope=col>&lt;dbl&gt;</th><th scope=col>&lt;dbl&gt;</th><th scope=col>&lt;dbl&gt;</th></tr>\n</thead>\n<tbody>\n\t<tr><th scope=row>1</th><td>3011</td><td>9714</td><td>3095.7851</td></tr>\n\t<tr><th scope=row>2</th><td>1305</td><td>3728</td><td>1316.2030</td></tr>\n\t<tr><th scope=row>3</th><td>1879</td><td>6062</td><td>2010.0795</td></tr>\n\t<tr><th scope=row>4</th><td>2654</td><td>8845</td><td>2837.4395</td></tr>\n\t<tr><th scope=row>5</th><td>2849</td><td>8378</td><td>2698.6047</td></tr>\n\t<tr><th scope=row>6</th><td>1068</td><td>3338</td><td>1200.2596</td></tr>\n\t<tr><th scope=row>7</th><td>2892</td><td>8507</td><td>2736.9552</td></tr>\n\t<tr><th scope=row>8</th><td>2543</td><td>7947</td><td>2570.4724</td></tr>\n\t<tr><th scope=row>9</th><td>3074</td><td>9915</td><td>3155.5405</td></tr>\n\t<tr><th scope=row>10</th><td> 849</td><td>1632</td><td> 693.0817</td></tr>\n</tbody>\n</table>\n",
            "text/markdown": "\nA data.frame: 10 × 3\n\n| <!--/--> | Y &lt;dbl&gt; | X &lt;dbl&gt; | Y_previsto &lt;dbl&gt; |\n|---|---|---|---|\n| 1 | 3011 | 9714 | 3095.7851 |\n| 2 | 1305 | 3728 | 1316.2030 |\n| 3 | 1879 | 6062 | 2010.0795 |\n| 4 | 2654 | 8845 | 2837.4395 |\n| 5 | 2849 | 8378 | 2698.6047 |\n| 6 | 1068 | 3338 | 1200.2596 |\n| 7 | 2892 | 8507 | 2736.9552 |\n| 8 | 2543 | 7947 | 2570.4724 |\n| 9 | 3074 | 9915 | 3155.5405 |\n| 10 |  849 | 1632 |  693.0817 |\n\n",
            "text/latex": "A data.frame: 10 × 3\n\\begin{tabular}{r|lll}\n  & Y & X & Y\\_previsto\\\\\n  & <dbl> & <dbl> & <dbl>\\\\\n\\hline\n\t1 & 3011 & 9714 & 3095.7851\\\\\n\t2 & 1305 & 3728 & 1316.2030\\\\\n\t3 & 1879 & 6062 & 2010.0795\\\\\n\t4 & 2654 & 8845 & 2837.4395\\\\\n\t5 & 2849 & 8378 & 2698.6047\\\\\n\t6 & 1068 & 3338 & 1200.2596\\\\\n\t7 & 2892 & 8507 & 2736.9552\\\\\n\t8 & 2543 & 7947 & 2570.4724\\\\\n\t9 & 3074 & 9915 & 3155.5405\\\\\n\t10 &  849 & 1632 &  693.0817\\\\\n\\end{tabular}\n",
            "text/plain": "   Y    X    Y_previsto\n1  3011 9714 3095.7851 \n2  1305 3728 1316.2030 \n3  1879 6062 2010.0795 \n4  2654 8845 2837.4395 \n5  2849 8378 2698.6047 \n6  1068 3338 1200.2596 \n7  2892 8507 2736.9552 \n8  2543 7947 2570.4724 \n9  3074 9915 3155.5405 \n10  849 1632  693.0817 "
          },
          "metadata": {}
        }
      ]
    },
    {
      "cell_type": "markdown",
      "source": [
        "### Utilizando a função do R"
      ],
      "metadata": {
        "id": "hRRoxxAwcals"
      }
    },
    {
      "cell_type": "code",
      "source": [
        "dataset['Y_previsto_R'] <- resultado_regressao$fitted.values\n",
        "head(dataset, 10)"
      ],
      "metadata": {
        "colab": {
          "base_uri": "https://localhost:8080/",
          "height": 204
        },
        "id": "qLhv0yTgcals",
        "outputId": "43f540ac-006f-4e1c-adab-8a9e8844cef5",
        "scrolled": true,
        "execution": {
          "iopub.status.busy": "2024-07-31T22:30:49.468465Z",
          "iopub.execute_input": "2024-07-31T22:30:49.469971Z",
          "iopub.status.idle": "2024-07-31T22:30:49.498882Z"
        },
        "trusted": true
      },
      "execution_count": null,
      "outputs": [
        {
          "output_type": "display_data",
          "data": {
            "text/html": "<table class=\"dataframe\">\n<caption>A data.frame: 10 × 4</caption>\n<thead>\n\t<tr><th></th><th scope=col>Y</th><th scope=col>X</th><th scope=col>Y_previsto</th><th scope=col>Y_previsto_R</th></tr>\n\t<tr><th></th><th scope=col>&lt;dbl&gt;</th><th scope=col>&lt;dbl&gt;</th><th scope=col>&lt;dbl&gt;</th><th scope=col>&lt;dbl&gt;</th></tr>\n</thead>\n<tbody>\n\t<tr><th scope=row>1</th><td>3011</td><td>9714</td><td>3095.7851</td><td>3095.7851</td></tr>\n\t<tr><th scope=row>2</th><td>1305</td><td>3728</td><td>1316.2030</td><td>1316.2030</td></tr>\n\t<tr><th scope=row>3</th><td>1879</td><td>6062</td><td>2010.0795</td><td>2010.0795</td></tr>\n\t<tr><th scope=row>4</th><td>2654</td><td>8845</td><td>2837.4395</td><td>2837.4395</td></tr>\n\t<tr><th scope=row>5</th><td>2849</td><td>8378</td><td>2698.6047</td><td>2698.6047</td></tr>\n\t<tr><th scope=row>6</th><td>1068</td><td>3338</td><td>1200.2596</td><td>1200.2596</td></tr>\n\t<tr><th scope=row>7</th><td>2892</td><td>8507</td><td>2736.9552</td><td>2736.9552</td></tr>\n\t<tr><th scope=row>8</th><td>2543</td><td>7947</td><td>2570.4724</td><td>2570.4724</td></tr>\n\t<tr><th scope=row>9</th><td>3074</td><td>9915</td><td>3155.5405</td><td>3155.5405</td></tr>\n\t<tr><th scope=row>10</th><td> 849</td><td>1632</td><td> 693.0817</td><td> 693.0817</td></tr>\n</tbody>\n</table>\n",
            "text/markdown": "\nA data.frame: 10 × 4\n\n| <!--/--> | Y &lt;dbl&gt; | X &lt;dbl&gt; | Y_previsto &lt;dbl&gt; | Y_previsto_R &lt;dbl&gt; |\n|---|---|---|---|---|\n| 1 | 3011 | 9714 | 3095.7851 | 3095.7851 |\n| 2 | 1305 | 3728 | 1316.2030 | 1316.2030 |\n| 3 | 1879 | 6062 | 2010.0795 | 2010.0795 |\n| 4 | 2654 | 8845 | 2837.4395 | 2837.4395 |\n| 5 | 2849 | 8378 | 2698.6047 | 2698.6047 |\n| 6 | 1068 | 3338 | 1200.2596 | 1200.2596 |\n| 7 | 2892 | 8507 | 2736.9552 | 2736.9552 |\n| 8 | 2543 | 7947 | 2570.4724 | 2570.4724 |\n| 9 | 3074 | 9915 | 3155.5405 | 3155.5405 |\n| 10 |  849 | 1632 |  693.0817 |  693.0817 |\n\n",
            "text/latex": "A data.frame: 10 × 4\n\\begin{tabular}{r|llll}\n  & Y & X & Y\\_previsto & Y\\_previsto\\_R\\\\\n  & <dbl> & <dbl> & <dbl> & <dbl>\\\\\n\\hline\n\t1 & 3011 & 9714 & 3095.7851 & 3095.7851\\\\\n\t2 & 1305 & 3728 & 1316.2030 & 1316.2030\\\\\n\t3 & 1879 & 6062 & 2010.0795 & 2010.0795\\\\\n\t4 & 2654 & 8845 & 2837.4395 & 2837.4395\\\\\n\t5 & 2849 & 8378 & 2698.6047 & 2698.6047\\\\\n\t6 & 1068 & 3338 & 1200.2596 & 1200.2596\\\\\n\t7 & 2892 & 8507 & 2736.9552 & 2736.9552\\\\\n\t8 & 2543 & 7947 & 2570.4724 & 2570.4724\\\\\n\t9 & 3074 & 9915 & 3155.5405 & 3155.5405\\\\\n\t10 &  849 & 1632 &  693.0817 &  693.0817\\\\\n\\end{tabular}\n",
            "text/plain": "   Y    X    Y_previsto Y_previsto_R\n1  3011 9714 3095.7851  3095.7851   \n2  1305 3728 1316.2030  1316.2030   \n3  1879 6062 2010.0795  2010.0795   \n4  2654 8845 2837.4395  2837.4395   \n5  2849 8378 2698.6047  2698.6047   \n6  1068 3338 1200.2596  1200.2596   \n7  2892 8507 2736.9552  2736.9552   \n8  2543 7947 2570.4724  2570.4724   \n9  3074 9915 3155.5405  3155.5405   \n10  849 1632  693.0817   693.0817   "
          },
          "metadata": {}
        }
      ]
    },
    {
      "cell_type": "code",
      "source": [
        "dataset$Y_previsto_R <- NULL\n",
        "head(dataset, 10)"
      ],
      "metadata": {
        "colab": {
          "base_uri": "https://localhost:8080/",
          "height": 1599
        },
        "id": "FctIV05Kcalu",
        "outputId": "3482ccfd-9b1d-4dd4-d2de-cdc3926cd28b",
        "scrolled": true,
        "execution": {
          "iopub.status.busy": "2024-07-31T22:30:49.501712Z",
          "iopub.execute_input": "2024-07-31T22:30:49.503158Z",
          "iopub.status.idle": "2024-07-31T22:30:49.531212Z"
        },
        "trusted": true
      },
      "execution_count": null,
      "outputs": [
        {
          "output_type": "display_data",
          "data": {
            "text/html": "<table class=\"dataframe\">\n<caption>A data.frame: 10 × 3</caption>\n<thead>\n\t<tr><th></th><th scope=col>Y</th><th scope=col>X</th><th scope=col>Y_previsto</th></tr>\n\t<tr><th></th><th scope=col>&lt;dbl&gt;</th><th scope=col>&lt;dbl&gt;</th><th scope=col>&lt;dbl&gt;</th></tr>\n</thead>\n<tbody>\n\t<tr><th scope=row>1</th><td>3011</td><td>9714</td><td>3095.7851</td></tr>\n\t<tr><th scope=row>2</th><td>1305</td><td>3728</td><td>1316.2030</td></tr>\n\t<tr><th scope=row>3</th><td>1879</td><td>6062</td><td>2010.0795</td></tr>\n\t<tr><th scope=row>4</th><td>2654</td><td>8845</td><td>2837.4395</td></tr>\n\t<tr><th scope=row>5</th><td>2849</td><td>8378</td><td>2698.6047</td></tr>\n\t<tr><th scope=row>6</th><td>1068</td><td>3338</td><td>1200.2596</td></tr>\n\t<tr><th scope=row>7</th><td>2892</td><td>8507</td><td>2736.9552</td></tr>\n\t<tr><th scope=row>8</th><td>2543</td><td>7947</td><td>2570.4724</td></tr>\n\t<tr><th scope=row>9</th><td>3074</td><td>9915</td><td>3155.5405</td></tr>\n\t<tr><th scope=row>10</th><td> 849</td><td>1632</td><td> 693.0817</td></tr>\n</tbody>\n</table>\n",
            "text/markdown": "\nA data.frame: 10 × 3\n\n| <!--/--> | Y &lt;dbl&gt; | X &lt;dbl&gt; | Y_previsto &lt;dbl&gt; |\n|---|---|---|---|\n| 1 | 3011 | 9714 | 3095.7851 |\n| 2 | 1305 | 3728 | 1316.2030 |\n| 3 | 1879 | 6062 | 2010.0795 |\n| 4 | 2654 | 8845 | 2837.4395 |\n| 5 | 2849 | 8378 | 2698.6047 |\n| 6 | 1068 | 3338 | 1200.2596 |\n| 7 | 2892 | 8507 | 2736.9552 |\n| 8 | 2543 | 7947 | 2570.4724 |\n| 9 | 3074 | 9915 | 3155.5405 |\n| 10 |  849 | 1632 |  693.0817 |\n\n",
            "text/latex": "A data.frame: 10 × 3\n\\begin{tabular}{r|lll}\n  & Y & X & Y\\_previsto\\\\\n  & <dbl> & <dbl> & <dbl>\\\\\n\\hline\n\t1 & 3011 & 9714 & 3095.7851\\\\\n\t2 & 1305 & 3728 & 1316.2030\\\\\n\t3 & 1879 & 6062 & 2010.0795\\\\\n\t4 & 2654 & 8845 & 2837.4395\\\\\n\t5 & 2849 & 8378 & 2698.6047\\\\\n\t6 & 1068 & 3338 & 1200.2596\\\\\n\t7 & 2892 & 8507 & 2736.9552\\\\\n\t8 & 2543 & 7947 & 2570.4724\\\\\n\t9 & 3074 & 9915 & 3155.5405\\\\\n\t10 &  849 & 1632 &  693.0817\\\\\n\\end{tabular}\n",
            "text/plain": "   Y    X    Y_previsto\n1  3011 9714 3095.7851 \n2  1305 3728 1316.2030 \n3  1879 6062 2010.0795 \n4  2654 8845 2837.4395 \n5  2849 8378 2698.6047 \n6  1068 3338 1200.2596 \n7  2892 8507 2736.9552 \n8  2543 7947 2570.4724 \n9  3074 9915 3155.5405 \n10  849 1632  693.0817 "
          },
          "metadata": {}
        }
      ]
    },
    {
      "cell_type": "markdown",
      "source": [
        "### Estimando o 'Gasto das Famílias' fora da amostra"
      ],
      "metadata": {
        "id": "OZBs0luwcalv"
      }
    },
    {
      "cell_type": "code",
      "source": [
        "prever <- function(x){\n",
        "    return(beta_1 + beta_2 * x)\n",
        "}"
      ],
      "metadata": {
        "id": "4gXSqx41calv",
        "execution": {
          "iopub.status.busy": "2024-07-31T22:30:49.533955Z",
          "iopub.execute_input": "2024-07-31T22:30:49.535406Z",
          "iopub.status.idle": "2024-07-31T22:30:49.547724Z"
        },
        "trusted": true
      },
      "execution_count": null,
      "outputs": []
    },
    {
      "cell_type": "code",
      "source": [
        "prever(7510)"
      ],
      "metadata": {
        "colab": {
          "base_uri": "https://localhost:8080/",
          "height": 35
        },
        "id": "RyBwrPlQcalx",
        "outputId": "235af62b-8be5-4cb6-8b65-c3f5b1f5bb7e",
        "execution": {
          "iopub.status.busy": "2024-07-31T22:30:49.550557Z",
          "iopub.execute_input": "2024-07-31T22:30:49.557558Z",
          "iopub.status.idle": "2024-07-31T22:30:49.573044Z"
        },
        "trusted": true
      },
      "execution_count": null,
      "outputs": [
        {
          "output_type": "display_data",
          "data": {
            "text/html": "2440.55640314043",
            "text/markdown": "2440.55640314043",
            "text/latex": "2440.55640314043",
            "text/plain": "[1] 2440.556"
          },
          "metadata": {}
        }
      ]
    },
    {
      "cell_type": "markdown",
      "source": [
        "### Estimando o 'Gasto das Famílias' fora da amostra com a função do R\n",
        "\n",
        "#### <font color=red>Documentações:\n",
        "\n",
        "- [**predict**](https://www.rdocumentation.org/packages/stats/versions/3.6.1/topics/predict.lm)"
      ],
      "metadata": {
        "id": "3P0ZtB-Qcalz"
      }
    },
    {
      "cell_type": "code",
      "source": [
        "predict(resultado_regressao, data.frame(X = c(7510, 7550)))"
      ],
      "metadata": {
        "colab": {
          "base_uri": "https://localhost:8080/",
          "height": 35
        },
        "id": "DpDu_yiecal0",
        "outputId": "85d74e32-cb57-49d8-b582-cfab3d4cf210",
        "execution": {
          "iopub.status.busy": "2024-07-31T22:30:49.575726Z",
          "iopub.execute_input": "2024-07-31T22:30:49.577109Z",
          "iopub.status.idle": "2024-07-31T22:30:49.594834Z"
        },
        "trusted": true
      },
      "execution_count": null,
      "outputs": [
        {
          "output_type": "display_data",
          "data": {
            "text/html": "<style>\n.dl-inline {width: auto; margin:0; padding: 0}\n.dl-inline>dt, .dl-inline>dd {float: none; width: auto; display: inline-block}\n.dl-inline>dt::after {content: \":\\0020\"; padding-right: .5ex}\n.dl-inline>dt:not(:first-of-type) {padding-left: .5ex}\n</style><dl class=dl-inline><dt>1</dt><dd>2440.55640314043</dd><dt>2</dt><dd>2452.44803078018</dd></dl>\n",
            "text/markdown": "1\n:   2440.556403140432\n:   2452.44803078018\n\n",
            "text/latex": "\\begin{description*}\n\\item[1] 2440.55640314043\n\\item[2] 2452.44803078018\n\\end{description*}\n",
            "text/plain": "       1        2 \n2440.556 2452.448 "
          },
          "metadata": {}
        }
      ]
    },
    {
      "cell_type": "markdown",
      "source": [
        "## <font color=green>4.5 Resíduos</font>\n",
        "***"
      ],
      "metadata": {
        "id": "NfEjm65Gcal2"
      }
    },
    {
      "cell_type": "markdown",
      "source": [
        "Como vimos anteriormente, o resíduo da i-ésima observação é a diferença entre o valor observado de nossa variável dependente ($Y_i$) e o valor estimado da variável dependente ($\\hat{Y}_i$)."
      ],
      "metadata": {
        "id": "RVAQCkvH75mH"
      }
    },
    {
      "cell_type": "markdown",
      "source": [
        "# $$\\hat{u}_i = Y_i - \\hat{Y}_i$$"
      ],
      "metadata": {
        "id": "EAGrrY7xcal3"
      }
    },
    {
      "cell_type": "markdown",
      "source": [
        "Em outras palavras, $\\hat{u}_i$ é o erro obtido ao se utilizar a equação de regressão estimada para prever o valor da variável dependente."
      ],
      "metadata": {
        "id": "QVekZtNU75mH"
      }
    },
    {
      "cell_type": "code",
      "source": [
        "dataset['u'] <- dataset$Y - dataset$Y_previsto\n",
        "head(dataset)"
      ],
      "metadata": {
        "colab": {
          "base_uri": "https://localhost:8080/",
          "height": 204
        },
        "id": "oiB2JiOLcal3",
        "outputId": "64f5f10e-4462-4336-bbbf-8eba676f234d",
        "scrolled": true,
        "execution": {
          "iopub.status.busy": "2024-07-31T22:30:49.597735Z",
          "iopub.execute_input": "2024-07-31T22:30:49.599235Z",
          "iopub.status.idle": "2024-07-31T22:30:49.627389Z"
        },
        "trusted": true
      },
      "execution_count": null,
      "outputs": [
        {
          "output_type": "display_data",
          "data": {
            "text/html": "<table class=\"dataframe\">\n<caption>A data.frame: 6 × 4</caption>\n<thead>\n\t<tr><th></th><th scope=col>Y</th><th scope=col>X</th><th scope=col>Y_previsto</th><th scope=col>u</th></tr>\n\t<tr><th></th><th scope=col>&lt;dbl&gt;</th><th scope=col>&lt;dbl&gt;</th><th scope=col>&lt;dbl&gt;</th><th scope=col>&lt;dbl&gt;</th></tr>\n</thead>\n<tbody>\n\t<tr><th scope=row>1</th><td>3011</td><td>9714</td><td>3095.785</td><td> -84.78509</td></tr>\n\t<tr><th scope=row>2</th><td>1305</td><td>3728</td><td>1316.203</td><td> -11.20301</td></tr>\n\t<tr><th scope=row>3</th><td>1879</td><td>6062</td><td>2010.079</td><td>-131.07948</td></tr>\n\t<tr><th scope=row>4</th><td>2654</td><td>8845</td><td>2837.439</td><td>-183.43948</td></tr>\n\t<tr><th scope=row>5</th><td>2849</td><td>8378</td><td>2698.605</td><td> 150.39528</td></tr>\n\t<tr><th scope=row>6</th><td>1068</td><td>3338</td><td>1200.260</td><td>-132.25964</td></tr>\n</tbody>\n</table>\n",
            "text/markdown": "\nA data.frame: 6 × 4\n\n| <!--/--> | Y &lt;dbl&gt; | X &lt;dbl&gt; | Y_previsto &lt;dbl&gt; | u &lt;dbl&gt; |\n|---|---|---|---|---|\n| 1 | 3011 | 9714 | 3095.785 |  -84.78509 |\n| 2 | 1305 | 3728 | 1316.203 |  -11.20301 |\n| 3 | 1879 | 6062 | 2010.079 | -131.07948 |\n| 4 | 2654 | 8845 | 2837.439 | -183.43948 |\n| 5 | 2849 | 8378 | 2698.605 |  150.39528 |\n| 6 | 1068 | 3338 | 1200.260 | -132.25964 |\n\n",
            "text/latex": "A data.frame: 6 × 4\n\\begin{tabular}{r|llll}\n  & Y & X & Y\\_previsto & u\\\\\n  & <dbl> & <dbl> & <dbl> & <dbl>\\\\\n\\hline\n\t1 & 3011 & 9714 & 3095.785 &  -84.78509\\\\\n\t2 & 1305 & 3728 & 1316.203 &  -11.20301\\\\\n\t3 & 1879 & 6062 & 2010.079 & -131.07948\\\\\n\t4 & 2654 & 8845 & 2837.439 & -183.43948\\\\\n\t5 & 2849 & 8378 & 2698.605 &  150.39528\\\\\n\t6 & 1068 & 3338 & 1200.260 & -132.25964\\\\\n\\end{tabular}\n",
            "text/plain": "  Y    X    Y_previsto u         \n1 3011 9714 3095.785    -84.78509\n2 1305 3728 1316.203    -11.20301\n3 1879 6062 2010.079   -131.07948\n4 2654 8845 2837.439   -183.43948\n5 2849 8378 2698.605    150.39528\n6 1068 3338 1200.260   -132.25964"
          },
          "metadata": {}
        }
      ]
    },
    {
      "cell_type": "code",
      "source": [
        "dataset['Residuos'] <- resultado_regressao$residuals\n",
        "head(dataset)"
      ],
      "metadata": {
        "colab": {
          "base_uri": "https://localhost:8080/",
          "height": 204
        },
        "id": "_rtZhoU8cal5",
        "outputId": "c608100a-fb45-4765-e581-b37cf315b78e",
        "execution": {
          "iopub.status.busy": "2024-07-31T22:30:49.630265Z",
          "iopub.execute_input": "2024-07-31T22:30:49.631772Z",
          "iopub.status.idle": "2024-07-31T22:30:49.659638Z"
        },
        "trusted": true
      },
      "execution_count": null,
      "outputs": [
        {
          "output_type": "display_data",
          "data": {
            "text/html": "<table class=\"dataframe\">\n<caption>A data.frame: 6 × 5</caption>\n<thead>\n\t<tr><th></th><th scope=col>Y</th><th scope=col>X</th><th scope=col>Y_previsto</th><th scope=col>u</th><th scope=col>Residuos</th></tr>\n\t<tr><th></th><th scope=col>&lt;dbl&gt;</th><th scope=col>&lt;dbl&gt;</th><th scope=col>&lt;dbl&gt;</th><th scope=col>&lt;dbl&gt;</th><th scope=col>&lt;dbl&gt;</th></tr>\n</thead>\n<tbody>\n\t<tr><th scope=row>1</th><td>3011</td><td>9714</td><td>3095.785</td><td> -84.78509</td><td> -84.78509</td></tr>\n\t<tr><th scope=row>2</th><td>1305</td><td>3728</td><td>1316.203</td><td> -11.20301</td><td> -11.20301</td></tr>\n\t<tr><th scope=row>3</th><td>1879</td><td>6062</td><td>2010.079</td><td>-131.07948</td><td>-131.07948</td></tr>\n\t<tr><th scope=row>4</th><td>2654</td><td>8845</td><td>2837.439</td><td>-183.43948</td><td>-183.43948</td></tr>\n\t<tr><th scope=row>5</th><td>2849</td><td>8378</td><td>2698.605</td><td> 150.39528</td><td> 150.39528</td></tr>\n\t<tr><th scope=row>6</th><td>1068</td><td>3338</td><td>1200.260</td><td>-132.25964</td><td>-132.25964</td></tr>\n</tbody>\n</table>\n",
            "text/markdown": "\nA data.frame: 6 × 5\n\n| <!--/--> | Y &lt;dbl&gt; | X &lt;dbl&gt; | Y_previsto &lt;dbl&gt; | u &lt;dbl&gt; | Residuos &lt;dbl&gt; |\n|---|---|---|---|---|---|\n| 1 | 3011 | 9714 | 3095.785 |  -84.78509 |  -84.78509 |\n| 2 | 1305 | 3728 | 1316.203 |  -11.20301 |  -11.20301 |\n| 3 | 1879 | 6062 | 2010.079 | -131.07948 | -131.07948 |\n| 4 | 2654 | 8845 | 2837.439 | -183.43948 | -183.43948 |\n| 5 | 2849 | 8378 | 2698.605 |  150.39528 |  150.39528 |\n| 6 | 1068 | 3338 | 1200.260 | -132.25964 | -132.25964 |\n\n",
            "text/latex": "A data.frame: 6 × 5\n\\begin{tabular}{r|lllll}\n  & Y & X & Y\\_previsto & u & Residuos\\\\\n  & <dbl> & <dbl> & <dbl> & <dbl> & <dbl>\\\\\n\\hline\n\t1 & 3011 & 9714 & 3095.785 &  -84.78509 &  -84.78509\\\\\n\t2 & 1305 & 3728 & 1316.203 &  -11.20301 &  -11.20301\\\\\n\t3 & 1879 & 6062 & 2010.079 & -131.07948 & -131.07948\\\\\n\t4 & 2654 & 8845 & 2837.439 & -183.43948 & -183.43948\\\\\n\t5 & 2849 & 8378 & 2698.605 &  150.39528 &  150.39528\\\\\n\t6 & 1068 & 3338 & 1200.260 & -132.25964 & -132.25964\\\\\n\\end{tabular}\n",
            "text/plain": "  Y    X    Y_previsto u          Residuos  \n1 3011 9714 3095.785    -84.78509  -84.78509\n2 1305 3728 1316.203    -11.20301  -11.20301\n3 1879 6062 2010.079   -131.07948 -131.07948\n4 2654 8845 2837.439   -183.43948 -183.43948\n5 2849 8378 2698.605    150.39528  150.39528\n6 1068 3338 1200.260   -132.25964 -132.25964"
          },
          "metadata": {}
        }
      ]
    },
    {
      "cell_type": "code",
      "source": [
        "dataset$u <- NULL\n",
        "head(dataset)"
      ],
      "metadata": {
        "colab": {
          "base_uri": "https://localhost:8080/",
          "height": 204
        },
        "id": "GbnSv-B-cal6",
        "outputId": "d04dd941-1936-443e-fb8d-a050babc1ccd",
        "scrolled": true,
        "execution": {
          "iopub.status.busy": "2024-07-31T22:30:49.662854Z",
          "iopub.execute_input": "2024-07-31T22:30:49.664507Z",
          "iopub.status.idle": "2024-07-31T22:30:49.693068Z"
        },
        "trusted": true
      },
      "execution_count": null,
      "outputs": [
        {
          "output_type": "display_data",
          "data": {
            "text/html": "<table class=\"dataframe\">\n<caption>A data.frame: 6 × 4</caption>\n<thead>\n\t<tr><th></th><th scope=col>Y</th><th scope=col>X</th><th scope=col>Y_previsto</th><th scope=col>Residuos</th></tr>\n\t<tr><th></th><th scope=col>&lt;dbl&gt;</th><th scope=col>&lt;dbl&gt;</th><th scope=col>&lt;dbl&gt;</th><th scope=col>&lt;dbl&gt;</th></tr>\n</thead>\n<tbody>\n\t<tr><th scope=row>1</th><td>3011</td><td>9714</td><td>3095.785</td><td> -84.78509</td></tr>\n\t<tr><th scope=row>2</th><td>1305</td><td>3728</td><td>1316.203</td><td> -11.20301</td></tr>\n\t<tr><th scope=row>3</th><td>1879</td><td>6062</td><td>2010.079</td><td>-131.07948</td></tr>\n\t<tr><th scope=row>4</th><td>2654</td><td>8845</td><td>2837.439</td><td>-183.43948</td></tr>\n\t<tr><th scope=row>5</th><td>2849</td><td>8378</td><td>2698.605</td><td> 150.39528</td></tr>\n\t<tr><th scope=row>6</th><td>1068</td><td>3338</td><td>1200.260</td><td>-132.25964</td></tr>\n</tbody>\n</table>\n",
            "text/markdown": "\nA data.frame: 6 × 4\n\n| <!--/--> | Y &lt;dbl&gt; | X &lt;dbl&gt; | Y_previsto &lt;dbl&gt; | Residuos &lt;dbl&gt; |\n|---|---|---|---|---|\n| 1 | 3011 | 9714 | 3095.785 |  -84.78509 |\n| 2 | 1305 | 3728 | 1316.203 |  -11.20301 |\n| 3 | 1879 | 6062 | 2010.079 | -131.07948 |\n| 4 | 2654 | 8845 | 2837.439 | -183.43948 |\n| 5 | 2849 | 8378 | 2698.605 |  150.39528 |\n| 6 | 1068 | 3338 | 1200.260 | -132.25964 |\n\n",
            "text/latex": "A data.frame: 6 × 4\n\\begin{tabular}{r|llll}\n  & Y & X & Y\\_previsto & Residuos\\\\\n  & <dbl> & <dbl> & <dbl> & <dbl>\\\\\n\\hline\n\t1 & 3011 & 9714 & 3095.785 &  -84.78509\\\\\n\t2 & 1305 & 3728 & 1316.203 &  -11.20301\\\\\n\t3 & 1879 & 6062 & 2010.079 & -131.07948\\\\\n\t4 & 2654 & 8845 & 2837.439 & -183.43948\\\\\n\t5 & 2849 & 8378 & 2698.605 &  150.39528\\\\\n\t6 & 1068 & 3338 & 1200.260 & -132.25964\\\\\n\\end{tabular}\n",
            "text/plain": "  Y    X    Y_previsto Residuos  \n1 3011 9714 3095.785    -84.78509\n2 1305 3728 1316.203    -11.20301\n3 1879 6062 2010.079   -131.07948\n4 2654 8845 2837.439   -183.43948\n5 2849 8378 2698.605    150.39528\n6 1068 3338 1200.260   -132.25964"
          },
          "metadata": {}
        }
      ]
    },
    {
      "cell_type": "code",
      "source": [
        "mean(dataset$Residuos)"
      ],
      "metadata": {
        "colab": {
          "base_uri": "https://localhost:8080/",
          "height": 35
        },
        "id": "HQZQyrCzmHha",
        "outputId": "3f7b4cdb-9ab8-4a81-9e40-68f9da4675bf",
        "execution": {
          "iopub.status.busy": "2024-07-31T22:30:49.695883Z",
          "iopub.execute_input": "2024-07-31T22:30:49.697394Z",
          "iopub.status.idle": "2024-07-31T22:30:49.712976Z"
        },
        "trusted": true
      },
      "execution_count": null,
      "outputs": [
        {
          "output_type": "display_data",
          "data": {
            "text/html": "-2.51687559682523e-15",
            "text/markdown": "-2.51687559682523e-15",
            "text/latex": "-2.51687559682523e-15",
            "text/plain": "[1] -2.516876e-15"
          },
          "metadata": {}
        }
      ]
    },
    {
      "cell_type": "markdown",
      "source": [
        "## <font color=green>4.6 Suposições sobre o termo de erro $u$</font>\n",
        "***\n",
        "\n",
        "### 1. O termo de erro $u$ é uma variável aleatória com média igual a zero: $E(u) = 0$\n",
        "### 2. A variância de $u$ é a mesma para todos os valores de $X$\n",
        "### 3. Os valores de $u$ são independentes\n",
        "### 4. O termo de erro $u$ é uma variável aleatória normalmente distribuída."
      ],
      "metadata": {
        "id": "2FUvXCAW75mL"
      }
    },
    {
      "cell_type": "markdown",
      "source": [
        "### Plotando os resíduos do modelo\n",
        "\n",
        "#### <font color=red>Documentações:\n",
        "\n",
        "- [**scatterplot**](https://seaborn.pydata.org/generated/seaborn.scatterplot.html)"
      ],
      "metadata": {
        "id": "7mFDWvhFcal7"
      }
    },
    {
      "cell_type": "code",
      "source": [
        "ggplot(data = dataset, aes(x = X, y = Residuos)) +\n",
        "    geom_hline(yintercept = 0, color = 'black') +\n",
        "    geom_point(size = 1.5, stroke = 0) +\n",
        "    xlab(\"X\") +\n",
        "    ylab(\"Resíduos\") +\n",
        "    ggtitle('Resíduos vs Variável Independente') +\n",
        "    theme(\n",
        "        plot.title=element_text(size = 12, hjust = 0.5),\n",
        "        axis.title.y=element_text(size = 10, vjust = +0.2),\n",
        "        axis.title.x=element_text(size = 10, vjust = -0.2),\n",
        "        axis.text.y=element_text(size = 10),\n",
        "        axis.text.x=element_text(size = 10)\n",
        "    )"
      ],
      "metadata": {
        "colab": {
          "base_uri": "https://localhost:8080/",
          "height": 431
        },
        "id": "r3RhXDBccal8",
        "outputId": "1db64403-88b8-4e89-9eaf-e817184af365",
        "execution": {
          "iopub.status.busy": "2024-07-31T22:30:49.715814Z",
          "iopub.execute_input": "2024-07-31T22:30:49.717312Z",
          "iopub.status.idle": "2024-07-31T22:30:49.932138Z"
        },
        "trusted": true
      },
      "execution_count": null,
      "outputs": [
        {
          "output_type": "display_data",
          "data": {
            "image/png": "[encoded data removed]"
          },
          "metadata": {
            "image/png": {
              "width": 420,
              "height": 240
            }
          }
        }
      ]
    },
    {
      "cell_type": "code",
      "source": [
        "ggplot(data = dataset, aes(x = Y_previsto, y = Residuos)) +\n",
        "    geom_hline(yintercept = 0, color = 'black') +\n",
        "    geom_point(size = 1.5, stroke = 0) +\n",
        "    xlab(\"Y_Previsto\") +\n",
        "    ylab(\"Resíduos\") +\n",
        "    ggtitle('Resíduos vs Y_Previsto') +\n",
        "    theme(\n",
        "        plot.title=element_text(size = 12, hjust = 0.5),\n",
        "        axis.title.y=element_text(size = 10, vjust = +0.2),\n",
        "        axis.title.x=element_text(size = 10, vjust = -0.2),\n",
        "        axis.text.y=element_text(size = 10),\n",
        "        axis.text.x=element_text(size = 10),\n",
        "    )"
      ],
      "metadata": {
        "colab": {
          "base_uri": "https://localhost:8080/",
          "height": 431
        },
        "id": "6An7Ir6275mN",
        "outputId": "5218dc56-a6fd-4495-a354-0ba0b44eb2ba",
        "execution": {
          "iopub.status.busy": "2024-07-31T22:30:49.935041Z",
          "iopub.execute_input": "2024-07-31T22:30:49.936639Z",
          "iopub.status.idle": "2024-07-31T22:30:50.152596Z"
        },
        "trusted": true
      },
      "execution_count": null,
      "outputs": [
        {
          "output_type": "display_data",
          "data": {
            "image/png": "[encoded data removed]"
          },
          "metadata": {
            "image/png": {
              "width": 420,
              "height": 240
            }
          }
        }
      ]
    },
    {
      "cell_type": "markdown",
      "source": [
        "### Hipótese de variância constante"
      ],
      "metadata": {
        "id": "72hPAKNKcamD"
      }
    },
    {
      "cell_type": "markdown",
      "source": [
        "<img src=\"https://caelum-online-public.s3.amazonaws.com/1273-estatistica-parte4/01/img028.jpg\" width=80%>\n",
        "Fonte: Econometria Básica - 5ª edição - Gujarati e Porter"
      ],
      "metadata": {
        "id": "dm_pfD0jcamE"
      }
    },
    {
      "cell_type": "code",
      "source": [
        "ggplot(data = dataset, aes(x = Y_previsto, y = Residuos^2)) +\n",
        "    geom_point(size = 1.5, stroke = 0) +\n",
        "    xlab(\"Y_Previsto\") +\n",
        "    ylab(\"Resíduos²\") +\n",
        "    ggtitle('Resíduos² vs Y_Previsto') +\n",
        "    theme(\n",
        "        plot.title=element_text(size = 12, hjust = 0.5),\n",
        "        axis.title.y=element_text(size = 10, vjust = +0.2),\n",
        "        axis.title.x=element_text(size = 10, vjust = -0.2),\n",
        "        axis.text.y=element_text(size = 10),\n",
        "        axis.text.x=element_text(size = 10),\n",
        "    )"
      ],
      "metadata": {
        "colab": {
          "base_uri": "https://localhost:8080/",
          "height": 431
        },
        "id": "lCys_bu_camE",
        "outputId": "1637649e-41ed-40af-a004-dcfb5c9ee89f",
        "execution": {
          "iopub.status.busy": "2024-07-31T22:30:50.155631Z",
          "iopub.execute_input": "2024-07-31T22:30:50.157208Z",
          "iopub.status.idle": "2024-07-31T22:30:50.366963Z"
        },
        "trusted": true
      },
      "execution_count": null,
      "outputs": [
        {
          "output_type": "display_data",
          "data": {
            "image/png": "[encoded data removed]"
          },
          "metadata": {
            "image/png": {
              "width": 420,
              "height": 240
            }
          }
        }
      ]
    },
    {
      "cell_type": "markdown",
      "source": [
        "## <font color=green>4.7 O coeficiente de determinação $R^2$</font>\n",
        "***"
      ],
      "metadata": {
        "id": "d3X2NkIicamv"
      }
    },
    {
      "cell_type": "markdown",
      "source": [
        "O **coeficiente de determinação R²** é uma medida resumida que diz quanto a linha de regressão amostral se ajusta aos dados. Pode ser obtido a partir da seguinte fórmula:\n",
        "\n",
        "# $$R^2 = \\frac{\\big[\\sum{(Y_i - \\bar{Y})(\\hat{Y}_i - \\bar{Y})}\\big]^2}{\\sum{(Y_i - \\bar{Y}})^2 \\sum{(\\hat{Y}_i - \\bar{Y}})^2}$$\n",
        "\n",
        "Sabemos que o i-ésimo resíduo representa o erro de usarmos $\\hat{Y}_i$ para estimar $Y_i$. A soma dos quadrados desses resíduos é o valor que é minimizado pelo método dos mínimos quadrados. Esse valor pode ser representado da seguinte forma:\n",
        "\n",
        "# $$SQE = \\sum{(Y_i - \\hat{Y}_i)^2}$$\n",
        "\n",
        "O valor da SQE é uma medida do erro de se usar a equação de regressão estimada para estimar os valores da variável dependente na amostra.\n",
        "\n",
        "Outro componente que podemos medir é a soma dos quadrados total (SQT) que representa a medida do erro envolvido no uso da média ($\\bar{Y}$) para fazer as estimativas. A SQT pode ser representada da forma abaixo:\n",
        "\n",
        "# $$SQT = \\sum{(Y_i - \\bar{Y})^2}$$\n",
        "\n",
        "Para quantificar o quanto os valores estimados ($\\hat{Y}_i$) se afastam da média ($\\bar{Y}$) podemos obter mais uma soma de quadrados. Essa soma é chamada de soma dos quadrados da regressão (SQR) e é representada pela seguinte fórmula:\n",
        "\n",
        "# $$SQR = \\sum{(\\hat{Y}_i - \\bar{Y})^2}$$\n"
      ],
      "metadata": {
        "id": "02AXBeBrcamw"
      }
    },
    {
      "cell_type": "markdown",
      "source": [
        "### Soma do quadrados do erros (SQE)"
      ],
      "metadata": {
        "id": "R5QuIfRCoT_W"
      }
    },
    {
      "cell_type": "code",
      "source": [
        "head(dataset)"
      ],
      "metadata": {
        "colab": {
          "base_uri": "https://localhost:8080/",
          "height": 204
        },
        "id": "mjDVczwGcamw",
        "outputId": "52fbebca-5ec6-4b93-f4ce-e15da89ffb0f",
        "execution": {
          "iopub.status.busy": "2024-07-31T22:30:50.369910Z",
          "iopub.execute_input": "2024-07-31T22:30:50.371495Z",
          "iopub.status.idle": "2024-07-31T22:30:50.396684Z"
        },
        "trusted": true
      },
      "execution_count": null,
      "outputs": [
        {
          "output_type": "display_data",
          "data": {
            "text/html": "<table class=\"dataframe\">\n<caption>A data.frame: 6 × 4</caption>\n<thead>\n\t<tr><th></th><th scope=col>Y</th><th scope=col>X</th><th scope=col>Y_previsto</th><th scope=col>Residuos</th></tr>\n\t<tr><th></th><th scope=col>&lt;dbl&gt;</th><th scope=col>&lt;dbl&gt;</th><th scope=col>&lt;dbl&gt;</th><th scope=col>&lt;dbl&gt;</th></tr>\n</thead>\n<tbody>\n\t<tr><th scope=row>1</th><td>3011</td><td>9714</td><td>3095.785</td><td> -84.78509</td></tr>\n\t<tr><th scope=row>2</th><td>1305</td><td>3728</td><td>1316.203</td><td> -11.20301</td></tr>\n\t<tr><th scope=row>3</th><td>1879</td><td>6062</td><td>2010.079</td><td>-131.07948</td></tr>\n\t<tr><th scope=row>4</th><td>2654</td><td>8845</td><td>2837.439</td><td>-183.43948</td></tr>\n\t<tr><th scope=row>5</th><td>2849</td><td>8378</td><td>2698.605</td><td> 150.39528</td></tr>\n\t<tr><th scope=row>6</th><td>1068</td><td>3338</td><td>1200.260</td><td>-132.25964</td></tr>\n</tbody>\n</table>\n",
            "text/markdown": "\nA data.frame: 6 × 4\n\n| <!--/--> | Y &lt;dbl&gt; | X &lt;dbl&gt; | Y_previsto &lt;dbl&gt; | Residuos &lt;dbl&gt; |\n|---|---|---|---|---|\n| 1 | 3011 | 9714 | 3095.785 |  -84.78509 |\n| 2 | 1305 | 3728 | 1316.203 |  -11.20301 |\n| 3 | 1879 | 6062 | 2010.079 | -131.07948 |\n| 4 | 2654 | 8845 | 2837.439 | -183.43948 |\n| 5 | 2849 | 8378 | 2698.605 |  150.39528 |\n| 6 | 1068 | 3338 | 1200.260 | -132.25964 |\n\n",
            "text/latex": "A data.frame: 6 × 4\n\\begin{tabular}{r|llll}\n  & Y & X & Y\\_previsto & Residuos\\\\\n  & <dbl> & <dbl> & <dbl> & <dbl>\\\\\n\\hline\n\t1 & 3011 & 9714 & 3095.785 &  -84.78509\\\\\n\t2 & 1305 & 3728 & 1316.203 &  -11.20301\\\\\n\t3 & 1879 & 6062 & 2010.079 & -131.07948\\\\\n\t4 & 2654 & 8845 & 2837.439 & -183.43948\\\\\n\t5 & 2849 & 8378 & 2698.605 &  150.39528\\\\\n\t6 & 1068 & 3338 & 1200.260 & -132.25964\\\\\n\\end{tabular}\n",
            "text/plain": "  Y    X    Y_previsto Residuos  \n1 3011 9714 3095.785    -84.78509\n2 1305 3728 1316.203    -11.20301\n3 1879 6062 2010.079   -131.07948\n4 2654 8845 2837.439   -183.43948\n5 2849 8378 2698.605    150.39528\n6 1068 3338 1200.260   -132.25964"
          },
          "metadata": {}
        }
      ]
    },
    {
      "cell_type": "code",
      "source": [
        "SQE <- sum(apply(dataset, 1, function(x) x['Residuos'] ** 2))\n",
        "SQE"
      ],
      "metadata": {
        "colab": {
          "base_uri": "https://localhost:8080/",
          "height": 35
        },
        "id": "fJ9ANPnIcamx",
        "outputId": "6798f1b9-1a61-40ff-e81a-0edeb2fe815c",
        "execution": {
          "iopub.status.busy": "2024-07-31T22:30:50.399465Z",
          "iopub.execute_input": "2024-07-31T22:30:50.400958Z",
          "iopub.status.idle": "2024-07-31T22:30:50.421158Z"
        },
        "trusted": true
      },
      "execution_count": null,
      "outputs": [
        {
          "output_type": "display_data",
          "data": {
            "text/html": "984986.037519192",
            "text/markdown": "984986.037519192",
            "text/latex": "984986.037519192",
            "text/plain": "[1] 984986"
          },
          "metadata": {}
        }
      ]
    },
    {
      "cell_type": "markdown",
      "source": [
        "### Soma do quadrados total (SQT)"
      ],
      "metadata": {
        "id": "ciYucebH75mU"
      }
    },
    {
      "cell_type": "code",
      "source": [
        "SQT <- sum(apply(dataset, 1, function(x) (x['Y'] - mean(dataset$Y)) ** 2))\n",
        "SQT"
      ],
      "metadata": {
        "colab": {
          "base_uri": "https://localhost:8080/",
          "height": 35
        },
        "id": "8nBBr4HE75mV",
        "outputId": "97502af2-b60f-4f4e-c3a4-9b8f91c09435",
        "execution": {
          "iopub.status.busy": "2024-07-31T22:30:50.424036Z",
          "iopub.execute_input": "2024-07-31T22:30:50.425614Z",
          "iopub.status.idle": "2024-07-31T22:30:50.448936Z"
        },
        "trusted": true
      },
      "execution_count": null,
      "outputs": [
        {
          "output_type": "display_data",
          "data": {
            "text/html": "32724149.28",
            "text/markdown": "32724149.28",
            "text/latex": "32724149.28",
            "text/plain": "[1] 32724149"
          },
          "metadata": {}
        }
      ]
    },
    {
      "cell_type": "markdown",
      "source": [
        "### Soma do quadrados da regressão (SQR)"
      ],
      "metadata": {
        "id": "2faHnARf75mW"
      }
    },
    {
      "cell_type": "code",
      "source": [
        "SQR <- sum(apply(dataset, 1, function(x) (x['Y_previsto'] - mean(dataset$Y)) ** 2))\n",
        "SQR"
      ],
      "metadata": {
        "colab": {
          "base_uri": "https://localhost:8080/",
          "height": 35
        },
        "id": "sOIQrg2q75mW",
        "outputId": "fbd02601-bece-4e2b-91b1-fbea1a505d69",
        "execution": {
          "iopub.status.busy": "2024-07-31T22:30:50.451730Z",
          "iopub.execute_input": "2024-07-31T22:30:50.453284Z",
          "iopub.status.idle": "2024-07-31T22:30:50.482330Z"
        },
        "trusted": true
      },
      "execution_count": null,
      "outputs": [
        {
          "output_type": "display_data",
          "data": {
            "text/html": "31739163.2424808",
            "text/markdown": "31739163.2424808",
            "text/latex": "31739163.2424808",
            "text/plain": "[1] 31739163"
          },
          "metadata": {}
        }
      ]
    },
    {
      "cell_type": "markdown",
      "source": [
        "### ANOVA\n",
        "\n",
        "#### <font color=red>Documentações:\n",
        "\n",
        "- [**anova**](https://www.rdocumentation.org/packages/stats/versions/3.6.1/topics/anova)"
      ],
      "metadata": {
        "id": "FvzaacjJBBGp"
      }
    },
    {
      "cell_type": "code",
      "source": [
        "anova <- anova(resultado_regressao)\n",
        "anova"
      ],
      "metadata": {
        "execution": {
          "iopub.status.busy": "2024-07-31T22:30:50.485130Z",
          "iopub.execute_input": "2024-07-31T22:30:50.486660Z",
          "iopub.status.idle": "2024-07-31T22:30:50.514930Z"
        },
        "trusted": true,
        "id": "UcGi8kpyBBGp",
        "outputId": "79b23597-fa85-4405-d7a9-e1dfdaa8083a"
      },
      "execution_count": null,
      "outputs": [
        {
          "output_type": "display_data",
          "data": {
            "text/html": "<table class=\"dataframe\">\n<caption>A anova: 2 × 5</caption>\n<thead>\n\t<tr><th></th><th scope=col>Df</th><th scope=col>Sum Sq</th><th scope=col>Mean Sq</th><th scope=col>F value</th><th scope=col>Pr(&gt;F)</th></tr>\n\t<tr><th></th><th scope=col>&lt;int&gt;</th><th scope=col>&lt;dbl&gt;</th><th scope=col>&lt;dbl&gt;</th><th scope=col>&lt;dbl&gt;</th><th scope=col>&lt;dbl&gt;</th></tr>\n</thead>\n<tbody>\n\t<tr><th scope=row>X</th><td> 1</td><td>31739163</td><td>31739163.24</td><td>1546.702</td><td>3.555543e-38</td></tr>\n\t<tr><th scope=row>Residuals</th><td>48</td><td>  984986</td><td>   20520.54</td><td>      NA</td><td>          NA</td></tr>\n</tbody>\n</table>\n",
            "text/markdown": "\nA anova: 2 × 5\n\n| <!--/--> | Df &lt;int&gt; | Sum Sq &lt;dbl&gt; | Mean Sq &lt;dbl&gt; | F value &lt;dbl&gt; | Pr(&gt;F) &lt;dbl&gt; |\n|---|---|---|---|---|---|\n| X |  1 | 31739163 | 31739163.24 | 1546.702 | 3.555543e-38 |\n| Residuals | 48 |   984986 |    20520.54 |       NA |           NA |\n\n",
            "text/latex": "A anova: 2 × 5\n\\begin{tabular}{r|lllll}\n  & Df & Sum Sq & Mean Sq & F value & Pr(>F)\\\\\n  & <int> & <dbl> & <dbl> & <dbl> & <dbl>\\\\\n\\hline\n\tX &  1 & 31739163 & 31739163.24 & 1546.702 & 3.555543e-38\\\\\n\tResiduals & 48 &   984986 &    20520.54 &       NA &           NA\\\\\n\\end{tabular}\n",
            "text/plain": "          Df Sum Sq   Mean Sq     F value  Pr(>F)      \nX          1 31739163 31739163.24 1546.702 3.555543e-38\nResiduals 48   984986    20520.54       NA           NA"
          },
          "metadata": {}
        }
      ]
    },
    {
      "cell_type": "code",
      "source": [
        "anova[1, 2]"
      ],
      "metadata": {
        "execution": {
          "iopub.status.busy": "2024-07-31T22:30:50.517721Z",
          "iopub.execute_input": "2024-07-31T22:30:50.519268Z",
          "iopub.status.idle": "2024-07-31T22:30:50.535043Z"
        },
        "trusted": true,
        "id": "N-ASr_k-BBGp",
        "outputId": "8c92709b-7702-49c0-be0f-6b115bf41fe9"
      },
      "execution_count": null,
      "outputs": [
        {
          "output_type": "display_data",
          "data": {
            "text/html": "31739163.2424808",
            "text/markdown": "31739163.2424808",
            "text/latex": "31739163.2424808",
            "text/plain": "[1] 31739163"
          },
          "metadata": {}
        }
      ]
    },
    {
      "cell_type": "code",
      "source": [
        "anova[2, 2]"
      ],
      "metadata": {
        "execution": {
          "iopub.status.busy": "2024-07-31T22:30:50.537831Z",
          "iopub.execute_input": "2024-07-31T22:30:50.539331Z",
          "iopub.status.idle": "2024-07-31T22:30:50.554939Z"
        },
        "trusted": true,
        "id": "itBM9EhsBBGp",
        "outputId": "790e0f99-1b2a-4242-e50c-163c48096506"
      },
      "execution_count": null,
      "outputs": [
        {
          "output_type": "display_data",
          "data": {
            "text/html": "984986.037519192",
            "text/markdown": "984986.037519192",
            "text/latex": "984986.037519192",
            "text/plain": "[1] 984986"
          },
          "metadata": {}
        }
      ]
    },
    {
      "cell_type": "code",
      "source": [
        "anova[1, 2] + anova[2, 2]"
      ],
      "metadata": {
        "execution": {
          "iopub.status.busy": "2024-07-31T22:30:50.557757Z",
          "iopub.execute_input": "2024-07-31T22:30:50.559327Z",
          "iopub.status.idle": "2024-07-31T22:30:50.575053Z"
        },
        "trusted": true,
        "id": "alIHZMWTBBGq",
        "outputId": "7559fec6-2ad7-4336-d1c8-60a59966e0f0"
      },
      "execution_count": null,
      "outputs": [
        {
          "output_type": "display_data",
          "data": {
            "text/html": "32724149.28",
            "text/markdown": "32724149.28",
            "text/latex": "32724149.28",
            "text/plain": "[1] 32724149"
          },
          "metadata": {}
        }
      ]
    },
    {
      "cell_type": "markdown",
      "source": [
        "### Relação entre as somas de quadrados\n",
        "\n",
        "# $$SQT = SQR + SQE$$\n",
        "\n",
        "Onde,\n",
        "\n",
        "\n",
        "### $SQE = \\sum{(Y_i - \\hat{Y}_i)^2}$\n",
        "\n",
        "### $SQT = \\sum{(Y_i - \\bar{Y})^2}$\n",
        "\n",
        "### $SQR = \\sum{(\\hat{Y}_i - \\bar{Y})^2}$\n",
        "\n",
        "\n",
        "<img src=\"https://caelum-online-public.s3.amazonaws.com/1273-estatistica-parte4/01/img029.png\" width=50%>"
      ],
      "metadata": {
        "id": "qzIqboEg75mY"
      }
    },
    {
      "cell_type": "markdown",
      "source": [
        "### Coeficiente de determinação (R²)\n",
        "\n",
        "A regressão estimada teria um ajuste perfeito se todos os valores da variável dependente ($Y_i$) estiverem sobre a reta de regressão estimada. Quando isso ocorre temos $Y_i - \\hat{Y}_i = 0$ para todas as observações, o que resulta em uma $SQE = 0$. Como $SQT=SQR+SQE$, é possível deduzir que para termos um ajuste perfeito $SQT$ deve ser igual a $SQR$ e a razão entre estas medidas ($\\frac{SQR}{SQT}$) deve ser igual a 1.\n",
        "\n",
        "Quando o ajuste não é tão perfeito nota-se que a $SQE$ apresenta valores maiores o que faz a razão $\\frac{SQR}{SQT}$ diminuir, e em uma situação de total imperfeição do ajuste teríamos uma $SQR=0$ e $SQE=SQT$ levando a $\\frac{SQR}{SQT}=0$.\n",
        "\n",
        "A razão $\\frac{SQR}{SQT}$, que assume valores entre 0 e 1, é utilizada como medida de eficiência do ajuste da equação de regressão estimada. Essa medida é conhecida como coeficiente de determinação (R²).\n",
        "\n",
        "# $$R^2 = \\frac{SQR}{SQT}$$\n",
        "\n",
        "## <font color='red'>Observação</font>\n",
        "> Somente com a utilização do R² não é possível tirar conclusões sobre a relação entre $Y$ e $X$ ser ou não ser estatisticamente\n",
        "significativa. Este tipo de afirmação deve basear-se em considerações que envolvem o tamanho da amostra e as propriedades da distribuição amostral dos estimadores mínimos quadrados."
      ],
      "metadata": {
        "id": "OMz_pGr375ma"
      }
    },
    {
      "cell_type": "code",
      "source": [
        "R2 <- SQR / SQT\n",
        "R2"
      ],
      "metadata": {
        "colab": {
          "base_uri": "https://localhost:8080/",
          "height": 35
        },
        "id": "dKUngOqP75ma",
        "outputId": "3c4ac69b-310a-4393-fbe5-dc39476c5f5f",
        "execution": {
          "iopub.status.busy": "2024-07-31T22:30:50.577832Z",
          "iopub.execute_input": "2024-07-31T22:30:50.579302Z",
          "iopub.status.idle": "2024-07-31T22:30:50.597017Z"
        },
        "trusted": true
      },
      "execution_count": null,
      "outputs": [
        {
          "output_type": "display_data",
          "data": {
            "text/html": "0.96990033173693",
            "text/markdown": "0.96990033173693",
            "text/latex": "0.96990033173693",
            "text/plain": "[1] 0.9699003"
          },
          "metadata": {}
        }
      ]
    },
    {
      "cell_type": "code",
      "source": [
        "resumo <- summary(resultado_regressao)\n",
        "resumo"
      ],
      "metadata": {
        "colab": {
          "base_uri": "https://localhost:8080/",
          "height": 35
        },
        "id": "oFowDxPB75mb",
        "outputId": "6019f00c-818b-4f1f-ba9e-8267ff394c4d",
        "execution": {
          "iopub.status.busy": "2024-07-31T22:30:50.600032Z",
          "iopub.execute_input": "2024-07-31T22:30:50.601638Z",
          "iopub.status.idle": "2024-07-31T22:30:50.621193Z"
        },
        "trusted": true
      },
      "execution_count": null,
      "outputs": [
        {
          "output_type": "display_data",
          "data": {
            "text/plain": "\nCall:\nlm(formula = Y ~ X, data = dataset)\n\nResiduals:\n    Min      1Q  Median      3Q     Max \n-202.49 -125.96  -22.28  140.53  260.67 \n\nCoefficients:\n             Estimate Std. Error t value Pr(>|t|)    \n(Intercept) 2.079e+02  5.013e+01   4.148 0.000136 ***\nX           2.973e-01  7.559e-03  39.328  < 2e-16 ***\n---\nSignif. codes:  0 ‘***’ 0.001 ‘**’ 0.01 ‘*’ 0.05 ‘.’ 0.1 ‘ ’ 1\n\nResidual standard error: 143.2 on 48 degrees of freedom\nMultiple R-squared:  0.9699,\tAdjusted R-squared:  0.9693 \nF-statistic:  1547 on 1 and 48 DF,  p-value: < 2.2e-16\n"
          },
          "metadata": {}
        }
      ]
    },
    {
      "cell_type": "code",
      "source": [
        "resumo$r.squared"
      ],
      "metadata": {
        "execution": {
          "iopub.status.busy": "2024-07-31T22:30:50.623942Z",
          "iopub.execute_input": "2024-07-31T22:30:50.625467Z",
          "iopub.status.idle": "2024-07-31T22:30:50.640965Z"
        },
        "trusted": true,
        "id": "Uld-f29SBBGr",
        "outputId": "d73d8824-e701-4716-d56f-038ac49bd198"
      },
      "execution_count": null,
      "outputs": [
        {
          "output_type": "display_data",
          "data": {
            "text/html": "0.96990033173693",
            "text/markdown": "0.96990033173693",
            "text/latex": "0.96990033173693",
            "text/plain": "[1] 0.9699003"
          },
          "metadata": {}
        }
      ]
    },
    {
      "cell_type": "markdown",
      "source": [
        "## <font color=green>4.8 Testes aplicados a modelos de regressão</font>\n",
        "***"
      ],
      "metadata": {
        "id": "BwQR3YxTcam0"
      }
    },
    {
      "cell_type": "markdown",
      "source": [
        "Como vimos, em uma regressão linear simples, a média da variável dependente ($Y$) é uma função linear da variável independente ($X$):\n",
        "\n",
        "# $$Y_i = \\beta_1 + \\beta_2X_i$$\n",
        "\n",
        "Se o valor de $\\beta_2$ for zero podemos verificar que o valor médio de $Y$ não depende do valor de $X$ e, portanto, concluímos que $X$ e $Y$ não estão linearmente relacionados. De forma alternativa, se o valor de $\\beta_2$ não for igual a zero, concluímos que as duas variáveis estão relacionadas.\n",
        "\n",
        "Para testar se a relação de regressão é significativa, é preciso realizar um **teste de hipóteses** para determinar se o valor de $\\beta_2$ é zero. Antes de realizar este tipo de teste precisamos obter uma estimativa para $\\sigma^2$ (variância do erro)."
      ],
      "metadata": {
        "id": "eGZZaMp4td9Y"
      }
    },
    {
      "cell_type": "markdown",
      "source": [
        "### Output do modelo de regressão estimado"
      ],
      "metadata": {
        "id": "ePVflM9mtd9Z"
      }
    },
    {
      "cell_type": "code",
      "source": [
        "resumo"
      ],
      "metadata": {
        "colab": {
          "base_uri": "https://localhost:8080/",
          "height": 503
        },
        "id": "xZu92Yaztd9Z",
        "outputId": "26c0e659-1a7a-49ce-aa2b-de49009b7c69",
        "execution": {
          "iopub.status.busy": "2024-07-31T22:30:50.643651Z",
          "iopub.execute_input": "2024-07-31T22:30:50.645054Z",
          "iopub.status.idle": "2024-07-31T22:30:50.662197Z"
        },
        "trusted": true
      },
      "execution_count": null,
      "outputs": [
        {
          "output_type": "display_data",
          "data": {
            "text/plain": "\nCall:\nlm(formula = Y ~ X, data = dataset)\n\nResiduals:\n    Min      1Q  Median      3Q     Max \n-202.49 -125.96  -22.28  140.53  260.67 \n\nCoefficients:\n             Estimate Std. Error t value Pr(>|t|)    \n(Intercept) 2.079e+02  5.013e+01   4.148 0.000136 ***\nX           2.973e-01  7.559e-03  39.328  < 2e-16 ***\n---\nSignif. codes:  0 ‘***’ 0.001 ‘**’ 0.01 ‘*’ 0.05 ‘.’ 0.1 ‘ ’ 1\n\nResidual standard error: 143.2 on 48 degrees of freedom\nMultiple R-squared:  0.9699,\tAdjusted R-squared:  0.9693 \nF-statistic:  1547 on 1 and 48 DF,  p-value: < 2.2e-16\n"
          },
          "metadata": {}
        }
      ]
    },
    {
      "cell_type": "code",
      "source": [
        "anova"
      ],
      "metadata": {
        "execution": {
          "iopub.status.busy": "2024-07-31T22:30:50.664913Z",
          "iopub.execute_input": "2024-07-31T22:30:50.666454Z",
          "iopub.status.idle": "2024-07-31T22:30:50.689102Z"
        },
        "trusted": true,
        "id": "rAqqIAQ0BBGs",
        "outputId": "7597b96f-fd4c-4cdc-8e5a-ec83425bfc1f"
      },
      "execution_count": null,
      "outputs": [
        {
          "output_type": "display_data",
          "data": {
            "text/html": "<table class=\"dataframe\">\n<caption>A anova: 2 × 5</caption>\n<thead>\n\t<tr><th></th><th scope=col>Df</th><th scope=col>Sum Sq</th><th scope=col>Mean Sq</th><th scope=col>F value</th><th scope=col>Pr(&gt;F)</th></tr>\n\t<tr><th></th><th scope=col>&lt;int&gt;</th><th scope=col>&lt;dbl&gt;</th><th scope=col>&lt;dbl&gt;</th><th scope=col>&lt;dbl&gt;</th><th scope=col>&lt;dbl&gt;</th></tr>\n</thead>\n<tbody>\n\t<tr><th scope=row>X</th><td> 1</td><td>31739163</td><td>31739163.24</td><td>1546.702</td><td>3.555543e-38</td></tr>\n\t<tr><th scope=row>Residuals</th><td>48</td><td>  984986</td><td>   20520.54</td><td>      NA</td><td>          NA</td></tr>\n</tbody>\n</table>\n",
            "text/markdown": "\nA anova: 2 × 5\n\n| <!--/--> | Df &lt;int&gt; | Sum Sq &lt;dbl&gt; | Mean Sq &lt;dbl&gt; | F value &lt;dbl&gt; | Pr(&gt;F) &lt;dbl&gt; |\n|---|---|---|---|---|---|\n| X |  1 | 31739163 | 31739163.24 | 1546.702 | 3.555543e-38 |\n| Residuals | 48 |   984986 |    20520.54 |       NA |           NA |\n\n",
            "text/latex": "A anova: 2 × 5\n\\begin{tabular}{r|lllll}\n  & Df & Sum Sq & Mean Sq & F value & Pr(>F)\\\\\n  & <int> & <dbl> & <dbl> & <dbl> & <dbl>\\\\\n\\hline\n\tX &  1 & 31739163 & 31739163.24 & 1546.702 & 3.555543e-38\\\\\n\tResiduals & 48 &   984986 &    20520.54 &       NA &           NA\\\\\n\\end{tabular}\n",
            "text/plain": "          Df Sum Sq   Mean Sq     F value  Pr(>F)      \nX          1 31739163 31739163.24 1546.702 3.555543e-38\nResiduals 48   984986    20520.54       NA           NA"
          },
          "metadata": {}
        }
      ]
    },
    {
      "cell_type": "markdown",
      "source": [
        "### Erro quadrático médio - estimativa de $\\sigma^2$\n",
        "\n",
        "Lembre-se que a **soma dos quadrados do erros (SQE)** é uma medida numérica da variabilidade dos dados observados em torno da reta de regressão estimada. Todas as somas de quadrados, estudadas anteriormente, estão associadas a um determinado número de graus de liberdade. No caso da SQE, como devem ser estimados dois parâmetros, temos $n-2$ graus de liberdade.\n",
        "\n",
        "O **erro quadrático médio**, representado pela equação abaixo, pode ser obtido dividindo-se a SQE por $n-2$ graus de liberdade.\n",
        "\n",
        "# $$EQM = \\frac{SQE}{n-2}$$"
      ],
      "metadata": {
        "id": "imBNBULStd9a"
      }
    },
    {
      "cell_type": "code",
      "source": [
        "SQE"
      ],
      "metadata": {
        "colab": {
          "base_uri": "https://localhost:8080/",
          "height": 35
        },
        "id": "aDxRwFWJtd9a",
        "outputId": "8fa2a4ab-defc-494b-942a-6bf8dab1d41a",
        "execution": {
          "iopub.status.busy": "2024-07-31T22:30:50.691924Z",
          "iopub.execute_input": "2024-07-31T22:30:50.693422Z",
          "iopub.status.idle": "2024-07-31T22:30:50.709278Z"
        },
        "trusted": true
      },
      "execution_count": null,
      "outputs": [
        {
          "output_type": "display_data",
          "data": {
            "text/html": "984986.037519192",
            "text/markdown": "984986.037519192",
            "text/latex": "984986.037519192",
            "text/plain": "[1] 984986"
          },
          "metadata": {}
        }
      ]
    },
    {
      "cell_type": "code",
      "source": [
        "n"
      ],
      "metadata": {
        "colab": {
          "base_uri": "https://localhost:8080/",
          "height": 35
        },
        "id": "qg5nZub3CEFx",
        "outputId": "54ad264b-c919-4c12-9928-b4c1d7d49def",
        "execution": {
          "iopub.status.busy": "2024-07-31T22:30:50.712051Z",
          "iopub.execute_input": "2024-07-31T22:30:50.713574Z",
          "iopub.status.idle": "2024-07-31T22:30:50.729162Z"
        },
        "trusted": true
      },
      "execution_count": null,
      "outputs": [
        {
          "output_type": "display_data",
          "data": {
            "text/html": "50",
            "text/markdown": "50",
            "text/latex": "50",
            "text/plain": "[1] 50"
          },
          "metadata": {}
        }
      ]
    },
    {
      "cell_type": "code",
      "source": [
        "EQM <- SQE / (n - 2)\n",
        "EQM"
      ],
      "metadata": {
        "colab": {
          "base_uri": "https://localhost:8080/",
          "height": 35
        },
        "id": "TXfeyZwvtd9b",
        "outputId": "7c2245e2-a436-4b9b-9e5f-0a19bb4baf3d",
        "execution": {
          "iopub.status.busy": "2024-07-31T22:30:50.732306Z",
          "iopub.execute_input": "2024-07-31T22:30:50.734256Z",
          "iopub.status.idle": "2024-07-31T22:30:50.752344Z"
        },
        "trusted": true
      },
      "execution_count": null,
      "outputs": [
        {
          "output_type": "display_data",
          "data": {
            "text/html": "20520.5424483165",
            "text/markdown": "20520.5424483165",
            "text/latex": "20520.5424483165",
            "text/plain": "[1] 20520.54"
          },
          "metadata": {}
        }
      ]
    },
    {
      "cell_type": "code",
      "source": [
        "EQM <- anova$'Mean Sq'[2]\n",
        "EQM"
      ],
      "metadata": {
        "colab": {
          "base_uri": "https://localhost:8080/",
          "height": 35
        },
        "id": "CF28rNuKtd9d",
        "outputId": "ba2d0b4e-65cd-46ae-be25-e5add14e3508",
        "execution": {
          "iopub.status.busy": "2024-07-31T22:30:50.755196Z",
          "iopub.execute_input": "2024-07-31T22:30:50.756750Z",
          "iopub.status.idle": "2024-07-31T22:30:50.774167Z"
        },
        "trusted": true
      },
      "execution_count": null,
      "outputs": [
        {
          "output_type": "display_data",
          "data": {
            "text/html": "20520.5424483165",
            "text/markdown": "20520.5424483165",
            "text/latex": "20520.5424483165",
            "text/plain": "[1] 20520.54"
          },
          "metadata": {}
        }
      ]
    },
    {
      "cell_type": "code",
      "source": [
        "EQM <- anova['Residuals', 'Mean Sq']\n",
        "EQM"
      ],
      "metadata": {
        "execution": {
          "iopub.status.busy": "2024-07-31T22:30:50.776875Z",
          "iopub.execute_input": "2024-07-31T22:30:50.778408Z",
          "iopub.status.idle": "2024-07-31T22:30:50.795727Z"
        },
        "trusted": true,
        "id": "0jFsu1jJBBGt",
        "outputId": "2783f42d-2ddf-42ea-a0ff-9d8e914bc5ad"
      },
      "execution_count": null,
      "outputs": [
        {
          "output_type": "display_data",
          "data": {
            "text/html": "20520.5424483165",
            "text/markdown": "20520.5424483165",
            "text/latex": "20520.5424483165",
            "text/plain": "[1] 20520.54"
          },
          "metadata": {}
        }
      ]
    },
    {
      "cell_type": "markdown",
      "source": [
        "### Teste de hipótese para nulidade do coeficiente angular"
      ],
      "metadata": {
        "id": "3xHqA9Gicam0"
      }
    },
    {
      "cell_type": "markdown",
      "source": [
        "Considere o seguinte modelo de regressão linear simples:\n",
        "\n",
        "# $$Y_i = \\beta_1 + \\beta_2X_i + u_i$$\n",
        "\n",
        "Se as variáveis $Y$ e $X$ são linearmente relacionadas, espera-se que $\\beta_2$ seja diferente de zero. Para testar esta hipótese formulamos um teste de hipótese com a seguinte especificação de hipóteses nula e alternativa:\n",
        "\n",
        "## $H_0: \\beta_2 = 0$\n",
        "## $H_1: \\beta_2 \\neq 0$\n",
        "\n",
        "Caso $H_0$ seja rejeitada, concluiremos que existe uma relação linear estatisticamente significativa entre as duas variáveis.\n",
        "\n",
        "Considere agora que $b_1$ e $b_2$ são nossos estimadores de mínimos quadrados. Considere que a distribuição amostral de $b_2$ segue uma normal e também as seguintes propriedades:\n",
        "\n",
        "# $$E(b_2) = \\beta_2$$\n",
        "# $$\\sigma_{b_2} = \\frac{\\sigma}{\\sqrt{\\sum{(X_i - \\bar{X})^2}}}$$\n",
        "\n",
        "Como não conhecemos o valor de $\\sigma$, utilizamos $s$ como estimativa:\n",
        "\n",
        "# $$s_{b_2} = \\frac{s}{\\sqrt{\\sum{(X_i - \\bar{X})^2}}}$$\n",
        "\n",
        "Note que o valor esperado de $b_2$ é $\\beta_2$, logo, $b_2$ é um estimador não viesado de $\\beta_2$. Abaixo temos a estatística de teste (t) que segue uma distribuição t de Student com $n-2$ graus de liberdade.\n",
        "\n",
        "# $$t = \\frac{b_2 - \\beta_2}{s_{b_2}}$$"
      ],
      "metadata": {
        "id": "QpUUlnKw9Ac_"
      }
    },
    {
      "cell_type": "markdown",
      "source": [
        "### Calculando $s$"
      ],
      "metadata": {
        "id": "hupnxGgFtd9g"
      }
    },
    {
      "cell_type": "code",
      "source": [
        "s <- sqrt(EQM)\n",
        "s"
      ],
      "metadata": {
        "colab": {
          "base_uri": "https://localhost:8080/",
          "height": 35
        },
        "id": "9r87ZchPcam2",
        "outputId": "fdf0b518-98c1-43b4-db6f-fb54d90dd4b1",
        "execution": {
          "iopub.status.busy": "2024-07-31T22:30:50.798534Z",
          "iopub.execute_input": "2024-07-31T22:30:50.800019Z",
          "iopub.status.idle": "2024-07-31T22:30:50.817157Z"
        },
        "trusted": true
      },
      "execution_count": null,
      "outputs": [
        {
          "output_type": "display_data",
          "data": {
            "text/html": "143.249930011559",
            "text/markdown": "143.249930011559",
            "text/latex": "143.249930011559",
            "text/plain": "[1] 143.2499"
          },
          "metadata": {}
        }
      ]
    },
    {
      "cell_type": "markdown",
      "source": [
        "### Calculando $\\sum{(X_i - \\bar{X})^2}$"
      ],
      "metadata": {
        "id": "mr85iUdatd9q"
      }
    },
    {
      "cell_type": "code",
      "source": [
        "SOMA_DESVIO2 <- sum(apply(dataset, 1, function(x) (x['X'] - mean(dataset$X)) ** 2))\n",
        "SOMA_DESVIO2"
      ],
      "metadata": {
        "colab": {
          "base_uri": "https://localhost:8080/",
          "height": 35
        },
        "id": "exNBEriWtd9q",
        "outputId": "b3a86e81-7724-46fa-d3f0-d61d14492042",
        "execution": {
          "iopub.status.busy": "2024-07-31T22:30:50.819989Z",
          "iopub.execute_input": "2024-07-31T22:30:50.821517Z",
          "iopub.status.idle": "2024-07-31T22:30:50.843240Z"
        },
        "trusted": true
      },
      "execution_count": null,
      "outputs": [
        {
          "output_type": "display_data",
          "data": {
            "text/html": "359114426.5",
            "text/markdown": "359114426.5",
            "text/latex": "359114426.5",
            "text/plain": "[1] 359114426"
          },
          "metadata": {}
        }
      ]
    },
    {
      "cell_type": "markdown",
      "source": [
        "### Calculando $s_{b_2}$"
      ],
      "metadata": {
        "id": "mEuMAudxtd9u"
      }
    },
    {
      "cell_type": "code",
      "source": [
        "s_beta_2 <- s / sqrt(SOMA_DESVIO2)\n",
        "s_beta_2"
      ],
      "metadata": {
        "colab": {
          "base_uri": "https://localhost:8080/",
          "height": 35
        },
        "id": "uwr9JWN_td9u",
        "outputId": "87a6cb7e-33a9-43f8-9e60-c9dcc0cc3bfb",
        "execution": {
          "iopub.status.busy": "2024-07-31T22:30:50.846012Z",
          "iopub.execute_input": "2024-07-31T22:30:50.847504Z",
          "iopub.status.idle": "2024-07-31T22:30:50.871151Z"
        },
        "trusted": true
      },
      "execution_count": null,
      "outputs": [
        {
          "output_type": "display_data",
          "data": {
            "text/html": "0.00755923753376846",
            "text/markdown": "0.00755923753376846",
            "text/latex": "0.00755923753376846",
            "text/plain": "[1] 0.007559238"
          },
          "metadata": {}
        }
      ]
    },
    {
      "cell_type": "markdown",
      "source": [
        "### Determinando as áreas de aceitação e rejeição de $H_0$"
      ],
      "metadata": {
        "id": "ZXe59tB-td9w"
      }
    },
    {
      "cell_type": "markdown",
      "source": [
        "![Região de Aceitação](https://caelum-online-public.s3.amazonaws.com/1273-estatistica-parte4/01/img031.png)"
      ],
      "metadata": {
        "id": "cuvV9yC-td9x"
      }
    },
    {
      "cell_type": "markdown",
      "source": [
        "### Níveis de confiança e significância"
      ],
      "metadata": {
        "id": "z9tmldlUtd9y"
      }
    },
    {
      "cell_type": "code",
      "source": [
        "confianca <- 0.95\n",
        "significancia <- 1 - confianca"
      ],
      "metadata": {
        "id": "x6imEPp0td9y",
        "execution": {
          "iopub.status.busy": "2024-07-31T22:30:50.873928Z",
          "iopub.execute_input": "2024-07-31T22:30:50.875375Z",
          "iopub.status.idle": "2024-07-31T22:30:50.889224Z"
        },
        "trusted": true
      },
      "execution_count": null,
      "outputs": []
    },
    {
      "cell_type": "code",
      "source": [
        "graus_de_liberdade <- resultado_regressao$df.residual\n",
        "graus_de_liberdade"
      ],
      "metadata": {
        "colab": {
          "base_uri": "https://localhost:8080/",
          "height": 35
        },
        "id": "VFJGcIRGD-ai",
        "outputId": "ad270885-02cd-43ef-ed3a-8100832af959",
        "execution": {
          "iopub.status.busy": "2024-07-31T22:30:50.892101Z",
          "iopub.execute_input": "2024-07-31T22:30:50.893617Z",
          "iopub.status.idle": "2024-07-31T22:30:50.910908Z"
        },
        "trusted": true
      },
      "execution_count": null,
      "outputs": [
        {
          "output_type": "display_data",
          "data": {
            "text/html": "48",
            "text/markdown": "48",
            "text/latex": "48",
            "text/plain": "[1] 48"
          },
          "metadata": {}
        }
      ]
    },
    {
      "cell_type": "markdown",
      "source": [
        "### Obtendo $t_{\\alpha/2}$"
      ],
      "metadata": {
        "id": "Xb6DWLiTtd9z"
      }
    },
    {
      "cell_type": "code",
      "source": [
        "probabilidade <- (0.5 + (confianca / 2))\n",
        "probabilidade"
      ],
      "metadata": {
        "colab": {
          "base_uri": "https://localhost:8080/",
          "height": 35
        },
        "id": "yVEsPYPitd9z",
        "outputId": "afef1285-e590-472e-c64e-bdeeaea2c19b",
        "execution": {
          "iopub.status.busy": "2024-07-31T22:30:50.913730Z",
          "iopub.execute_input": "2024-07-31T22:30:50.915383Z",
          "iopub.status.idle": "2024-07-31T22:30:50.933558Z"
        },
        "trusted": true
      },
      "execution_count": null,
      "outputs": [
        {
          "output_type": "display_data",
          "data": {
            "text/html": "0.975",
            "text/markdown": "0.975",
            "text/latex": "0.975",
            "text/plain": "[1] 0.975"
          },
          "metadata": {}
        }
      ]
    },
    {
      "cell_type": "code",
      "source": [
        "t_alpha_2 <- qt(probabilidade, graus_de_liberdade)\n",
        "t_alpha_2"
      ],
      "metadata": {
        "colab": {
          "base_uri": "https://localhost:8080/",
          "height": 35
        },
        "id": "_Cfvwj7Ktd91",
        "outputId": "f8a33b6a-2364-4492-fbeb-23c17498fa84",
        "execution": {
          "iopub.status.busy": "2024-07-31T22:30:50.936373Z",
          "iopub.execute_input": "2024-07-31T22:30:50.937916Z",
          "iopub.status.idle": "2024-07-31T22:30:50.955339Z"
        },
        "trusted": true
      },
      "execution_count": null,
      "outputs": [
        {
          "output_type": "display_data",
          "data": {
            "text/html": "2.01063475762423",
            "text/markdown": "2.01063475762423",
            "text/latex": "2.01063475762423",
            "text/plain": "[1] 2.010635"
          },
          "metadata": {}
        }
      ]
    },
    {
      "cell_type": "markdown",
      "source": [
        "![Região de Aceitação](https://caelum-online-public.s3.amazonaws.com/1273-estatistica-parte4/01/img032.png)"
      ],
      "metadata": {
        "id": "oW11PFl4td94"
      }
    },
    {
      "cell_type": "markdown",
      "source": [
        "### Obtendo $t = \\frac{b_2 - \\beta_2}{s_{b_2}}$"
      ],
      "metadata": {
        "id": "Sjj0cgC7td94"
      }
    },
    {
      "cell_type": "code",
      "source": [
        "t <- (beta_2 - 0) / s_beta_2\n",
        "t"
      ],
      "metadata": {
        "colab": {
          "base_uri": "https://localhost:8080/",
          "height": 35
        },
        "id": "Db8oVrEWtd94",
        "outputId": "711431b8-c1a8-4d27-d697-427096dee61c",
        "execution": {
          "iopub.status.busy": "2024-07-31T22:30:50.958184Z",
          "iopub.execute_input": "2024-07-31T22:30:50.959720Z",
          "iopub.status.idle": "2024-07-31T22:30:50.977043Z"
        },
        "trusted": true
      },
      "execution_count": null,
      "outputs": [
        {
          "output_type": "display_data",
          "data": {
            "text/html": "39.328131926755",
            "text/markdown": "39.328131926755",
            "text/latex": "39.328131926755",
            "text/plain": "[1] 39.32813"
          },
          "metadata": {}
        }
      ]
    },
    {
      "cell_type": "code",
      "source": [
        "coeficientes <- resumo$coefficients\n",
        "coeficientes"
      ],
      "metadata": {
        "colab": {
          "base_uri": "https://localhost:8080/",
          "height": 35
        },
        "id": "h-Tm7-Qstd95",
        "outputId": "cc627fdf-8c48-4da1-9a3a-ab8b9ceb38e6",
        "execution": {
          "iopub.status.busy": "2024-07-31T22:30:50.979824Z",
          "iopub.execute_input": "2024-07-31T22:30:50.981295Z",
          "iopub.status.idle": "2024-07-31T22:30:51.003808Z"
        },
        "trusted": true
      },
      "execution_count": null,
      "outputs": [
        {
          "output_type": "display_data",
          "data": {
            "text/html": "<table class=\"dataframe\">\n<caption>A matrix: 2 × 4 of type dbl</caption>\n<thead>\n\t<tr><th></th><th scope=col>Estimate</th><th scope=col>Std. Error</th><th scope=col>t value</th><th scope=col>Pr(&gt;|t|)</th></tr>\n</thead>\n<tbody>\n\t<tr><th scope=row>(Intercept)</th><td>207.9033138</td><td>50.126682183</td><td> 4.147558</td><td>1.362270e-04</td></tr>\n\t<tr><th scope=row>X</th><td>  0.2972907</td><td> 0.007559238</td><td>39.328132</td><td>3.555543e-38</td></tr>\n</tbody>\n</table>\n",
            "text/markdown": "\nA matrix: 2 × 4 of type dbl\n\n| <!--/--> | Estimate | Std. Error | t value | Pr(&gt;|t|) |\n|---|---|---|---|---|\n| (Intercept) | 207.9033138 | 50.126682183 |  4.147558 | 1.362270e-04 |\n| X |   0.2972907 |  0.007559238 | 39.328132 | 3.555543e-38 |\n\n",
            "text/latex": "A matrix: 2 × 4 of type dbl\n\\begin{tabular}{r|llll}\n  & Estimate & Std. Error & t value & Pr(>\\textbar{}t\\textbar{})\\\\\n\\hline\n\t(Intercept) & 207.9033138 & 50.126682183 &  4.147558 & 1.362270e-04\\\\\n\tX &   0.2972907 &  0.007559238 & 39.328132 & 3.555543e-38\\\\\n\\end{tabular}\n",
            "text/plain": "            Estimate    Std. Error   t value   Pr(>|t|)    \n(Intercept) 207.9033138 50.126682183  4.147558 1.362270e-04\nX             0.2972907  0.007559238 39.328132 3.555543e-38"
          },
          "metadata": {}
        }
      ]
    },
    {
      "cell_type": "code",
      "source": [
        "coeficientes['X', 't value']"
      ],
      "metadata": {
        "execution": {
          "iopub.status.busy": "2024-07-31T22:30:51.006570Z",
          "iopub.execute_input": "2024-07-31T22:30:51.008319Z",
          "iopub.status.idle": "2024-07-31T22:30:51.024912Z"
        },
        "trusted": true,
        "id": "L6Nkm6RbBBGw",
        "outputId": "0e415e2f-b982-4485-c909-3643b7b701dd"
      },
      "execution_count": null,
      "outputs": [
        {
          "output_type": "display_data",
          "data": {
            "text/html": "39.328131926755",
            "text/markdown": "39.328131926755",
            "text/latex": "39.328131926755",
            "text/plain": "[1] 39.32813"
          },
          "metadata": {}
        }
      ]
    },
    {
      "cell_type": "markdown",
      "source": [
        "![Região de Aceitação](https://caelum-online-public.s3.amazonaws.com/1273-estatistica-parte4/01/img033.png)"
      ],
      "metadata": {
        "id": "jOvLKfvitd97"
      }
    },
    {
      "cell_type": "markdown",
      "source": [
        "### Etapas e regras de decisão do teste t de significância dos parâmetros"
      ],
      "metadata": {
        "id": "lU747h33td97"
      }
    },
    {
      "cell_type": "markdown",
      "source": [
        "<img src=\"https://caelum-online-public.s3.amazonaws.com/1273-estatistica-parte4/01/img030.png\" width=90%>"
      ],
      "metadata": {
        "id": "kDHBbSAitd97"
      }
    },
    {
      "cell_type": "markdown",
      "source": [
        "### <font color='red'>Critério do valor crítico</font>\n",
        "\n",
        "> ### Teste Bicaudal\n",
        "> ### Rejeitar $H_0$ se $t \\leq -t_{\\alpha / 2}$ ou se $t \\geq t_{\\alpha / 2}$"
      ],
      "metadata": {
        "id": "-Il6O2H6td98"
      }
    },
    {
      "cell_type": "code",
      "source": [
        "t <= -t_alpha_2"
      ],
      "metadata": {
        "colab": {
          "base_uri": "https://localhost:8080/",
          "height": 35
        },
        "id": "24_4-073td99",
        "outputId": "df923628-eed0-4efe-a23c-2ff9c14d7151",
        "execution": {
          "iopub.status.busy": "2024-07-31T22:30:51.027700Z",
          "iopub.execute_input": "2024-07-31T22:30:51.029188Z",
          "iopub.status.idle": "2024-07-31T22:30:51.044810Z"
        },
        "trusted": true
      },
      "execution_count": null,
      "outputs": [
        {
          "output_type": "display_data",
          "data": {
            "text/html": "FALSE",
            "text/markdown": "FALSE",
            "text/latex": "FALSE",
            "text/plain": "[1] FALSE"
          },
          "metadata": {}
        }
      ]
    },
    {
      "cell_type": "code",
      "source": [
        "t >= t_alpha_2"
      ],
      "metadata": {
        "colab": {
          "base_uri": "https://localhost:8080/",
          "height": 35
        },
        "id": "jya2Bqvktd9-",
        "outputId": "afb1e753-5f48-477c-939b-5b52bcbe1fb5",
        "execution": {
          "iopub.status.busy": "2024-07-31T22:30:51.047613Z",
          "iopub.execute_input": "2024-07-31T22:30:51.049099Z",
          "iopub.status.idle": "2024-07-31T22:30:51.064453Z"
        },
        "trusted": true
      },
      "execution_count": null,
      "outputs": [
        {
          "output_type": "display_data",
          "data": {
            "text/html": "TRUE",
            "text/markdown": "TRUE",
            "text/latex": "TRUE",
            "text/plain": "[1] TRUE"
          },
          "metadata": {}
        }
      ]
    },
    {
      "cell_type": "markdown",
      "source": [
        "### <font color='red'>Critério do $p-valor$</font>\n",
        "\n",
        "> ### Teste Bicaudal\n",
        "> ### Rejeitar $H_0$ se o valor $p\\leq\\alpha$"
      ],
      "metadata": {
        "id": "dW7cJcnQtd9_"
      }
    },
    {
      "cell_type": "code",
      "source": [
        "p_valor <- 2 * (pt(t, graus_de_liberdade, lower.tail = FALSE))\n",
        "p_valor"
      ],
      "metadata": {
        "colab": {
          "base_uri": "https://localhost:8080/",
          "height": 35
        },
        "id": "LJQ3BBpBtd9_",
        "outputId": "1e76d3a4-34c7-4920-87b7-8155d6156922",
        "execution": {
          "iopub.status.busy": "2024-07-31T22:30:51.067163Z",
          "iopub.execute_input": "2024-07-31T22:30:51.068616Z",
          "iopub.status.idle": "2024-07-31T22:30:51.085685Z"
        },
        "trusted": true
      },
      "execution_count": null,
      "outputs": [
        {
          "output_type": "display_data",
          "data": {
            "text/html": "3.55554322858604e-38",
            "text/markdown": "3.55554322858604e-38",
            "text/latex": "3.55554322858604e-38",
            "text/plain": "[1] 3.555543e-38"
          },
          "metadata": {}
        }
      ]
    },
    {
      "cell_type": "code",
      "source": [
        "p_valor <- coeficientes['X', 'Pr(>|t|)']\n",
        "p_valor"
      ],
      "metadata": {
        "colab": {
          "base_uri": "https://localhost:8080/",
          "height": 35
        },
        "id": "gpVuM3Gvtd-B",
        "outputId": "e6fcf48b-3839-49ee-bef3-2b2fb52ab9f9",
        "execution": {
          "iopub.status.busy": "2024-07-31T22:30:51.088452Z",
          "iopub.execute_input": "2024-07-31T22:30:51.089938Z",
          "iopub.status.idle": "2024-07-31T22:30:51.107104Z"
        },
        "trusted": true
      },
      "execution_count": null,
      "outputs": [
        {
          "output_type": "display_data",
          "data": {
            "text/html": "3.55554322858599e-38",
            "text/markdown": "3.55554322858599e-38",
            "text/latex": "3.55554322858599e-38",
            "text/plain": "[1] 3.555543e-38"
          },
          "metadata": {}
        }
      ]
    },
    {
      "cell_type": "code",
      "source": [
        "p_valor <= significancia"
      ],
      "metadata": {
        "colab": {
          "base_uri": "https://localhost:8080/",
          "height": 35
        },
        "id": "Qtmjl1oBtd-C",
        "outputId": "4157f6d5-c16d-4c30-952c-82817a25a422",
        "execution": {
          "iopub.status.busy": "2024-07-31T22:30:51.109838Z",
          "iopub.execute_input": "2024-07-31T22:30:51.111299Z",
          "iopub.status.idle": "2024-07-31T22:30:51.126492Z"
        },
        "trusted": true
      },
      "execution_count": null,
      "outputs": [
        {
          "output_type": "display_data",
          "data": {
            "text/html": "TRUE",
            "text/markdown": "TRUE",
            "text/latex": "TRUE",
            "text/plain": "[1] TRUE"
          },
          "metadata": {}
        }
      ]
    },
    {
      "cell_type": "markdown",
      "source": [
        "### <font color='green'>Conclusão: Rejeitamos $H_0$ e concluímos que existe uma relação significativa entre as duas variáveis.</font>"
      ],
      "metadata": {
        "id": "EP5tgnmttd-D"
      }
    },
    {
      "cell_type": "code",
      "source": [
        "resumo"
      ],
      "metadata": {
        "colab": {
          "base_uri": "https://localhost:8080/",
          "height": 503
        },
        "id": "HMaewwFXtd-D",
        "outputId": "8d4bb708-00ea-4d92-aaa7-d8d754a0e73a",
        "execution": {
          "iopub.status.busy": "2024-07-31T22:30:51.129185Z",
          "iopub.execute_input": "2024-07-31T22:30:51.130633Z",
          "iopub.status.idle": "2024-07-31T22:30:51.147429Z"
        },
        "trusted": true
      },
      "execution_count": null,
      "outputs": [
        {
          "output_type": "display_data",
          "data": {
            "text/plain": "\nCall:\nlm(formula = Y ~ X, data = dataset)\n\nResiduals:\n    Min      1Q  Median      3Q     Max \n-202.49 -125.96  -22.28  140.53  260.67 \n\nCoefficients:\n             Estimate Std. Error t value Pr(>|t|)    \n(Intercept) 2.079e+02  5.013e+01   4.148 0.000136 ***\nX           2.973e-01  7.559e-03  39.328  < 2e-16 ***\n---\nSignif. codes:  0 ‘***’ 0.001 ‘**’ 0.01 ‘*’ 0.05 ‘.’ 0.1 ‘ ’ 1\n\nResidual standard error: 143.2 on 48 degrees of freedom\nMultiple R-squared:  0.9699,\tAdjusted R-squared:  0.9693 \nF-statistic:  1547 on 1 and 48 DF,  p-value: < 2.2e-16\n"
          },
          "metadata": {}
        }
      ]
    },
    {
      "cell_type": "code",
      "source": [
        "anova"
      ],
      "metadata": {
        "execution": {
          "iopub.status.busy": "2024-07-31T22:30:51.150089Z",
          "iopub.execute_input": "2024-07-31T22:30:51.151557Z",
          "iopub.status.idle": "2024-07-31T22:30:51.175189Z"
        },
        "trusted": true,
        "id": "DR7ifho8BBG0",
        "outputId": "55622649-c30c-4b15-b47e-69bb28f15782"
      },
      "execution_count": null,
      "outputs": [
        {
          "output_type": "display_data",
          "data": {
            "text/html": "<table class=\"dataframe\">\n<caption>A anova: 2 × 5</caption>\n<thead>\n\t<tr><th></th><th scope=col>Df</th><th scope=col>Sum Sq</th><th scope=col>Mean Sq</th><th scope=col>F value</th><th scope=col>Pr(&gt;F)</th></tr>\n\t<tr><th></th><th scope=col>&lt;int&gt;</th><th scope=col>&lt;dbl&gt;</th><th scope=col>&lt;dbl&gt;</th><th scope=col>&lt;dbl&gt;</th><th scope=col>&lt;dbl&gt;</th></tr>\n</thead>\n<tbody>\n\t<tr><th scope=row>X</th><td> 1</td><td>31739163</td><td>31739163.24</td><td>1546.702</td><td>3.555543e-38</td></tr>\n\t<tr><th scope=row>Residuals</th><td>48</td><td>  984986</td><td>   20520.54</td><td>      NA</td><td>          NA</td></tr>\n</tbody>\n</table>\n",
            "text/markdown": "\nA anova: 2 × 5\n\n| <!--/--> | Df &lt;int&gt; | Sum Sq &lt;dbl&gt; | Mean Sq &lt;dbl&gt; | F value &lt;dbl&gt; | Pr(&gt;F) &lt;dbl&gt; |\n|---|---|---|---|---|---|\n| X |  1 | 31739163 | 31739163.24 | 1546.702 | 3.555543e-38 |\n| Residuals | 48 |   984986 |    20520.54 |       NA |           NA |\n\n",
            "text/latex": "A anova: 2 × 5\n\\begin{tabular}{r|lllll}\n  & Df & Sum Sq & Mean Sq & F value & Pr(>F)\\\\\n  & <int> & <dbl> & <dbl> & <dbl> & <dbl>\\\\\n\\hline\n\tX &  1 & 31739163 & 31739163.24 & 1546.702 & 3.555543e-38\\\\\n\tResiduals & 48 &   984986 &    20520.54 &       NA &           NA\\\\\n\\end{tabular}\n",
            "text/plain": "          Df Sum Sq   Mean Sq     F value  Pr(>F)      \nX          1 31739163 31739163.24 1546.702 3.555543e-38\nResiduals 48   984986    20520.54       NA           NA"
          },
          "metadata": {}
        }
      ]
    },
    {
      "cell_type": "markdown",
      "source": [
        "---"
      ],
      "metadata": {
        "id": "HTW4vH03td-E"
      }
    },
    {
      "cell_type": "markdown",
      "source": [
        "### Teste F"
      ],
      "metadata": {
        "id": "fEAeu55gtd-E"
      }
    },
    {
      "cell_type": "markdown",
      "source": [
        "O teste F também é uma ferramenta para testar a significância na regressão. Baseado na distribuição F de probabilidade, o teste F é utilizado para verificar a significância global na regressão, isto é, em uma regressão múltipla, onde existe mais de uma variável independente, o teste F verifica a nulidade de todos os parâmetros do modelo conjuntamente.\n",
        "\n",
        "Em nosso caso (regressão linear simples) ele fornece a mesma conclusão obtida com o teste t.\n",
        "\n",
        "**Hipóteses:**\n",
        "\n",
        "## $H_0: \\beta_2 = 0$\n",
        "## $H_0: \\beta_2 \\neq 0$\n",
        "\n",
        "**Estatística de teste:**\n",
        "\n",
        "# $$F = \\frac{\\frac{SQR}{k}}{\\frac{SQE}{n-k-1}}$$\n",
        "\n",
        "Onde,\n",
        "\n",
        "$SQR$ - soma dos quadrados da regressão\n",
        "\n",
        "$SQE$ - soma dos quadrados dos erros\n",
        "\n",
        "$k$ - total de variáveis independentes ($X$)\n",
        "\n",
        "**Regras de rejeição de $H_0$:**\n",
        "\n",
        "**Critério do valor crítico** $\\rightarrow$ Rejeitar se $F \\geq F_{\\alpha}$\n",
        "\n",
        "Onde,\n",
        "\n",
        "$F_{\\alpha}$ - baseia-se na distribuição F com $k$ graus de liberdade no numerador e $n-k-1$ no denominador.\n",
        "\n",
        "**Critério do p-valor** $\\rightarrow$ Rejeitar se $p-valor \\leq \\alpha$"
      ],
      "metadata": {
        "id": "boZIhWUmtd-E"
      }
    },
    {
      "cell_type": "markdown",
      "source": [
        "### Calculando a estatística de teste ($F$)"
      ],
      "metadata": {
        "id": "gT3WGPkNtd-E"
      }
    },
    {
      "cell_type": "code",
      "source": [
        "anova"
      ],
      "metadata": {
        "execution": {
          "iopub.status.busy": "2024-07-31T22:30:51.177751Z",
          "iopub.execute_input": "2024-07-31T22:30:51.179194Z",
          "iopub.status.idle": "2024-07-31T22:30:51.201677Z"
        },
        "trusted": true,
        "id": "usSXU-HWBBG1",
        "outputId": "d10bbd59-e511-4d94-fb7c-a231c0c29eb7"
      },
      "execution_count": null,
      "outputs": [
        {
          "output_type": "display_data",
          "data": {
            "text/html": "<table class=\"dataframe\">\n<caption>A anova: 2 × 5</caption>\n<thead>\n\t<tr><th></th><th scope=col>Df</th><th scope=col>Sum Sq</th><th scope=col>Mean Sq</th><th scope=col>F value</th><th scope=col>Pr(&gt;F)</th></tr>\n\t<tr><th></th><th scope=col>&lt;int&gt;</th><th scope=col>&lt;dbl&gt;</th><th scope=col>&lt;dbl&gt;</th><th scope=col>&lt;dbl&gt;</th><th scope=col>&lt;dbl&gt;</th></tr>\n</thead>\n<tbody>\n\t<tr><th scope=row>X</th><td> 1</td><td>31739163</td><td>31739163.24</td><td>1546.702</td><td>3.555543e-38</td></tr>\n\t<tr><th scope=row>Residuals</th><td>48</td><td>  984986</td><td>   20520.54</td><td>      NA</td><td>          NA</td></tr>\n</tbody>\n</table>\n",
            "text/markdown": "\nA anova: 2 × 5\n\n| <!--/--> | Df &lt;int&gt; | Sum Sq &lt;dbl&gt; | Mean Sq &lt;dbl&gt; | F value &lt;dbl&gt; | Pr(&gt;F) &lt;dbl&gt; |\n|---|---|---|---|---|---|\n| X |  1 | 31739163 | 31739163.24 | 1546.702 | 3.555543e-38 |\n| Residuals | 48 |   984986 |    20520.54 |       NA |           NA |\n\n",
            "text/latex": "A anova: 2 × 5\n\\begin{tabular}{r|lllll}\n  & Df & Sum Sq & Mean Sq & F value & Pr(>F)\\\\\n  & <int> & <dbl> & <dbl> & <dbl> & <dbl>\\\\\n\\hline\n\tX &  1 & 31739163 & 31739163.24 & 1546.702 & 3.555543e-38\\\\\n\tResiduals & 48 &   984986 &    20520.54 &       NA &           NA\\\\\n\\end{tabular}\n",
            "text/plain": "          Df Sum Sq   Mean Sq     F value  Pr(>F)      \nX          1 31739163 31739163.24 1546.702 3.555543e-38\nResiduals 48   984986    20520.54       NA           NA"
          },
          "metadata": {}
        }
      ]
    },
    {
      "cell_type": "code",
      "source": [
        "F <- anova['X', 'Mean Sq'] / anova['Residuals', 'Mean Sq']\n",
        "F"
      ],
      "metadata": {
        "colab": {
          "base_uri": "https://localhost:8080/",
          "height": 35
        },
        "id": "9vtS-VQ2td-I",
        "outputId": "499ecc2b-55b5-4bac-e7e7-8c96cd5ad8c4",
        "execution": {
          "iopub.status.busy": "2024-07-31T22:30:51.204555Z",
          "iopub.execute_input": "2024-07-31T22:30:51.206059Z",
          "iopub.status.idle": "2024-07-31T22:30:51.223367Z"
        },
        "trusted": true
      },
      "execution_count": null,
      "outputs": [
        {
          "output_type": "display_data",
          "data": {
            "text/html": "1546.70196084825",
            "text/markdown": "1546.70196084825",
            "text/latex": "1546.70196084825",
            "text/plain": "[1] 1546.702"
          },
          "metadata": {}
        }
      ]
    },
    {
      "cell_type": "code",
      "source": [
        "anova['X', 'F value']"
      ],
      "metadata": {
        "colab": {
          "base_uri": "https://localhost:8080/",
          "height": 35
        },
        "id": "w8yfK5k1td-K",
        "outputId": "1db698d3-dc70-42a0-f5bc-2018f01e9d10",
        "execution": {
          "iopub.status.busy": "2024-07-31T22:30:51.226128Z",
          "iopub.execute_input": "2024-07-31T22:30:51.227625Z",
          "iopub.status.idle": "2024-07-31T22:30:51.249497Z"
        },
        "trusted": true
      },
      "execution_count": null,
      "outputs": [
        {
          "output_type": "display_data",
          "data": {
            "text/html": "1546.70196084825",
            "text/markdown": "1546.70196084825",
            "text/latex": "1546.70196084825",
            "text/plain": "[1] 1546.702"
          },
          "metadata": {}
        }
      ]
    },
    {
      "cell_type": "markdown",
      "source": [
        "### Obtendo o p-valor"
      ],
      "metadata": {
        "id": "OEzKwQYztd-K"
      }
    },
    {
      "cell_type": "code",
      "source": [
        "p_valor <- anova['X', 'Pr(>F)']\n",
        "p_valor"
      ],
      "metadata": {
        "colab": {
          "base_uri": "https://localhost:8080/",
          "height": 35
        },
        "id": "XTl2Y4u5td-K",
        "outputId": "15bac85a-aca4-45e9-dedd-fb6b1f700c1d",
        "execution": {
          "iopub.status.busy": "2024-07-31T22:30:51.252813Z",
          "iopub.execute_input": "2024-07-31T22:30:51.254378Z",
          "iopub.status.idle": "2024-07-31T22:30:51.272424Z"
        },
        "trusted": true
      },
      "execution_count": null,
      "outputs": [
        {
          "output_type": "display_data",
          "data": {
            "text/html": "3.55554322858604e-38",
            "text/markdown": "3.55554322858604e-38",
            "text/latex": "3.55554322858604e-38",
            "text/plain": "[1] 3.555543e-38"
          },
          "metadata": {}
        }
      ]
    },
    {
      "cell_type": "code",
      "source": [
        "p_valor <= significancia"
      ],
      "metadata": {
        "colab": {
          "base_uri": "https://localhost:8080/",
          "height": 35
        },
        "id": "TmkXMaKktd-P",
        "outputId": "ca089d23-7d19-4cd6-ef9e-bd0c721557ae",
        "execution": {
          "iopub.status.busy": "2024-07-31T22:30:51.275155Z",
          "iopub.execute_input": "2024-07-31T22:30:51.276614Z",
          "iopub.status.idle": "2024-07-31T22:30:51.292021Z"
        },
        "trusted": true
      },
      "execution_count": null,
      "outputs": [
        {
          "output_type": "display_data",
          "data": {
            "text/html": "TRUE",
            "text/markdown": "TRUE",
            "text/latex": "TRUE",
            "text/plain": "[1] TRUE"
          },
          "metadata": {}
        }
      ]
    }
  ]
}